{
 "cells": [
  {
   "cell_type": "code",
   "execution_count": null,
   "id": "fa951834-5619-40af-9a68-4f325086dab5",
   "metadata": {},
   "outputs": [],
   "source": []
  },
  {
   "cell_type": "code",
   "execution_count": 217,
   "id": "2c1bd74a-3163-443b-9d44-a7f22d54b683",
   "metadata": {},
   "outputs": [],
   "source": [
    "import pandas as pd\n",
    "import numpy as np\n",
    "import seaborn as sn\n",
    "import matplotlib.pyplot as plt\n",
    "from sklearn.metrics import precision_score, recall_score, f1_score, accuracy_score,classification_report\n",
    "\n",
    "from sklearn.model_selection import train_test_split\n",
    "from sklearn.preprocessing import StandardScaler, OneHotEncoder\n",
    "from sklearn.metrics import confusion_matrix"
   ]
  },
  {
   "cell_type": "code",
   "execution_count": 243,
   "id": "dd50eb97-7805-4bfc-b837-340155981729",
   "metadata": {},
   "outputs": [],
   "source": [
    "df = pd.read_csv('ravdess.csv')\n",
    "X = df.iloc[:,1:-1]\n",
    "Y = df.iloc[:,-1:]"
   ]
  },
  {
   "cell_type": "code",
   "execution_count": 244,
   "id": "84401053-7f9c-46de-9c50-6f1d38e0357c",
   "metadata": {},
   "outputs": [
    {
     "data": {
      "text/html": [
       "<div>\n",
       "<style scoped>\n",
       "    .dataframe tbody tr th:only-of-type {\n",
       "        vertical-align: middle;\n",
       "    }\n",
       "\n",
       "    .dataframe tbody tr th {\n",
       "        vertical-align: top;\n",
       "    }\n",
       "\n",
       "    .dataframe thead th {\n",
       "        text-align: right;\n",
       "    }\n",
       "</style>\n",
       "<table border=\"1\" class=\"dataframe\">\n",
       "  <thead>\n",
       "    <tr style=\"text-align: right;\">\n",
       "      <th></th>\n",
       "      <th>0</th>\n",
       "      <th>1</th>\n",
       "      <th>2</th>\n",
       "      <th>3</th>\n",
       "      <th>4</th>\n",
       "      <th>5</th>\n",
       "      <th>6</th>\n",
       "      <th>7</th>\n",
       "      <th>8</th>\n",
       "      <th>9</th>\n",
       "      <th>...</th>\n",
       "      <th>152</th>\n",
       "      <th>153</th>\n",
       "      <th>154</th>\n",
       "      <th>155</th>\n",
       "      <th>156</th>\n",
       "      <th>157</th>\n",
       "      <th>158</th>\n",
       "      <th>159</th>\n",
       "      <th>160</th>\n",
       "      <th>161</th>\n",
       "    </tr>\n",
       "  </thead>\n",
       "  <tbody>\n",
       "    <tr>\n",
       "      <th>0</th>\n",
       "      <td>0.224306</td>\n",
       "      <td>0.664190</td>\n",
       "      <td>0.693038</td>\n",
       "      <td>0.665390</td>\n",
       "      <td>0.673116</td>\n",
       "      <td>0.696442</td>\n",
       "      <td>0.684787</td>\n",
       "      <td>0.706183</td>\n",
       "      <td>0.748844</td>\n",
       "      <td>0.782297</td>\n",
       "      <td>...</td>\n",
       "      <td>8.778047e-17</td>\n",
       "      <td>6.888786e-17</td>\n",
       "      <td>6.993841e-17</td>\n",
       "      <td>7.601734e-17</td>\n",
       "      <td>7.305700e-17</td>\n",
       "      <td>6.833248e-17</td>\n",
       "      <td>7.254372e-17</td>\n",
       "      <td>7.962737e-17</td>\n",
       "      <td>7.395194e-17</td>\n",
       "      <td>7.358765e-17</td>\n",
       "    </tr>\n",
       "    <tr>\n",
       "      <th>1</th>\n",
       "      <td>0.284351</td>\n",
       "      <td>0.744315</td>\n",
       "      <td>0.799083</td>\n",
       "      <td>0.779027</td>\n",
       "      <td>0.777929</td>\n",
       "      <td>0.788401</td>\n",
       "      <td>0.707030</td>\n",
       "      <td>0.673835</td>\n",
       "      <td>0.716503</td>\n",
       "      <td>0.741602</td>\n",
       "      <td>...</td>\n",
       "      <td>5.747496e-06</td>\n",
       "      <td>5.998793e-06</td>\n",
       "      <td>6.341882e-06</td>\n",
       "      <td>6.158174e-06</td>\n",
       "      <td>6.040658e-06</td>\n",
       "      <td>6.382624e-06</td>\n",
       "      <td>6.590600e-06</td>\n",
       "      <td>6.014139e-06</td>\n",
       "      <td>6.107160e-06</td>\n",
       "      <td>5.836667e-06</td>\n",
       "    </tr>\n",
       "    <tr>\n",
       "      <th>2</th>\n",
       "      <td>0.169383</td>\n",
       "      <td>0.579495</td>\n",
       "      <td>0.662042</td>\n",
       "      <td>0.674849</td>\n",
       "      <td>0.631609</td>\n",
       "      <td>0.623019</td>\n",
       "      <td>0.687452</td>\n",
       "      <td>0.671907</td>\n",
       "      <td>0.692694</td>\n",
       "      <td>0.712601</td>\n",
       "      <td>...</td>\n",
       "      <td>2.503228e-15</td>\n",
       "      <td>1.885160e-15</td>\n",
       "      <td>1.743947e-15</td>\n",
       "      <td>1.590055e-15</td>\n",
       "      <td>1.477827e-15</td>\n",
       "      <td>1.528373e-15</td>\n",
       "      <td>1.689925e-15</td>\n",
       "      <td>1.679742e-15</td>\n",
       "      <td>1.602365e-15</td>\n",
       "      <td>1.500745e-15</td>\n",
       "    </tr>\n",
       "    <tr>\n",
       "      <th>3</th>\n",
       "      <td>0.196533</td>\n",
       "      <td>0.652948</td>\n",
       "      <td>0.692924</td>\n",
       "      <td>0.664361</td>\n",
       "      <td>0.648762</td>\n",
       "      <td>0.686783</td>\n",
       "      <td>0.688136</td>\n",
       "      <td>0.683010</td>\n",
       "      <td>0.735986</td>\n",
       "      <td>0.759067</td>\n",
       "      <td>...</td>\n",
       "      <td>8.858628e-17</td>\n",
       "      <td>7.385022e-17</td>\n",
       "      <td>6.953341e-17</td>\n",
       "      <td>7.445123e-17</td>\n",
       "      <td>7.997667e-17</td>\n",
       "      <td>7.754530e-17</td>\n",
       "      <td>8.110750e-17</td>\n",
       "      <td>7.647289e-17</td>\n",
       "      <td>7.359221e-17</td>\n",
       "      <td>7.287654e-17</td>\n",
       "    </tr>\n",
       "    <tr>\n",
       "      <th>4</th>\n",
       "      <td>0.301604</td>\n",
       "      <td>0.760249</td>\n",
       "      <td>0.804322</td>\n",
       "      <td>0.790674</td>\n",
       "      <td>0.760021</td>\n",
       "      <td>0.781235</td>\n",
       "      <td>0.719090</td>\n",
       "      <td>0.647474</td>\n",
       "      <td>0.713795</td>\n",
       "      <td>0.748500</td>\n",
       "      <td>...</td>\n",
       "      <td>3.779440e-05</td>\n",
       "      <td>3.702991e-05</td>\n",
       "      <td>3.877967e-05</td>\n",
       "      <td>3.796563e-05</td>\n",
       "      <td>3.779248e-05</td>\n",
       "      <td>3.834673e-05</td>\n",
       "      <td>3.640969e-05</td>\n",
       "      <td>3.681771e-05</td>\n",
       "      <td>3.691485e-05</td>\n",
       "      <td>3.721758e-05</td>\n",
       "    </tr>\n",
       "  </tbody>\n",
       "</table>\n",
       "<p>5 rows × 162 columns</p>\n",
       "</div>"
      ],
      "text/plain": [
       "          0         1         2         3         4         5         6  \\\n",
       "0  0.224306  0.664190  0.693038  0.665390  0.673116  0.696442  0.684787   \n",
       "1  0.284351  0.744315  0.799083  0.779027  0.777929  0.788401  0.707030   \n",
       "2  0.169383  0.579495  0.662042  0.674849  0.631609  0.623019  0.687452   \n",
       "3  0.196533  0.652948  0.692924  0.664361  0.648762  0.686783  0.688136   \n",
       "4  0.301604  0.760249  0.804322  0.790674  0.760021  0.781235  0.719090   \n",
       "\n",
       "          7         8         9  ...           152           153  \\\n",
       "0  0.706183  0.748844  0.782297  ...  8.778047e-17  6.888786e-17   \n",
       "1  0.673835  0.716503  0.741602  ...  5.747496e-06  5.998793e-06   \n",
       "2  0.671907  0.692694  0.712601  ...  2.503228e-15  1.885160e-15   \n",
       "3  0.683010  0.735986  0.759067  ...  8.858628e-17  7.385022e-17   \n",
       "4  0.647474  0.713795  0.748500  ...  3.779440e-05  3.702991e-05   \n",
       "\n",
       "            154           155           156           157           158  \\\n",
       "0  6.993841e-17  7.601734e-17  7.305700e-17  6.833248e-17  7.254372e-17   \n",
       "1  6.341882e-06  6.158174e-06  6.040658e-06  6.382624e-06  6.590600e-06   \n",
       "2  1.743947e-15  1.590055e-15  1.477827e-15  1.528373e-15  1.689925e-15   \n",
       "3  6.953341e-17  7.445123e-17  7.997667e-17  7.754530e-17  8.110750e-17   \n",
       "4  3.877967e-05  3.796563e-05  3.779248e-05  3.834673e-05  3.640969e-05   \n",
       "\n",
       "            159           160           161  \n",
       "0  7.962737e-17  7.395194e-17  7.358765e-17  \n",
       "1  6.014139e-06  6.107160e-06  5.836667e-06  \n",
       "2  1.679742e-15  1.602365e-15  1.500745e-15  \n",
       "3  7.647289e-17  7.359221e-17  7.287654e-17  \n",
       "4  3.681771e-05  3.691485e-05  3.721758e-05  \n",
       "\n",
       "[5 rows x 162 columns]"
      ]
     },
     "execution_count": 244,
     "metadata": {},
     "output_type": "execute_result"
    }
   ],
   "source": [
    "X.head()"
   ]
  },
  {
   "cell_type": "code",
   "execution_count": 245,
   "id": "740c6166-9fda-4c7c-9fd0-a75c01e3f958",
   "metadata": {},
   "outputs": [
    {
     "data": {
      "text/html": [
       "<div>\n",
       "<style scoped>\n",
       "    .dataframe tbody tr th:only-of-type {\n",
       "        vertical-align: middle;\n",
       "    }\n",
       "\n",
       "    .dataframe tbody tr th {\n",
       "        vertical-align: top;\n",
       "    }\n",
       "\n",
       "    .dataframe thead th {\n",
       "        text-align: right;\n",
       "    }\n",
       "</style>\n",
       "<table border=\"1\" class=\"dataframe\">\n",
       "  <thead>\n",
       "    <tr style=\"text-align: right;\">\n",
       "      <th></th>\n",
       "      <th>0</th>\n",
       "      <th>1</th>\n",
       "      <th>2</th>\n",
       "      <th>3</th>\n",
       "      <th>4</th>\n",
       "      <th>5</th>\n",
       "      <th>6</th>\n",
       "      <th>7</th>\n",
       "      <th>8</th>\n",
       "      <th>9</th>\n",
       "      <th>...</th>\n",
       "      <th>152</th>\n",
       "      <th>153</th>\n",
       "      <th>154</th>\n",
       "      <th>155</th>\n",
       "      <th>156</th>\n",
       "      <th>157</th>\n",
       "      <th>158</th>\n",
       "      <th>159</th>\n",
       "      <th>160</th>\n",
       "      <th>161</th>\n",
       "    </tr>\n",
       "  </thead>\n",
       "  <tbody>\n",
       "    <tr>\n",
       "      <th>0</th>\n",
       "      <td>0.224306</td>\n",
       "      <td>0.664190</td>\n",
       "      <td>0.693038</td>\n",
       "      <td>0.665390</td>\n",
       "      <td>0.673116</td>\n",
       "      <td>0.696442</td>\n",
       "      <td>0.684787</td>\n",
       "      <td>0.706183</td>\n",
       "      <td>0.748844</td>\n",
       "      <td>0.782297</td>\n",
       "      <td>...</td>\n",
       "      <td>8.778047e-17</td>\n",
       "      <td>6.888786e-17</td>\n",
       "      <td>6.993841e-17</td>\n",
       "      <td>7.601734e-17</td>\n",
       "      <td>7.305700e-17</td>\n",
       "      <td>6.833248e-17</td>\n",
       "      <td>7.254372e-17</td>\n",
       "      <td>7.962737e-17</td>\n",
       "      <td>7.395194e-17</td>\n",
       "      <td>7.358765e-17</td>\n",
       "    </tr>\n",
       "    <tr>\n",
       "      <th>1</th>\n",
       "      <td>0.284351</td>\n",
       "      <td>0.744315</td>\n",
       "      <td>0.799083</td>\n",
       "      <td>0.779027</td>\n",
       "      <td>0.777929</td>\n",
       "      <td>0.788401</td>\n",
       "      <td>0.707030</td>\n",
       "      <td>0.673835</td>\n",
       "      <td>0.716503</td>\n",
       "      <td>0.741602</td>\n",
       "      <td>...</td>\n",
       "      <td>5.747496e-06</td>\n",
       "      <td>5.998793e-06</td>\n",
       "      <td>6.341882e-06</td>\n",
       "      <td>6.158174e-06</td>\n",
       "      <td>6.040658e-06</td>\n",
       "      <td>6.382624e-06</td>\n",
       "      <td>6.590600e-06</td>\n",
       "      <td>6.014139e-06</td>\n",
       "      <td>6.107160e-06</td>\n",
       "      <td>5.836667e-06</td>\n",
       "    </tr>\n",
       "    <tr>\n",
       "      <th>2</th>\n",
       "      <td>0.169383</td>\n",
       "      <td>0.579495</td>\n",
       "      <td>0.662042</td>\n",
       "      <td>0.674849</td>\n",
       "      <td>0.631609</td>\n",
       "      <td>0.623019</td>\n",
       "      <td>0.687452</td>\n",
       "      <td>0.671907</td>\n",
       "      <td>0.692694</td>\n",
       "      <td>0.712601</td>\n",
       "      <td>...</td>\n",
       "      <td>2.503228e-15</td>\n",
       "      <td>1.885160e-15</td>\n",
       "      <td>1.743947e-15</td>\n",
       "      <td>1.590055e-15</td>\n",
       "      <td>1.477827e-15</td>\n",
       "      <td>1.528373e-15</td>\n",
       "      <td>1.689925e-15</td>\n",
       "      <td>1.679742e-15</td>\n",
       "      <td>1.602365e-15</td>\n",
       "      <td>1.500745e-15</td>\n",
       "    </tr>\n",
       "    <tr>\n",
       "      <th>3</th>\n",
       "      <td>0.196533</td>\n",
       "      <td>0.652948</td>\n",
       "      <td>0.692924</td>\n",
       "      <td>0.664361</td>\n",
       "      <td>0.648762</td>\n",
       "      <td>0.686783</td>\n",
       "      <td>0.688136</td>\n",
       "      <td>0.683010</td>\n",
       "      <td>0.735986</td>\n",
       "      <td>0.759067</td>\n",
       "      <td>...</td>\n",
       "      <td>8.858628e-17</td>\n",
       "      <td>7.385022e-17</td>\n",
       "      <td>6.953341e-17</td>\n",
       "      <td>7.445123e-17</td>\n",
       "      <td>7.997667e-17</td>\n",
       "      <td>7.754530e-17</td>\n",
       "      <td>8.110750e-17</td>\n",
       "      <td>7.647289e-17</td>\n",
       "      <td>7.359221e-17</td>\n",
       "      <td>7.287654e-17</td>\n",
       "    </tr>\n",
       "    <tr>\n",
       "      <th>4</th>\n",
       "      <td>0.301604</td>\n",
       "      <td>0.760249</td>\n",
       "      <td>0.804322</td>\n",
       "      <td>0.790674</td>\n",
       "      <td>0.760021</td>\n",
       "      <td>0.781235</td>\n",
       "      <td>0.719090</td>\n",
       "      <td>0.647474</td>\n",
       "      <td>0.713795</td>\n",
       "      <td>0.748500</td>\n",
       "      <td>...</td>\n",
       "      <td>3.779440e-05</td>\n",
       "      <td>3.702991e-05</td>\n",
       "      <td>3.877967e-05</td>\n",
       "      <td>3.796563e-05</td>\n",
       "      <td>3.779248e-05</td>\n",
       "      <td>3.834673e-05</td>\n",
       "      <td>3.640969e-05</td>\n",
       "      <td>3.681771e-05</td>\n",
       "      <td>3.691485e-05</td>\n",
       "      <td>3.721758e-05</td>\n",
       "    </tr>\n",
       "  </tbody>\n",
       "</table>\n",
       "<p>5 rows × 162 columns</p>\n",
       "</div>"
      ],
      "text/plain": [
       "          0         1         2         3         4         5         6  \\\n",
       "0  0.224306  0.664190  0.693038  0.665390  0.673116  0.696442  0.684787   \n",
       "1  0.284351  0.744315  0.799083  0.779027  0.777929  0.788401  0.707030   \n",
       "2  0.169383  0.579495  0.662042  0.674849  0.631609  0.623019  0.687452   \n",
       "3  0.196533  0.652948  0.692924  0.664361  0.648762  0.686783  0.688136   \n",
       "4  0.301604  0.760249  0.804322  0.790674  0.760021  0.781235  0.719090   \n",
       "\n",
       "          7         8         9  ...           152           153  \\\n",
       "0  0.706183  0.748844  0.782297  ...  8.778047e-17  6.888786e-17   \n",
       "1  0.673835  0.716503  0.741602  ...  5.747496e-06  5.998793e-06   \n",
       "2  0.671907  0.692694  0.712601  ...  2.503228e-15  1.885160e-15   \n",
       "3  0.683010  0.735986  0.759067  ...  8.858628e-17  7.385022e-17   \n",
       "4  0.647474  0.713795  0.748500  ...  3.779440e-05  3.702991e-05   \n",
       "\n",
       "            154           155           156           157           158  \\\n",
       "0  6.993841e-17  7.601734e-17  7.305700e-17  6.833248e-17  7.254372e-17   \n",
       "1  6.341882e-06  6.158174e-06  6.040658e-06  6.382624e-06  6.590600e-06   \n",
       "2  1.743947e-15  1.590055e-15  1.477827e-15  1.528373e-15  1.689925e-15   \n",
       "3  6.953341e-17  7.445123e-17  7.997667e-17  7.754530e-17  8.110750e-17   \n",
       "4  3.877967e-05  3.796563e-05  3.779248e-05  3.834673e-05  3.640969e-05   \n",
       "\n",
       "            159           160           161  \n",
       "0  7.962737e-17  7.395194e-17  7.358765e-17  \n",
       "1  6.014139e-06  6.107160e-06  5.836667e-06  \n",
       "2  1.679742e-15  1.602365e-15  1.500745e-15  \n",
       "3  7.647289e-17  7.359221e-17  7.287654e-17  \n",
       "4  3.681771e-05  3.691485e-05  3.721758e-05  \n",
       "\n",
       "[5 rows x 162 columns]"
      ]
     },
     "execution_count": 245,
     "metadata": {},
     "output_type": "execute_result"
    }
   ],
   "source": [
    "Y.head()\n",
    "unq = np.unique(Y)\n",
    "X.head()"
   ]
  },
  {
   "cell_type": "code",
   "execution_count": 246,
   "id": "410094e1-16d8-4152-8f2d-04b963c5ba00",
   "metadata": {},
   "outputs": [
    {
     "name": "stdout",
     "output_type": "stream",
     "text": [
      "<class 'pandas.core.frame.DataFrame'>\n",
      "<class 'pandas.core.frame.DataFrame'>\n"
     ]
    }
   ],
   "source": [
    "print(type(X))\n",
    "print(type(Y))\n"
   ]
  },
  {
   "cell_type": "code",
   "execution_count": 247,
   "id": "444515e6-08fc-4d59-9be1-c607bfbf49fb",
   "metadata": {},
   "outputs": [],
   "source": [
    "x_train,x_test,y_train,y_test = train_test_split(X,Y,random_state=0,shuffle=True)"
   ]
  },
  {
   "cell_type": "code",
   "execution_count": 248,
   "id": "11bec973-bc7c-4364-b1c8-8073cc161699",
   "metadata": {},
   "outputs": [
    {
     "name": "stdout",
     "output_type": "stream",
     "text": [
      "(3240, 162)\n",
      "(1080, 162)\n",
      "(3240, 1)\n",
      "(1080, 1)\n"
     ]
    }
   ],
   "source": [
    "print(x_train.shape)\n",
    "print(x_test.shape)\n",
    "print(y_train.shape)\n",
    "print(y_test.shape)\n"
   ]
  },
  {
   "cell_type": "markdown",
   "id": "65dedb8e-34f6-4963-a909-eab09a745722",
   "metadata": {},
   "source": [
    "## SVM"
   ]
  },
  {
   "cell_type": "code",
   "execution_count": 249,
   "id": "11478dc4-7fdd-41bd-badf-1e38152af42e",
   "metadata": {},
   "outputs": [],
   "source": [
    "from sklearn.svm import SVC"
   ]
  },
  {
   "cell_type": "code",
   "execution_count": 250,
   "id": "621c157d-1713-458d-bc73-ae7aaddcdd26",
   "metadata": {},
   "outputs": [],
   "source": [
    "Scaler = StandardScaler()\n",
    "x_train = Scaler.fit_transform(x_train)\n",
    "x_test = Scaler.transform(x_test)"
   ]
  },
  {
   "cell_type": "code",
   "execution_count": 251,
   "id": "41409637-72b3-448c-9692-f6853a72408d",
   "metadata": {},
   "outputs": [],
   "source": [
    "Model = SVC(kernel='linear',C=1,probability=True).fit(x_train,np.ravel(y_train))\n",
    "y_pred = Model.predict(x_test)"
   ]
  },
  {
   "cell_type": "code",
   "execution_count": 252,
   "id": "a9cdd93b-d288-479f-8674-75010cf4eb18",
   "metadata": {},
   "outputs": [
    {
     "data": {
      "text/plain": [
       "<AxesSubplot: >"
      ]
     },
     "execution_count": 252,
     "metadata": {},
     "output_type": "execute_result"
    },
    {
     "data": {
      "image/png": "[encoded data removed]",
      "text/plain": [
       "<Figure size 640x480 with 2 Axes>"
      ]
     },
     "metadata": {},
     "output_type": "display_data"
    }
   ],
   "source": [
    "mat = confusion_matrix(y_true=y_test,y_pred=y_pred)\n",
    "sn.heatmap(mat,annot=True,fmt=\"0.0f\",cmap='Blues')"
   ]
  },
  {
   "cell_type": "code",
   "execution_count": null,
   "id": "a1e136d8-d404-43e3-a602-a35a2b7990ce",
   "metadata": {},
   "outputs": [],
   "source": []
  },
  {
   "cell_type": "code",
   "execution_count": 253,
   "id": "9f8c61fb-4bed-4b21-b48e-1826f1d3e13f",
   "metadata": {},
   "outputs": [
    {
     "name": "stdout",
     "output_type": "stream",
     "text": [
      "Accuracy: 0.557\n",
      "Recall: 0.557\n",
      "Precision: 0.557\n"
     ]
    }
   ],
   "source": [
    "print(\"Accuracy: %0.3f\" % (accuracy_score(y_test,y_pred)))\n",
    "print('Recall: %.3f' % recall_score(y_test, y_pred,average='micro'))\n",
    "print('Precision: %.3f' % precision_score(y_test, y_pred,average='micro'))"
   ]
  },
  {
   "cell_type": "markdown",
   "id": "c0626409-a185-4837-b22a-5fbad17f62e7",
   "metadata": {},
   "source": [
    "## Random Foreset"
   ]
  },
  {
   "cell_type": "code",
   "execution_count": 254,
   "id": "06bfd045-df9d-4659-b2c5-9bc6a96ccfdc",
   "metadata": {},
   "outputs": [],
   "source": [
    "from sklearn.ensemble import RandomForestClassifier"
   ]
  },
  {
   "cell_type": "code",
   "execution_count": 255,
   "id": "cc91b3a7-a274-4c2f-a270-e34fce24fd1f",
   "metadata": {},
   "outputs": [
    {
     "data": {
      "text/html": [
       "<style>#sk-container-id-6 {color: black;background-color: white;}#sk-container-id-6 pre{padding: 0;}#sk-container-id-6 div.sk-toggleable {background-color: white;}#sk-container-id-6 label.sk-toggleable__label {cursor: pointer;display: block;width: 100%;margin-bottom: 0;padding: 0.3em;box-sizing: border-box;text-align: center;}#sk-container-id-6 label.sk-toggleable__label-arrow:before {content: \"▸\";float: left;margin-right: 0.25em;color: #696969;}#sk-container-id-6 label.sk-toggleable__label-arrow:hover:before {color: black;}#sk-container-id-6 div.sk-estimator:hover label.sk-toggleable__label-arrow:before {color: black;}#sk-container-id-6 div.sk-toggleable__content {max-height: 0;max-width: 0;overflow: hidden;text-align: left;background-color: #f0f8ff;}#sk-container-id-6 div.sk-toggleable__content pre {margin: 0.2em;color: black;border-radius: 0.25em;background-color: #f0f8ff;}#sk-container-id-6 input.sk-toggleable__control:checked~div.sk-toggleable__content {max-height: 200px;max-width: 100%;overflow: auto;}#sk-container-id-6 input.sk-toggleable__control:checked~label.sk-toggleable__label-arrow:before {content: \"▾\";}#sk-container-id-6 div.sk-estimator input.sk-toggleable__control:checked~label.sk-toggleable__label {background-color: #d4ebff;}#sk-container-id-6 div.sk-label input.sk-toggleable__control:checked~label.sk-toggleable__label {background-color: #d4ebff;}#sk-container-id-6 input.sk-hidden--visually {border: 0;clip: rect(1px 1px 1px 1px);clip: rect(1px, 1px, 1px, 1px);height: 1px;margin: -1px;overflow: hidden;padding: 0;position: absolute;width: 1px;}#sk-container-id-6 div.sk-estimator {font-family: monospace;background-color: #f0f8ff;border: 1px dotted black;border-radius: 0.25em;box-sizing: border-box;margin-bottom: 0.5em;}#sk-container-id-6 div.sk-estimator:hover {background-color: #d4ebff;}#sk-container-id-6 div.sk-parallel-item::after {content: \"\";width: 100%;border-bottom: 1px solid gray;flex-grow: 1;}#sk-container-id-6 div.sk-label:hover label.sk-toggleable__label {background-color: #d4ebff;}#sk-container-id-6 div.sk-serial::before {content: \"\";position: absolute;border-left: 1px solid gray;box-sizing: border-box;top: 0;bottom: 0;left: 50%;z-index: 0;}#sk-container-id-6 div.sk-serial {display: flex;flex-direction: column;align-items: center;background-color: white;padding-right: 0.2em;padding-left: 0.2em;position: relative;}#sk-container-id-6 div.sk-item {position: relative;z-index: 1;}#sk-container-id-6 div.sk-parallel {display: flex;align-items: stretch;justify-content: center;background-color: white;position: relative;}#sk-container-id-6 div.sk-item::before, #sk-container-id-6 div.sk-parallel-item::before {content: \"\";position: absolute;border-left: 1px solid gray;box-sizing: border-box;top: 0;bottom: 0;left: 50%;z-index: -1;}#sk-container-id-6 div.sk-parallel-item {display: flex;flex-direction: column;z-index: 1;position: relative;background-color: white;}#sk-container-id-6 div.sk-parallel-item:first-child::after {align-self: flex-end;width: 50%;}#sk-container-id-6 div.sk-parallel-item:last-child::after {align-self: flex-start;width: 50%;}#sk-container-id-6 div.sk-parallel-item:only-child::after {width: 0;}#sk-container-id-6 div.sk-dashed-wrapped {border: 1px dashed gray;margin: 0 0.4em 0.5em 0.4em;box-sizing: border-box;padding-bottom: 0.4em;background-color: white;}#sk-container-id-6 div.sk-label label {font-family: monospace;font-weight: bold;display: inline-block;line-height: 1.2em;}#sk-container-id-6 div.sk-label-container {text-align: center;}#sk-container-id-6 div.sk-container {/* jupyter's `normalize.less` sets `[hidden] { display: none; }` but bootstrap.min.css set `[hidden] { display: none !important; }` so we also need the `!important` here to be able to override the default hidden behavior on the sphinx rendered scikit-learn.org. See: https://github.com/scikit-learn/scikit-learn/issues/21755 */display: inline-block !important;position: relative;}#sk-container-id-6 div.sk-text-repr-fallback {display: none;}</style><div id=\"sk-container-id-6\" class=\"sk-top-container\"><div class=\"sk-text-repr-fallback\"><pre>RandomForestClassifier(random_state=0)</pre><b>In a Jupyter environment, please rerun this cell to show the HTML representation or trust the notebook. <br />On GitHub, the HTML representation is unable to render, please try loading this page with nbviewer.org.</b></div><div class=\"sk-container\" hidden><div class=\"sk-item\"><div class=\"sk-estimator sk-toggleable\"><input class=\"sk-toggleable__control sk-hidden--visually\" id=\"sk-estimator-id-6\" type=\"checkbox\" checked><label for=\"sk-estimator-id-6\" class=\"sk-toggleable__label sk-toggleable__label-arrow\">RandomForestClassifier</label><div class=\"sk-toggleable__content\"><pre>RandomForestClassifier(random_state=0)</pre></div></div></div></div></div>"
      ],
      "text/plain": [
       "RandomForestClassifier(random_state=0)"
      ]
     },
     "execution_count": 255,
     "metadata": {},
     "output_type": "execute_result"
    }
   ],
   "source": [
    "classifier = RandomForestClassifier(n_estimators = 100, random_state = 0) \n",
    "classifier.fit(x_train, np.ravel(y_train))   "
   ]
  },
  {
   "cell_type": "code",
   "execution_count": 256,
   "id": "44b22d80-e5e1-42fb-ba61-cf98e180867c",
   "metadata": {},
   "outputs": [],
   "source": [
    "y_pred = classifier.predict(x_test)"
   ]
  },
  {
   "cell_type": "code",
   "execution_count": 257,
   "id": "ee074a77-ab48-4009-ae47-17a6f80ec7c8",
   "metadata": {},
   "outputs": [
    {
     "name": "stdout",
     "output_type": "stream",
     "text": [
      "Accuracy: 0.706\n",
      "Recall: 0.706\n",
      "Precision: 0.706\n"
     ]
    }
   ],
   "source": [
    "print(\"Accuracy: %0.3f\" % (accuracy_score(y_test,y_pred)))\n",
    "print('Recall: %.3f' % recall_score(y_test, y_pred,average='micro'))\n",
    "print('Precision: %.3f' % precision_score(y_test, y_pred,average='micro'))"
   ]
  },
  {
   "cell_type": "code",
   "execution_count": 258,
   "id": "534cf239-efa6-4565-ba9b-6bf234f223d8",
   "metadata": {},
   "outputs": [
    {
     "data": {
      "text/plain": [
       "<AxesSubplot: >"
      ]
     },
     "execution_count": 258,
     "metadata": {},
     "output_type": "execute_result"
    },
    {
     "data": {
      "image/png": "[encoded data removed]",
      "text/plain": [
       "<Figure size 640x480 with 2 Axes>"
      ]
     },
     "metadata": {},
     "output_type": "display_data"
    }
   ],
   "source": [
    "mat = confusion_matrix(y_true=y_test,y_pred=y_pred)\n",
    "sn.heatmap(mat,annot=True,fmt=\"0.0f\",cmap='Blues')"
   ]
  },
  {
   "cell_type": "markdown",
   "id": "0c85eb08-0ab9-4949-9312-428126719c0b",
   "metadata": {},
   "source": [
    "## MLP"
   ]
  },
  {
   "cell_type": "code",
   "execution_count": 259,
   "id": "1168b91d-4d4b-48ee-99e1-08bddbf036a4",
   "metadata": {},
   "outputs": [],
   "source": [
    "from sklearn.neural_network import MLPClassifier"
   ]
  },
  {
   "cell_type": "code",
   "execution_count": null,
   "id": "377ed519-26f0-4bda-92e1-7e6b735518fc",
   "metadata": {},
   "outputs": [],
   "source": []
  },
  {
   "cell_type": "code",
   "execution_count": 260,
   "id": "2f815bc7-58e6-4bf3-b3a5-db39e2e2109e",
   "metadata": {},
   "outputs": [],
   "source": [
    "Model=MLPClassifier(alpha=0.01, batch_size=256, epsilon=1e-08, hidden_layer_sizes=(300,), learning_rate='adaptive', max_iter=500)\n",
    "Model.fit(x_train,np.ravel(y_train))\n",
    "y_pred=Model.predict(x_test)"
   ]
  },
  {
   "cell_type": "code",
   "execution_count": 261,
   "id": "7eaa590e-fec0-43fe-817a-9cab2dcba747",
   "metadata": {},
   "outputs": [
    {
     "name": "stdout",
     "output_type": "stream",
     "text": [
      "Accuracy: 0.740\n",
      "Recall: 0.740\n",
      "Precision: 0.740\n"
     ]
    }
   ],
   "source": [
    "print(\"Accuracy: %0.3f\" % (accuracy_score(y_test,y_pred)))\n",
    "print('Recall: %.3f' % recall_score(y_test, y_pred,average='micro'))\n",
    "print('Precision: %.3f' % precision_score(y_test, y_pred,average='micro'))"
   ]
  },
  {
   "cell_type": "code",
   "execution_count": 262,
   "id": "a256b9e8-e3f5-4796-accc-ccedaba1b350",
   "metadata": {},
   "outputs": [],
   "source": [
    "import pickle\n",
    "filename = 'mlp_model.sav'\n",
    "pickle.dump(Model, open(filename, 'wb'))"
   ]
  },
  {
   "cell_type": "markdown",
   "id": "901830bd-5bd8-4807-ba29-efb597514567",
   "metadata": {},
   "source": [
    "## CNN"
   ]
  },
  {
   "cell_type": "code",
   "execution_count": 189,
   "id": "e6c409e5-2ea2-4312-813e-5fbd3412b222",
   "metadata": {},
   "outputs": [],
   "source": [
    "import keras\n",
    "from keras.callbacks import ReduceLROnPlateau\n",
    "from keras.models import Sequential\n",
    "from keras.layers import Dense, Conv1D, MaxPooling1D, Flatten, Dropout, BatchNormalization\n",
    "from keras.utils import np_utils, to_categorical\n",
    "from keras.callbacks import ModelCheckpoint"
   ]
  },
  {
   "cell_type": "code",
   "execution_count": null,
   "id": "fe410cf1-f0a9-47a3-a171-259f3a27558a",
   "metadata": {},
   "outputs": [],
   "source": []
  },
  {
   "cell_type": "code",
   "execution_count": null,
   "id": "f49a7bd9-fd16-4c9a-a35a-fa55e9f906d6",
   "metadata": {},
   "outputs": [
    {
     "data": {
      "text/plain": [
       "((3240, 163, 1), (3240, 1), (1080, 163, 1), (1080, 1))"
      ]
     },
     "execution_count": 190,
     "metadata": {},
     "output_type": "execute_result"
    }
   ],
   "source": [
    "x_train = np.expand_dims(x_train, axis=2)\n",
    "x_test = np.expand_dims(x_test, axis=2)\n",
    "x_train.shape, y_train.shape, x_test.shape, y_test.shape"
   ]
  },
  {
   "cell_type": "code",
   "execution_count": 200,
   "id": "fdc30d9c-d0df-47d0-9e1d-839f699ef451",
   "metadata": {},
   "outputs": [
    {
     "name": "stdout",
     "output_type": "stream",
     "text": [
      "Model: \"sequential_8\"\n",
      "_________________________________________________________________\n",
      " Layer (type)                Output Shape              Param #   \n",
      "=================================================================\n",
      " conv1d_28 (Conv1D)          (None, 163, 256)          1536      \n",
      "                                                                 \n",
      " max_pooling1d_28 (MaxPoolin  (None, 82, 256)          0         \n",
      " g1D)                                                            \n",
      "                                                                 \n",
      " conv1d_29 (Conv1D)          (None, 82, 256)           327936    \n",
      "                                                                 \n",
      " max_pooling1d_29 (MaxPoolin  (None, 41, 256)          0         \n",
      " g1D)                                                            \n",
      "                                                                 \n",
      " conv1d_30 (Conv1D)          (None, 41, 128)           163968    \n",
      "                                                                 \n",
      " max_pooling1d_30 (MaxPoolin  (None, 21, 128)          0         \n",
      " g1D)                                                            \n",
      "                                                                 \n",
      " dropout_14 (Dropout)        (None, 21, 128)           0         \n",
      "                                                                 \n",
      " conv1d_31 (Conv1D)          (None, 21, 64)            41024     \n",
      "                                                                 \n",
      " max_pooling1d_31 (MaxPoolin  (None, 11, 64)           0         \n",
      " g1D)                                                            \n",
      "                                                                 \n",
      " flatten_7 (Flatten)         (None, 704)               0         \n",
      "                                                                 \n",
      " dense_14 (Dense)            (None, 32)                22560     \n",
      "                                                                 \n",
      " dropout_15 (Dropout)        (None, 32)                0         \n",
      "                                                                 \n",
      " dense_15 (Dense)            (None, 8)                 264       \n",
      "                                                                 \n",
      "=================================================================\n",
      "Total params: 557,288\n",
      "Trainable params: 557,288\n",
      "Non-trainable params: 0\n",
      "_________________________________________________________________\n"
     ]
    }
   ],
   "source": [
    "model=Sequential()\n",
    "model.add(Conv1D(256, kernel_size=5, strides=1, padding='same', activation='relu', input_shape=(x_train.shape[1], 1)))\n",
    "model.add(MaxPooling1D(pool_size=5, strides = 2, padding = 'same'))\n",
    "\n",
    "model.add(Conv1D(256, kernel_size=5, strides=1, padding='same', activation='relu'))\n",
    "model.add(MaxPooling1D(pool_size=5, strides = 2, padding = 'same'))\n",
    "\n",
    "model.add(Conv1D(128, kernel_size=5, strides=1, padding='same', activation='relu'))\n",
    "model.add(MaxPooling1D(pool_size=5, strides = 2, padding = 'same'))\n",
    "model.add(Dropout(0.2))\n",
    "\n",
    "model.add(Conv1D(64, kernel_size=5, strides=1, padding='same', activation='relu'))\n",
    "model.add(MaxPooling1D(pool_size=5, strides = 2, padding = 'same'))\n",
    "\n",
    "model.add(Flatten())\n",
    "model.add(Dense(units=32, activation='relu'))\n",
    "model.add(Dropout(0.3))\n",
    "\n",
    "model.add(Dense(units=8, activation='softmax'))\n",
    "model.compile(optimizer = 'adam' , loss = 'categorical_crossentropy' , metrics = ['accuracy'])\n",
    "\n",
    "model.summary()"
   ]
  },
  {
   "cell_type": "code",
   "execution_count": 213,
   "id": "52ea91d8-fb9d-4859-bda9-066512141b71",
   "metadata": {},
   "outputs": [
    {
     "name": "stdout",
     "output_type": "stream",
     "text": [
      "Epoch 1/50\n"
     ]
    },
    {
     "ename": "ValueError",
     "evalue": "in user code:\n\n    File \"C:\\Python310\\lib\\site-packages\\keras\\engine\\training.py\", line 1160, in train_function  *\n        return step_function(self, iterator)\n    File \"C:\\Python310\\lib\\site-packages\\keras\\engine\\training.py\", line 1146, in step_function  **\n        outputs = model.distribute_strategy.run(run_step, args=(data,))\n    File \"C:\\Python310\\lib\\site-packages\\keras\\engine\\training.py\", line 1135, in run_step  **\n        outputs = model.train_step(data)\n    File \"C:\\Python310\\lib\\site-packages\\keras\\engine\\training.py\", line 994, in train_step\n        loss = self.compute_loss(x, y, y_pred, sample_weight)\n    File \"C:\\Python310\\lib\\site-packages\\keras\\engine\\training.py\", line 1052, in compute_loss\n        return self.compiled_loss(\n    File \"C:\\Python310\\lib\\site-packages\\keras\\engine\\compile_utils.py\", line 265, in __call__\n        loss_value = loss_obj(y_t, y_p, sample_weight=sw)\n    File \"C:\\Python310\\lib\\site-packages\\keras\\losses.py\", line 152, in __call__\n        losses = call_fn(y_true, y_pred)\n    File \"C:\\Python310\\lib\\site-packages\\keras\\losses.py\", line 272, in call  **\n        return ag_fn(y_true, y_pred, **self._fn_kwargs)\n    File \"C:\\Python310\\lib\\site-packages\\keras\\losses.py\", line 1990, in categorical_crossentropy\n        return backend.categorical_crossentropy(\n    File \"C:\\Python310\\lib\\site-packages\\keras\\backend.py\", line 5529, in categorical_crossentropy\n        target.shape.assert_is_compatible_with(output.shape)\n\n    ValueError: Shapes (None, 1) and (None, 8) are incompatible\n",
     "output_type": "error",
     "traceback": [
      "\u001b[1;31m---------------------------------------------------------------------------\u001b[0m",
      "\u001b[1;31mValueError\u001b[0m                                Traceback (most recent call last)",
      "Cell \u001b[1;32mIn [213], line 2\u001b[0m\n\u001b[0;32m      1\u001b[0m rlrp \u001b[38;5;241m=\u001b[39m ReduceLROnPlateau(monitor\u001b[38;5;241m=\u001b[39m\u001b[38;5;124m'\u001b[39m\u001b[38;5;124mloss\u001b[39m\u001b[38;5;124m'\u001b[39m, factor\u001b[38;5;241m=\u001b[39m\u001b[38;5;241m0.4\u001b[39m, verbose\u001b[38;5;241m=\u001b[39m\u001b[38;5;241m0\u001b[39m, patience\u001b[38;5;241m=\u001b[39m\u001b[38;5;241m2\u001b[39m, min_lr\u001b[38;5;241m=\u001b[39m\u001b[38;5;241m0.0000001\u001b[39m)\n\u001b[1;32m----> 2\u001b[0m history\u001b[38;5;241m=\u001b[39m\u001b[43mmodel\u001b[49m\u001b[38;5;241;43m.\u001b[39;49m\u001b[43mfit\u001b[49m\u001b[43m(\u001b[49m\u001b[43mx_train\u001b[49m\u001b[43m,\u001b[49m\u001b[43m \u001b[49m\u001b[43my_train\u001b[49m\u001b[43m,\u001b[49m\u001b[43m \u001b[49m\u001b[43mbatch_size\u001b[49m\u001b[38;5;241;43m=\u001b[39;49m\u001b[38;5;241;43m64\u001b[39;49m\u001b[43m,\u001b[49m\u001b[43m \u001b[49m\u001b[43mepochs\u001b[49m\u001b[38;5;241;43m=\u001b[39;49m\u001b[38;5;241;43m50\u001b[39;49m\u001b[43m,\u001b[49m\u001b[43m \u001b[49m\u001b[43mvalidation_data\u001b[49m\u001b[38;5;241;43m=\u001b[39;49m\u001b[43m(\u001b[49m\u001b[43mx_test\u001b[49m\u001b[43m,\u001b[49m\u001b[43m \u001b[49m\u001b[43my_test\u001b[49m\u001b[43m)\u001b[49m\u001b[43m,\u001b[49m\u001b[43m \u001b[49m\u001b[43mcallbacks\u001b[49m\u001b[38;5;241;43m=\u001b[39;49m\u001b[43m[\u001b[49m\u001b[43mrlrp\u001b[49m\u001b[43m]\u001b[49m\u001b[43m)\u001b[49m\n",
      "File \u001b[1;32mC:\\Python310\\lib\\site-packages\\keras\\utils\\traceback_utils.py:70\u001b[0m, in \u001b[0;36mfilter_traceback.<locals>.error_handler\u001b[1;34m(*args, **kwargs)\u001b[0m\n\u001b[0;32m     67\u001b[0m     filtered_tb \u001b[38;5;241m=\u001b[39m _process_traceback_frames(e\u001b[38;5;241m.\u001b[39m__traceback__)\n\u001b[0;32m     68\u001b[0m     \u001b[38;5;66;03m# To get the full stack trace, call:\u001b[39;00m\n\u001b[0;32m     69\u001b[0m     \u001b[38;5;66;03m# `tf.debugging.disable_traceback_filtering()`\u001b[39;00m\n\u001b[1;32m---> 70\u001b[0m     \u001b[38;5;28;01mraise\u001b[39;00m e\u001b[38;5;241m.\u001b[39mwith_traceback(filtered_tb) \u001b[38;5;28;01mfrom\u001b[39;00m \u001b[38;5;28mNone\u001b[39m\n\u001b[0;32m     71\u001b[0m \u001b[38;5;28;01mfinally\u001b[39;00m:\n\u001b[0;32m     72\u001b[0m     \u001b[38;5;28;01mdel\u001b[39;00m filtered_tb\n",
      "File \u001b[1;32mC:\\Users\\BORNCR~1\\AppData\\Local\\Temp\\__autograph_generated_filetmvqhriq.py:15\u001b[0m, in \u001b[0;36mouter_factory.<locals>.inner_factory.<locals>.tf__train_function\u001b[1;34m(iterator)\u001b[0m\n\u001b[0;32m     13\u001b[0m \u001b[38;5;28;01mtry\u001b[39;00m:\n\u001b[0;32m     14\u001b[0m     do_return \u001b[38;5;241m=\u001b[39m \u001b[38;5;28;01mTrue\u001b[39;00m\n\u001b[1;32m---> 15\u001b[0m     retval_ \u001b[38;5;241m=\u001b[39m ag__\u001b[38;5;241m.\u001b[39mconverted_call(ag__\u001b[38;5;241m.\u001b[39mld(step_function), (ag__\u001b[38;5;241m.\u001b[39mld(\u001b[38;5;28mself\u001b[39m), ag__\u001b[38;5;241m.\u001b[39mld(iterator)), \u001b[38;5;28;01mNone\u001b[39;00m, fscope)\n\u001b[0;32m     16\u001b[0m \u001b[38;5;28;01mexcept\u001b[39;00m:\n\u001b[0;32m     17\u001b[0m     do_return \u001b[38;5;241m=\u001b[39m \u001b[38;5;28;01mFalse\u001b[39;00m\n",
      "\u001b[1;31mValueError\u001b[0m: in user code:\n\n    File \"C:\\Python310\\lib\\site-packages\\keras\\engine\\training.py\", line 1160, in train_function  *\n        return step_function(self, iterator)\n    File \"C:\\Python310\\lib\\site-packages\\keras\\engine\\training.py\", line 1146, in step_function  **\n        outputs = model.distribute_strategy.run(run_step, args=(data,))\n    File \"C:\\Python310\\lib\\site-packages\\keras\\engine\\training.py\", line 1135, in run_step  **\n        outputs = model.train_step(data)\n    File \"C:\\Python310\\lib\\site-packages\\keras\\engine\\training.py\", line 994, in train_step\n        loss = self.compute_loss(x, y, y_pred, sample_weight)\n    File \"C:\\Python310\\lib\\site-packages\\keras\\engine\\training.py\", line 1052, in compute_loss\n        return self.compiled_loss(\n    File \"C:\\Python310\\lib\\site-packages\\keras\\engine\\compile_utils.py\", line 265, in __call__\n        loss_value = loss_obj(y_t, y_p, sample_weight=sw)\n    File \"C:\\Python310\\lib\\site-packages\\keras\\losses.py\", line 152, in __call__\n        losses = call_fn(y_true, y_pred)\n    File \"C:\\Python310\\lib\\site-packages\\keras\\losses.py\", line 272, in call  **\n        return ag_fn(y_true, y_pred, **self._fn_kwargs)\n    File \"C:\\Python310\\lib\\site-packages\\keras\\losses.py\", line 1990, in categorical_crossentropy\n        return backend.categorical_crossentropy(\n    File \"C:\\Python310\\lib\\site-packages\\keras\\backend.py\", line 5529, in categorical_crossentropy\n        target.shape.assert_is_compatible_with(output.shape)\n\n    ValueError: Shapes (None, 1) and (None, 8) are incompatible\n"
     ]
    }
   ],
   "source": [
    "rlrp = ReduceLROnPlateau(monitor='loss', factor=0.4, verbose=0, patience=2, min_lr=0.0000001)\n",
    "history=model.fit(x_train, y_train, batch_size=64, epochs=50, validation_data=(x_test, y_test), callbacks=[rlrp])"
   ]
  },
  {
   "cell_type": "code",
   "execution_count": null,
   "id": "5fee4a22-a0aa-4cc0-a5b3-d9d136641f6a",
   "metadata": {},
   "outputs": [],
   "source": []
  }
 ],
 "metadata": {
  "kernelspec": {
   "display_name": "Python 3 (ipykernel)",
   "language": "python",
   "name": "python3"
  },
  "language_info": {
   "codemirror_mode": {
    "name": "ipython",
    "version": 3
   },
   "file_extension": ".py",
   "mimetype": "text/x-python",
   "name": "python",
   "nbconvert_exporter": "python",
   "pygments_lexer": "ipython3",
   "version": "3.10.7"
  }
 },
 "nbformat": 4,
 "nbformat_minor": 5
}
