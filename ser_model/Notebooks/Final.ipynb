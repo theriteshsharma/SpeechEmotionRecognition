{
 "cells": [
  {
   "cell_type": "markdown",
   "id": "5f71259c-df98-4a99-a76a-9de238740e30",
   "metadata": {},
   "source": [
    "### Installation"
   ]
  },
  {
   "cell_type": "code",
   "execution_count": 1,
   "id": "a512fad7-e2b6-48d6-8ec6-32f351c65bbe",
   "metadata": {},
   "outputs": [
    {
     "name": "stdout",
     "output_type": "stream",
     "text": [
      "Requirement already satisfied: librosa in c:\\users\\rohit\\appdata\\local\\programs\\python\\python310\\lib\\site-packages (0.9.2)\n",
      "Requirement already satisfied: soundfile in c:\\users\\rohit\\appdata\\local\\programs\\python\\python310\\lib\\site-packages (0.11.0)\n",
      "Requirement already satisfied: numpy in c:\\users\\rohit\\appdata\\local\\programs\\python\\python310\\lib\\site-packages (1.23.3)\n",
      "Requirement already satisfied: sklearn in c:\\users\\rohit\\appdata\\local\\programs\\python\\python310\\lib\\site-packages (0.0)\n",
      "Requirement already satisfied: pyaudio in c:\\users\\rohit\\appdata\\local\\programs\\python\\python310\\lib\\site-packages (0.2.12)\n",
      "Requirement already satisfied: resampy>=0.2.2 in c:\\users\\rohit\\appdata\\local\\programs\\python\\python310\\lib\\site-packages (from librosa) (0.4.2)\n",
      "Requirement already satisfied: pooch>=1.0 in c:\\users\\rohit\\appdata\\local\\programs\\python\\python310\\lib\\site-packages (from librosa) (1.6.0)\n",
      "Requirement already satisfied: packaging>=20.0 in c:\\users\\rohit\\appdata\\local\\programs\\python\\python310\\lib\\site-packages (from librosa) (21.3)\n",
      "Requirement already satisfied: decorator>=4.0.10 in c:\\users\\rohit\\appdata\\local\\programs\\python\\python310\\lib\\site-packages (from librosa) (5.1.1)\n",
      "Requirement already satisfied: numba>=0.45.1 in c:\\users\\rohit\\appdata\\local\\programs\\python\\python310\\lib\\site-packages (from librosa) (0.56.2)\n",
      "Requirement already satisfied: audioread>=2.1.9 in c:\\users\\rohit\\appdata\\local\\programs\\python\\python310\\lib\\site-packages (from librosa) (3.0.0)\n",
      "Requirement already satisfied: joblib>=0.14 in c:\\users\\rohit\\appdata\\local\\programs\\python\\python310\\lib\\site-packages (from librosa) (1.2.0)\n",
      "Requirement already satisfied: scikit-learn>=0.19.1 in c:\\users\\rohit\\appdata\\local\\programs\\python\\python310\\lib\\site-packages (from librosa) (1.1.2)\n",
      "Requirement already satisfied: scipy>=1.2.0 in c:\\users\\rohit\\appdata\\local\\programs\\python\\python310\\lib\\site-packages (from librosa) (1.9.1)\n",
      "Requirement already satisfied: cffi>=1.0 in c:\\users\\rohit\\appdata\\local\\programs\\python\\python310\\lib\\site-packages (from soundfile) (1.15.1)\n",
      "Requirement already satisfied: pycparser in c:\\users\\rohit\\appdata\\local\\programs\\python\\python310\\lib\\site-packages (from cffi>=1.0->soundfile) (2.21)\n",
      "Requirement already satisfied: setuptools<60 in c:\\users\\rohit\\appdata\\local\\programs\\python\\python310\\lib\\site-packages (from numba>=0.45.1->librosa) (59.8.0)\n",
      "Requirement already satisfied: llvmlite<0.40,>=0.39.0dev0 in c:\\users\\rohit\\appdata\\local\\programs\\python\\python310\\lib\\site-packages (from numba>=0.45.1->librosa) (0.39.1)\n",
      "Requirement already satisfied: pyparsing!=3.0.5,>=2.0.2 in c:\\users\\rohit\\appdata\\local\\programs\\python\\python310\\lib\\site-packages (from packaging>=20.0->librosa) (3.0.9)\n",
      "Requirement already satisfied: appdirs>=1.3.0 in c:\\users\\rohit\\appdata\\local\\programs\\python\\python310\\lib\\site-packages (from pooch>=1.0->librosa) (1.4.4)\n",
      "Requirement already satisfied: requests>=2.19.0 in c:\\users\\rohit\\appdata\\local\\programs\\python\\python310\\lib\\site-packages (from pooch>=1.0->librosa) (2.28.1)\n",
      "Requirement already satisfied: threadpoolctl>=2.0.0 in c:\\users\\rohit\\appdata\\local\\programs\\python\\python310\\lib\\site-packages (from scikit-learn>=0.19.1->librosa) (3.1.0)\n",
      "Requirement already satisfied: urllib3<1.27,>=1.21.1 in c:\\users\\rohit\\appdata\\local\\programs\\python\\python310\\lib\\site-packages (from requests>=2.19.0->pooch>=1.0->librosa) (1.26.12)\n",
      "Requirement already satisfied: idna<4,>=2.5 in c:\\users\\rohit\\appdata\\local\\programs\\python\\python310\\lib\\site-packages (from requests>=2.19.0->pooch>=1.0->librosa) (3.4)\n",
      "Requirement already satisfied: charset-normalizer<3,>=2 in c:\\users\\rohit\\appdata\\local\\programs\\python\\python310\\lib\\site-packages (from requests>=2.19.0->pooch>=1.0->librosa) (2.1.1)\n",
      "Requirement already satisfied: certifi>=2017.4.17 in c:\\users\\rohit\\appdata\\local\\programs\\python\\python310\\lib\\site-packages (from requests>=2.19.0->pooch>=1.0->librosa) (2022.9.14)\n"
     ]
    }
   ],
   "source": [
    "!pip install librosa soundfile numpy sklearn pyaudio"
   ]
  },
  {
   "cell_type": "code",
   "execution_count": 2,
   "id": "7a972d92-9633-4a6b-acd4-70186e0ce2b7",
   "metadata": {},
   "outputs": [
    {
     "name": "stdout",
     "output_type": "stream",
     "text": [
      "Collecting pandas\n",
      "  Downloading pandas-1.5.0-cp310-cp310-win_amd64.whl (10.4 MB)\n",
      "     --------------------------------------- 10.4/10.4 MB 11.1 MB/s eta 0:00:00\n",
      "Requirement already satisfied: pytz>=2020.1 in c:\\users\\rohit\\appdata\\local\\programs\\python\\python310\\lib\\site-packages (from pandas) (2022.2.1)\n",
      "Requirement already satisfied: python-dateutil>=2.8.1 in c:\\users\\rohit\\appdata\\local\\programs\\python\\python310\\lib\\site-packages (from pandas) (2.8.2)\n",
      "Requirement already satisfied: numpy>=1.21.0 in c:\\users\\rohit\\appdata\\local\\programs\\python\\python310\\lib\\site-packages (from pandas) (1.23.3)\n",
      "Requirement already satisfied: six>=1.5 in c:\\users\\rohit\\appdata\\local\\programs\\python\\python310\\lib\\site-packages (from python-dateutil>=2.8.1->pandas) (1.16.0)\n",
      "Installing collected packages: pandas\n",
      "Successfully installed pandas-1.5.0\n"
     ]
    }
   ],
   "source": [
    "!pip install pandas"
   ]
  },
  {
   "cell_type": "code",
   "execution_count": 3,
   "id": "91ab198d-541c-48cf-800c-d6139fb4b19e",
   "metadata": {},
   "outputs": [],
   "source": [
    "!pip install keras tensorflow"
   ]
  },
  {
   "cell_type": "code",
   "execution_count": 4,
   "id": "f24fca80",
   "metadata": {},
   "outputs": [
    {
     "name": "stdout",
     "output_type": "stream",
     "text": [
      "Collecting pickle-mixin\n",
      "  Downloading pickle-mixin-1.0.2.tar.gz (5.1 kB)\n",
      "  Preparing metadata (setup.py): started\n",
      "  Preparing metadata (setup.py): finished with status 'done'\n",
      "Building wheels for collected packages: pickle-mixin\n",
      "  Building wheel for pickle-mixin (setup.py): started\n",
      "  Building wheel for pickle-mixin (setup.py): finished with status 'done'\n",
      "  Created wheel for pickle-mixin: filename=pickle_mixin-1.0.2-py3-none-any.whl size=6008 sha256=b45be5bd227e8dc006f24f476e5b96c36edaf2c32e86490ec1328f81dfa5ccf4\n",
      "  Stored in directory: c:\\users\\born creative\\appdata\\local\\pip\\cache\\wheels\\3e\\c6\\e9\\d1b0a34e1efc6c3ec9c086623972c6de6317faddb2af0a619c\n",
      "Successfully built pickle-mixin\n",
      "Installing collected packages: pickle-mixin\n",
      "Successfully installed pickle-mixin-1.0.2\n"
     ]
    }
   ],
   "source": [
    "!pip install pickle-mixin"
   ]
  },
  {
   "cell_type": "markdown",
   "id": "7e7563f6-1a2d-48b4-8ddc-b98964c21ab3",
   "metadata": {},
   "source": [
    "#### Imports"
   ]
  },
  {
   "cell_type": "code",
   "execution_count": 5,
   "id": "9b9cd7b8-4376-4e50-b67d-89b1e32d5c26",
   "metadata": {},
   "outputs": [],
   "source": [
    "import librosa\n",
    "import soundfile\n",
    "import os, glob, pickle, sys\n",
    "import numpy as np\n",
    "import pandas as pd\n",
    "from sklearn.model_selection import train_test_split\n",
    "from sklearn.neural_network import MLPClassifier\n",
    "from sklearn.metrics import accuracy_score\n",
    "from sklearn.preprocessing import StandardScaler, OneHotEncoder\n",
    "\n",
    "import pickle\n",
    "\n",
    "#imports for cnn\n",
    "import keras\n",
    "from keras.callbacks import ReduceLROnPlateau\n",
    "from keras.models import Sequential\n",
    "from keras.layers import Dense, Conv1D, MaxPooling1D, Flatten, Dropout, BatchNormalization\n",
    "from keras.utils import np_utils, to_categorical\n",
    "from keras.callbacks import ModelCheckpoint\n",
    "\n",
    "\n",
    "import warnings\n",
    "if not sys.warnoptions:\n",
    "    warnings.simplefilter(\"ignore\")\n",
    "warnings.filterwarnings(\"ignore\", category=DeprecationWarning) "
   ]
  },
  {
   "cell_type": "markdown",
   "id": "7ea0dc12-4e31-4e4c-9f50-93f22e46fd33",
   "metadata": {},
   "source": [
    "### Preparing Data"
   ]
  },
  {
   "cell_type": "markdown",
   "id": "b9cd407d-7a8d-4522-96bd-948d1a652bc6",
   "metadata": {},
   "source": [
    "Functions to add augmentation and extract Features from existing dataset"
   ]
  },
  {
   "cell_type": "code",
   "execution_count": 6,
   "id": "e91b1623-6ce8-4fee-a94b-962e24ee236a",
   "metadata": {},
   "outputs": [],
   "source": [
    "def noise(data):\n",
    "    noise_amp = 0.035*np.random.uniform()*np.amax(data)\n",
    "    data = data + noise_amp*np.random.normal(size=data.shape[0])\n",
    "    return data\n",
    "\n",
    "def stretch(data, rate=0.8):\n",
    "    return librosa.effects.time_stretch(data, rate)\n",
    "\n",
    "def shift(data):\n",
    "    shift_range = int(np.random.uniform(low=-5, high = 5)*1000)\n",
    "    return np.roll(data, shift_range)\n",
    "\n",
    "def pitch(data, sampling_rate, pitch_factor=0.7):\n",
    "    return librosa.effects.pitch_shift(data, sampling_rate, pitch_factor)\n",
    "\n",
    "def extract_features(data,sample_rate):\n",
    "    # ZCR\n",
    "    result = np.array([])\n",
    "    zcr = np.mean(librosa.feature.zero_crossing_rate(y=data).T, axis=0)\n",
    "    result=np.hstack((result, zcr)) # stacking horizontally\n",
    "    \n",
    "\n",
    "    # Chroma_stft\n",
    "    stft = np.abs(librosa.stft(data))\n",
    "    \n",
    "    chroma_stft = np.mean(librosa.feature.chroma_stft(S=stft, sr=sample_rate).T, axis=0)\n",
    "    result = np.hstack((result, chroma_stft)) # stacking horizontally\n",
    "    \n",
    "\n",
    "    # MFCC\n",
    "    mfcc = np.mean(librosa.feature.mfcc(y=data, sr=sample_rate).T, axis=0)\n",
    "    result = np.hstack((result, mfcc)) # stacking horizontally\n",
    "   \n",
    "\n",
    "    # Root Mean Square Value\n",
    "    rms = np.mean(librosa.feature.rms(y=data).T, axis=0)\n",
    "    result = np.hstack((result, rms)) # stacking horizontally\n",
    "    \n",
    "\n",
    "    # MelSpectogram\n",
    "    mel = np.mean(librosa.feature.melspectrogram(y=data, sr=sample_rate).T, axis=0)\n",
    "    result = np.hstack((result, mel)) # stacking horizontally\n",
    "    return result\n",
    "\n",
    "def get_features(path):\n",
    "    # duration and offset are used to take care of the no audio in start and the ending of each audio files as seen above.\n",
    "    data, sample_rate = librosa.load(path, duration=2.5, offset=0.6)\n",
    "    \n",
    "    # without augmentation\n",
    "    res1 = extract_features(data,sample_rate)\n",
    "    result = np.array(res1)\n",
    "    \n",
    "    # data with noise\n",
    "    noise_data = noise(data)\n",
    "    res2 = extract_features(noise_data,sample_rate)\n",
    "    result = np.vstack((result, res2)) # stacking vertically\n",
    "    \n",
    "    # data with stretching and pitching\n",
    "    new_data = stretch(data)\n",
    "    data_stretch_pitch = pitch(new_data, sample_rate)\n",
    "    res3 = extract_features(data_stretch_pitch,sample_rate)\n",
    "    result = np.vstack((result, res3)) # stacking vertically\n",
    "    \n",
    "    return result"
   ]
  },
  {
   "cell_type": "code",
   "execution_count": 9,
   "id": "611e9975-5140-4ab8-ae15-b82ff464295e",
   "metadata": {},
   "outputs": [
    {
     "name": "stdout",
     "output_type": "stream",
     "text": [
      "1440\n"
     ]
    }
   ],
   "source": [
    "X,Y=[],[]\n",
    "\n",
    "#emotions in dataset\n",
    "emotions={\n",
    "  '01':'neutral',\n",
    "  '02':'calm',\n",
    "  '03':'happy',\n",
    "  '04':'sad',\n",
    "  '05':'angry',\n",
    "  '06':'fearful',\n",
    "  '07':'disgust',\n",
    "  '08':'surprised'\n",
    "}\n",
    "i = 0\n",
    "for file in glob.glob(\"F:\\\\01 Code\\\\01 Projects\\\\SpeechEmotionRecognitionApp\\\\ser_model\\\\speech-emotion-recognition-ravdess-data\\\\Actor_*\\\\*.wav\"):\n",
    "    file_name=os.path.basename(file)\n",
    "    i+=1\n",
    "    # Emotion From File \n",
    "    emotion=emotions[file_name.split(\"-\")[2]]\n",
    "    \n",
    "    # Feature Extraction\n",
    "    features = get_features(file)\n",
    "    for ele in features:\n",
    "        X.append(ele)\n",
    "        Y.append(emotion)\n",
    "print(i)"
   ]
  },
  {
   "cell_type": "code",
   "execution_count": 10,
   "id": "b7749dfd-b579-4836-8ef0-d67feaf995eb",
   "metadata": {},
   "outputs": [
    {
     "data": {
      "text/plain": [
       "['neutral',\n",
       " 'neutral',\n",
       " 'neutral',\n",
       " 'neutral',\n",
       " 'neutral',\n",
       " 'neutral',\n",
       " 'neutral',\n",
       " 'neutral',\n",
       " 'neutral',\n",
       " 'neutral']"
      ]
     },
     "execution_count": 10,
     "metadata": {},
     "output_type": "execute_result"
    }
   ],
   "source": [
    "Y[:10]"
   ]
  },
  {
   "cell_type": "code",
   "execution_count": 11,
   "id": "9b684dea-f139-4e18-8ff9-465e07c18eb3",
   "metadata": {},
   "outputs": [],
   "source": [
    "Dataframe_x = pd.DataFrame(X)\n",
    "Dataframe_y = pd.DataFrame(Y)"
   ]
  },
  {
   "cell_type": "code",
   "execution_count": 12,
   "id": "7525adb5-db1c-4728-966f-199e95c1f918",
   "metadata": {},
   "outputs": [
    {
     "data": {
      "text/plain": [
       "(4320, 162)"
      ]
     },
     "execution_count": 12,
     "metadata": {},
     "output_type": "execute_result"
    }
   ],
   "source": [
    "Dataframe_x.shape\n",
    "\n"
   ]
  },
  {
   "cell_type": "code",
   "execution_count": 13,
   "id": "dc215608-053c-46b2-8990-cac205fbdeb6",
   "metadata": {},
   "outputs": [
    {
     "data": {
      "text/html": [
       "<div>\n",
       "<style scoped>\n",
       "    .dataframe tbody tr th:only-of-type {\n",
       "        vertical-align: middle;\n",
       "    }\n",
       "\n",
       "    .dataframe tbody tr th {\n",
       "        vertical-align: top;\n",
       "    }\n",
       "\n",
       "    .dataframe thead th {\n",
       "        text-align: right;\n",
       "    }\n",
       "</style>\n",
       "<table border=\"1\" class=\"dataframe\">\n",
       "  <thead>\n",
       "    <tr style=\"text-align: right;\">\n",
       "      <th></th>\n",
       "      <th>0</th>\n",
       "      <th>1</th>\n",
       "      <th>2</th>\n",
       "      <th>3</th>\n",
       "      <th>4</th>\n",
       "      <th>5</th>\n",
       "      <th>6</th>\n",
       "      <th>7</th>\n",
       "      <th>8</th>\n",
       "      <th>9</th>\n",
       "      <th>...</th>\n",
       "      <th>152</th>\n",
       "      <th>153</th>\n",
       "      <th>154</th>\n",
       "      <th>155</th>\n",
       "      <th>156</th>\n",
       "      <th>157</th>\n",
       "      <th>158</th>\n",
       "      <th>159</th>\n",
       "      <th>160</th>\n",
       "      <th>161</th>\n",
       "    </tr>\n",
       "  </thead>\n",
       "  <tbody>\n",
       "    <tr>\n",
       "      <th>0</th>\n",
       "      <td>0.224306</td>\n",
       "      <td>0.664190</td>\n",
       "      <td>0.693038</td>\n",
       "      <td>0.665390</td>\n",
       "      <td>0.673116</td>\n",
       "      <td>0.696442</td>\n",
       "      <td>0.684787</td>\n",
       "      <td>0.706183</td>\n",
       "      <td>0.748844</td>\n",
       "      <td>0.782297</td>\n",
       "      <td>...</td>\n",
       "      <td>8.778047e-17</td>\n",
       "      <td>6.888786e-17</td>\n",
       "      <td>6.993841e-17</td>\n",
       "      <td>7.601734e-17</td>\n",
       "      <td>7.305700e-17</td>\n",
       "      <td>6.833248e-17</td>\n",
       "      <td>7.254372e-17</td>\n",
       "      <td>7.962737e-17</td>\n",
       "      <td>7.395194e-17</td>\n",
       "      <td>7.358765e-17</td>\n",
       "    </tr>\n",
       "    <tr>\n",
       "      <th>1</th>\n",
       "      <td>0.293100</td>\n",
       "      <td>0.733478</td>\n",
       "      <td>0.800266</td>\n",
       "      <td>0.786630</td>\n",
       "      <td>0.782051</td>\n",
       "      <td>0.796719</td>\n",
       "      <td>0.733336</td>\n",
       "      <td>0.673699</td>\n",
       "      <td>0.707605</td>\n",
       "      <td>0.742666</td>\n",
       "      <td>...</td>\n",
       "      <td>1.055862e-05</td>\n",
       "      <td>1.116067e-05</td>\n",
       "      <td>1.099605e-05</td>\n",
       "      <td>1.075941e-05</td>\n",
       "      <td>1.087752e-05</td>\n",
       "      <td>1.097741e-05</td>\n",
       "      <td>1.106519e-05</td>\n",
       "      <td>1.124121e-05</td>\n",
       "      <td>1.107555e-05</td>\n",
       "      <td>1.155873e-05</td>\n",
       "    </tr>\n",
       "    <tr>\n",
       "      <th>2</th>\n",
       "      <td>0.169383</td>\n",
       "      <td>0.579495</td>\n",
       "      <td>0.662042</td>\n",
       "      <td>0.674849</td>\n",
       "      <td>0.631609</td>\n",
       "      <td>0.623019</td>\n",
       "      <td>0.687452</td>\n",
       "      <td>0.671907</td>\n",
       "      <td>0.692694</td>\n",
       "      <td>0.712601</td>\n",
       "      <td>...</td>\n",
       "      <td>2.503228e-15</td>\n",
       "      <td>1.885160e-15</td>\n",
       "      <td>1.743947e-15</td>\n",
       "      <td>1.590055e-15</td>\n",
       "      <td>1.477827e-15</td>\n",
       "      <td>1.528373e-15</td>\n",
       "      <td>1.689925e-15</td>\n",
       "      <td>1.679742e-15</td>\n",
       "      <td>1.602365e-15</td>\n",
       "      <td>1.500745e-15</td>\n",
       "    </tr>\n",
       "    <tr>\n",
       "      <th>3</th>\n",
       "      <td>0.196533</td>\n",
       "      <td>0.652948</td>\n",
       "      <td>0.692924</td>\n",
       "      <td>0.664361</td>\n",
       "      <td>0.648762</td>\n",
       "      <td>0.686783</td>\n",
       "      <td>0.688136</td>\n",
       "      <td>0.683010</td>\n",
       "      <td>0.735986</td>\n",
       "      <td>0.759067</td>\n",
       "      <td>...</td>\n",
       "      <td>8.858628e-17</td>\n",
       "      <td>7.385022e-17</td>\n",
       "      <td>6.953341e-17</td>\n",
       "      <td>7.445123e-17</td>\n",
       "      <td>7.997667e-17</td>\n",
       "      <td>7.754530e-17</td>\n",
       "      <td>8.110750e-17</td>\n",
       "      <td>7.647289e-17</td>\n",
       "      <td>7.359221e-17</td>\n",
       "      <td>7.287654e-17</td>\n",
       "    </tr>\n",
       "    <tr>\n",
       "      <th>4</th>\n",
       "      <td>0.302043</td>\n",
       "      <td>0.758702</td>\n",
       "      <td>0.816364</td>\n",
       "      <td>0.801830</td>\n",
       "      <td>0.758661</td>\n",
       "      <td>0.770253</td>\n",
       "      <td>0.740508</td>\n",
       "      <td>0.650490</td>\n",
       "      <td>0.692977</td>\n",
       "      <td>0.726915</td>\n",
       "      <td>...</td>\n",
       "      <td>3.317626e-05</td>\n",
       "      <td>3.241854e-05</td>\n",
       "      <td>3.268253e-05</td>\n",
       "      <td>3.434911e-05</td>\n",
       "      <td>3.221454e-05</td>\n",
       "      <td>3.269329e-05</td>\n",
       "      <td>3.364182e-05</td>\n",
       "      <td>3.396521e-05</td>\n",
       "      <td>3.208780e-05</td>\n",
       "      <td>3.358697e-05</td>\n",
       "    </tr>\n",
       "  </tbody>\n",
       "</table>\n",
       "<p>5 rows × 162 columns</p>\n",
       "</div>"
      ],
      "text/plain": [
       "        0         1         2         3         4         5         6    \\\n",
       "0  0.224306  0.664190  0.693038  0.665390  0.673116  0.696442  0.684787   \n",
       "1  0.293100  0.733478  0.800266  0.786630  0.782051  0.796719  0.733336   \n",
       "2  0.169383  0.579495  0.662042  0.674849  0.631609  0.623019  0.687452   \n",
       "3  0.196533  0.652948  0.692924  0.664361  0.648762  0.686783  0.688136   \n",
       "4  0.302043  0.758702  0.816364  0.801830  0.758661  0.770253  0.740508   \n",
       "\n",
       "        7         8         9    ...           152           153  \\\n",
       "0  0.706183  0.748844  0.782297  ...  8.778047e-17  6.888786e-17   \n",
       "1  0.673699  0.707605  0.742666  ...  1.055862e-05  1.116067e-05   \n",
       "2  0.671907  0.692694  0.712601  ...  2.503228e-15  1.885160e-15   \n",
       "3  0.683010  0.735986  0.759067  ...  8.858628e-17  7.385022e-17   \n",
       "4  0.650490  0.692977  0.726915  ...  3.317626e-05  3.241854e-05   \n",
       "\n",
       "            154           155           156           157           158  \\\n",
       "0  6.993841e-17  7.601734e-17  7.305700e-17  6.833248e-17  7.254372e-17   \n",
       "1  1.099605e-05  1.075941e-05  1.087752e-05  1.097741e-05  1.106519e-05   \n",
       "2  1.743947e-15  1.590055e-15  1.477827e-15  1.528373e-15  1.689925e-15   \n",
       "3  6.953341e-17  7.445123e-17  7.997667e-17  7.754530e-17  8.110750e-17   \n",
       "4  3.268253e-05  3.434911e-05  3.221454e-05  3.269329e-05  3.364182e-05   \n",
       "\n",
       "            159           160           161  \n",
       "0  7.962737e-17  7.395194e-17  7.358765e-17  \n",
       "1  1.124121e-05  1.107555e-05  1.155873e-05  \n",
       "2  1.679742e-15  1.602365e-15  1.500745e-15  \n",
       "3  7.647289e-17  7.359221e-17  7.287654e-17  \n",
       "4  3.396521e-05  3.208780e-05  3.358697e-05  \n",
       "\n",
       "[5 rows x 162 columns]"
      ]
     },
     "execution_count": 13,
     "metadata": {},
     "output_type": "execute_result"
    }
   ],
   "source": [
    "Dataframe_x.head()"
   ]
  },
  {
   "cell_type": "code",
   "execution_count": 14,
   "id": "946593fd-5933-4a1b-9f80-fd39f6b42b24",
   "metadata": {},
   "outputs": [],
   "source": [
    "encoder = OneHotEncoder()\n",
    "encoded_Y = encoder.fit_transform(np.array(Dataframe_y).reshape(-1,1)).toarray()\n"
   ]
  },
  {
   "cell_type": "code",
   "execution_count": 15,
   "id": "f6271873-6a28-4819-8143-5e10e90816cb",
   "metadata": {},
   "outputs": [],
   "source": [
    "x_train, x_test, y_train, y_test = train_test_split(X, Y, random_state=0, shuffle=True)"
   ]
  },
  {
   "cell_type": "code",
   "execution_count": 16,
   "id": "4ce318b7-d0cf-483c-acee-c579c7aace9e",
   "metadata": {},
   "outputs": [],
   "source": [
    "scaler = StandardScaler()\n",
    "x_train = scaler.fit_transform(x_train)\n",
    "x_test = scaler.transform(x_test)"
   ]
  },
  {
   "cell_type": "code",
   "execution_count": 25,
   "id": "0fc13957-2d4a-4408-9f88-c7ae57a90659",
   "metadata": {},
   "outputs": [],
   "source": [
    "filename = 'std_scaler.sav'\n",
    "pickle.dump(scaler, open(filename, 'wb'))"
   ]
  },
  {
   "cell_type": "markdown",
   "id": "771f116a-c1c5-468b-a0a6-ae8f8233986e",
   "metadata": {},
   "source": [
    "## Support Vector Machine"
   ]
  },
  {
   "cell_type": "code",
   "execution_count": 17,
   "id": "bfce9dfe-5a87-435f-be80-96871d852191",
   "metadata": {},
   "outputs": [],
   "source": [
    "from sklearn.svm  import SVC\n",
    "svm_model = SVC(kernel='linear',C=1,probability=True).fit(x_train,y_train)\n",
    "svm_predictions = svm_model.predict(x_test)"
   ]
  },
  {
   "cell_type": "code",
   "execution_count": 18,
   "id": "6f7dc417-ef84-4862-822e-dec21280bf51",
   "metadata": {},
   "outputs": [
    {
     "data": {
      "text/plain": [
       "array(['surprised', 'sad', 'fearful', ..., 'surprised', 'happy', 'sad'],\n",
       "      dtype='<U9')"
      ]
     },
     "execution_count": 18,
     "metadata": {},
     "output_type": "execute_result"
    }
   ],
   "source": [
    "svm_predictions"
   ]
  },
  {
   "cell_type": "code",
   "execution_count": 19,
   "id": "bf6b699c-b7a3-481a-9941-67de7ce90f63",
   "metadata": {},
   "outputs": [
    {
     "name": "stdout",
     "output_type": "stream",
     "text": [
      "0.5740740740740741\n"
     ]
    }
   ],
   "source": [
    "print(accuracy_score(y_true=y_test,y_pred=svm_predictions))"
   ]
  },
  {
   "cell_type": "code",
   "execution_count": 20,
   "id": "84707d99-c1a8-4507-b36b-860620d201a9",
   "metadata": {},
   "outputs": [
    {
     "data": {
      "text/plain": [
       "array([[0.02368857, 0.00108656, 0.01761809, ..., 0.00254003, 0.04819453,\n",
       "        0.56481911],\n",
       "       [0.14663265, 0.01412265, 0.05230928, ..., 0.0221292 , 0.39429783,\n",
       "        0.0384749 ],\n",
       "       [0.17757695, 0.00194729, 0.01283811, ..., 0.00243276, 0.00660411,\n",
       "        0.0524984 ],\n",
       "       ...,\n",
       "       [0.04182418, 0.00341243, 0.27626148, ..., 0.01675358, 0.10557688,\n",
       "        0.47280359],\n",
       "       [0.0300042 , 0.18224874, 0.07555156, ..., 0.02477436, 0.03890998,\n",
       "        0.02182713],\n",
       "       [0.00903113, 0.30398158, 0.01377796, ..., 0.12682741, 0.41299421,\n",
       "        0.01351434]])"
      ]
     },
     "execution_count": 20,
     "metadata": {},
     "output_type": "execute_result"
    }
   ],
   "source": [
    "svm_model.predict_proba(x_test)"
   ]
  },
  {
   "cell_type": "code",
   "execution_count": null,
   "id": "f49db7c3-be2b-41b0-bb4c-d716b5d5d11d",
   "metadata": {},
   "outputs": [],
   "source": []
  },
  {
   "cell_type": "code",
   "execution_count": 21,
   "id": "7a6f200c-05df-425f-9413-ca15ec4d7a99",
   "metadata": {},
   "outputs": [
    {
     "name": "stdout",
     "output_type": "stream",
     "text": [
      "620\n",
      "1080\n"
     ]
    }
   ],
   "source": [
    "test_predict = svm_model.predict(x_test)\n",
    "# for x in range(len(y_test)):\n",
    "#     print(y_test[x] +\"->\"+test_predict[x])\n",
    "i = 0 \n",
    "for x in range(len(y_test)):\n",
    "    if y_test[x] == test_predict[x]:\n",
    "        i+=1\n",
    "print(i)\n",
    "print(len(y_test))"
   ]
  },
  {
   "cell_type": "code",
   "execution_count": 22,
   "id": "0900f66b-63d9-485d-8d28-1f241ccf7dea",
   "metadata": {},
   "outputs": [
    {
     "data": {
      "text/plain": [
       "array(['angry', 'calm', 'disgust', 'fearful', 'happy', 'neutral', 'sad',\n",
       "       'surprised'], dtype='<U9')"
      ]
     },
     "execution_count": 22,
     "metadata": {},
     "output_type": "execute_result"
    }
   ],
   "source": [
    "svm_model.classes_"
   ]
  },
  {
   "cell_type": "code",
   "execution_count": 24,
   "id": "e1335155-28ca-4c8d-a108-27295d6f753e",
   "metadata": {},
   "outputs": [],
   "source": [
    "filename = 'svm_model.sav'\n",
    "pickle.dump(svm_model, open(filename, 'wb'))"
   ]
  },
  {
   "cell_type": "code",
   "execution_count": null,
   "id": "75ce58bb-6dd6-4366-ae59-c59c29ce0c70",
   "metadata": {},
   "outputs": [],
   "source": [
    "data, sr = librosa.load('F:\\\\01 Code\\\\01 Projects\\\\SpeechEmotionRecognitionApp\\\\ser_model\\\\speech-emotion-recognition-ravdess-data\\\\Actor_*\\\\*.wav')"
   ]
  },
  {
   "cell_type": "code",
   "execution_count": null,
   "id": "6b6fa67d-9f8a-4aa5-a766-28881f3c3b22",
   "metadata": {},
   "outputs": [],
   "source": []
  },
  {
   "cell_type": "markdown",
   "id": "62ab6ec7-5fa2-44b0-ac4f-1bd2cf67bbcb",
   "metadata": {},
   "source": [
    "## Random Forest\n"
   ]
  },
  {
   "cell_type": "code",
   "execution_count": 68,
   "id": "bc54098a-e03e-4432-ad28-e818ff532813",
   "metadata": {},
   "outputs": [],
   "source": [
    "from sklearn.ensemble import RandomForestClassifier\n",
    "from sklearn.metrics import classification_report\n",
    "from sklearn.metrics import confusion_matrix\n",
    "  \n",
    " # create regressor object \n",
    "classifier = RandomForestClassifier(n_estimators = 100, random_state = 0) \n",
    "  \n"
   ]
  },
  {
   "cell_type": "code",
   "execution_count": 69,
   "id": "153f05e8-b082-4e75-a913-7d5bd9f647a5",
   "metadata": {},
   "outputs": [
    {
     "data": {
      "text/html": [
       "<style>#sk-container-id-5 {color: black;background-color: white;}#sk-container-id-5 pre{padding: 0;}#sk-container-id-5 div.sk-toggleable {background-color: white;}#sk-container-id-5 label.sk-toggleable__label {cursor: pointer;display: block;width: 100%;margin-bottom: 0;padding: 0.3em;box-sizing: border-box;text-align: center;}#sk-container-id-5 label.sk-toggleable__label-arrow:before {content: \"▸\";float: left;margin-right: 0.25em;color: #696969;}#sk-container-id-5 label.sk-toggleable__label-arrow:hover:before {color: black;}#sk-container-id-5 div.sk-estimator:hover label.sk-toggleable__label-arrow:before {color: black;}#sk-container-id-5 div.sk-toggleable__content {max-height: 0;max-width: 0;overflow: hidden;text-align: left;background-color: #f0f8ff;}#sk-container-id-5 div.sk-toggleable__content pre {margin: 0.2em;color: black;border-radius: 0.25em;background-color: #f0f8ff;}#sk-container-id-5 input.sk-toggleable__control:checked~div.sk-toggleable__content {max-height: 200px;max-width: 100%;overflow: auto;}#sk-container-id-5 input.sk-toggleable__control:checked~label.sk-toggleable__label-arrow:before {content: \"▾\";}#sk-container-id-5 div.sk-estimator input.sk-toggleable__control:checked~label.sk-toggleable__label {background-color: #d4ebff;}#sk-container-id-5 div.sk-label input.sk-toggleable__control:checked~label.sk-toggleable__label {background-color: #d4ebff;}#sk-container-id-5 input.sk-hidden--visually {border: 0;clip: rect(1px 1px 1px 1px);clip: rect(1px, 1px, 1px, 1px);height: 1px;margin: -1px;overflow: hidden;padding: 0;position: absolute;width: 1px;}#sk-container-id-5 div.sk-estimator {font-family: monospace;background-color: #f0f8ff;border: 1px dotted black;border-radius: 0.25em;box-sizing: border-box;margin-bottom: 0.5em;}#sk-container-id-5 div.sk-estimator:hover {background-color: #d4ebff;}#sk-container-id-5 div.sk-parallel-item::after {content: \"\";width: 100%;border-bottom: 1px solid gray;flex-grow: 1;}#sk-container-id-5 div.sk-label:hover label.sk-toggleable__label {background-color: #d4ebff;}#sk-container-id-5 div.sk-serial::before {content: \"\";position: absolute;border-left: 1px solid gray;box-sizing: border-box;top: 0;bottom: 0;left: 50%;z-index: 0;}#sk-container-id-5 div.sk-serial {display: flex;flex-direction: column;align-items: center;background-color: white;padding-right: 0.2em;padding-left: 0.2em;position: relative;}#sk-container-id-5 div.sk-item {position: relative;z-index: 1;}#sk-container-id-5 div.sk-parallel {display: flex;align-items: stretch;justify-content: center;background-color: white;position: relative;}#sk-container-id-5 div.sk-item::before, #sk-container-id-5 div.sk-parallel-item::before {content: \"\";position: absolute;border-left: 1px solid gray;box-sizing: border-box;top: 0;bottom: 0;left: 50%;z-index: -1;}#sk-container-id-5 div.sk-parallel-item {display: flex;flex-direction: column;z-index: 1;position: relative;background-color: white;}#sk-container-id-5 div.sk-parallel-item:first-child::after {align-self: flex-end;width: 50%;}#sk-container-id-5 div.sk-parallel-item:last-child::after {align-self: flex-start;width: 50%;}#sk-container-id-5 div.sk-parallel-item:only-child::after {width: 0;}#sk-container-id-5 div.sk-dashed-wrapped {border: 1px dashed gray;margin: 0 0.4em 0.5em 0.4em;box-sizing: border-box;padding-bottom: 0.4em;background-color: white;}#sk-container-id-5 div.sk-label label {font-family: monospace;font-weight: bold;display: inline-block;line-height: 1.2em;}#sk-container-id-5 div.sk-label-container {text-align: center;}#sk-container-id-5 div.sk-container {/* jupyter's `normalize.less` sets `[hidden] { display: none; }` but bootstrap.min.css set `[hidden] { display: none !important; }` so we also need the `!important` here to be able to override the default hidden behavior on the sphinx rendered scikit-learn.org. See: https://github.com/scikit-learn/scikit-learn/issues/21755 */display: inline-block !important;position: relative;}#sk-container-id-5 div.sk-text-repr-fallback {display: none;}</style><div id=\"sk-container-id-5\" class=\"sk-top-container\"><div class=\"sk-text-repr-fallback\"><pre>RandomForestClassifier(random_state=0)</pre><b>In a Jupyter environment, please rerun this cell to show the HTML representation or trust the notebook. <br />On GitHub, the HTML representation is unable to render, please try loading this page with nbviewer.org.</b></div><div class=\"sk-container\" hidden><div class=\"sk-item\"><div class=\"sk-estimator sk-toggleable\"><input class=\"sk-toggleable__control sk-hidden--visually\" id=\"sk-estimator-id-5\" type=\"checkbox\" checked><label for=\"sk-estimator-id-5\" class=\"sk-toggleable__label sk-toggleable__label-arrow\">RandomForestClassifier</label><div class=\"sk-toggleable__content\"><pre>RandomForestClassifier(random_state=0)</pre></div></div></div></div></div>"
      ],
      "text/plain": [
       "RandomForestClassifier(random_state=0)"
      ]
     },
     "execution_count": 69,
     "metadata": {},
     "output_type": "execute_result"
    }
   ],
   "source": [
    "# fit the regressor with x and y data \n",
    "classifier.fit(x_train, y_train)   \n",
    "\n"
   ]
  },
  {
   "cell_type": "code",
   "execution_count": 70,
   "id": "0c2df862-e2b5-4494-a462-fe5b64cac32e",
   "metadata": {},
   "outputs": [],
   "source": [
    "rt_predictions = classifier.predict(x_test) "
   ]
  },
  {
   "cell_type": "code",
   "execution_count": 71,
   "id": "ce5c046f-3069-444a-a98a-61d9a951f1cd",
   "metadata": {},
   "outputs": [
    {
     "name": "stdout",
     "output_type": "stream",
     "text": [
      "['fearful' 'sad' 'fearful' ... 'surprised' 'fearful' 'sad']\n"
     ]
    }
   ],
   "source": [
    "print(rt_predictions)"
   ]
  },
  {
   "cell_type": "code",
   "execution_count": 72,
   "id": "d81054aa-bfbe-4389-8939-6253de3f2106",
   "metadata": {},
   "outputs": [
    {
     "data": {
      "text/plain": [
       "array([[0.04, 0.  , 0.05, ..., 0.  , 0.02, 0.13],\n",
       "       [0.1 , 0.12, 0.15, ..., 0.13, 0.23, 0.14],\n",
       "       [0.18, 0.  , 0.04, ..., 0.  , 0.03, 0.02],\n",
       "       ...,\n",
       "       [0.07, 0.02, 0.2 , ..., 0.  , 0.07, 0.43],\n",
       "       [0.09, 0.18, 0.12, ..., 0.02, 0.06, 0.16],\n",
       "       [0.  , 0.13, 0.08, ..., 0.14, 0.38, 0.06]])"
      ]
     },
     "execution_count": 72,
     "metadata": {},
     "output_type": "execute_result"
    }
   ],
   "source": [
    "classifier.predict_proba(x_test)"
   ]
  },
  {
   "cell_type": "code",
   "execution_count": 74,
   "id": "b160458c-e14c-4e81-97b6-0a5568d6f5dc",
   "metadata": {},
   "outputs": [
    {
     "name": "stdout",
     "output_type": "stream",
     "text": [
      "0.687037037037037\n"
     ]
    }
   ],
   "source": [
    "print(accuracy_score(y_true=y_test,y_pred=rt_predictions))\n",
    "#print(classification_report(y_test,rt_predictions)) \n",
    "# creating a confusion matrix \n",
    "#print(confusion_matrix(y_test,rt_predictions) )"
   ]
  },
  {
   "cell_type": "code",
   "execution_count": null,
   "id": "96a431ba-802f-4539-93cb-1c785889cfb8",
   "metadata": {},
   "outputs": [],
   "source": []
  },
  {
   "cell_type": "code",
   "execution_count": null,
   "id": "fc42f2fb-0786-465f-8122-6d28da151244",
   "metadata": {},
   "outputs": [],
   "source": []
  },
  {
   "cell_type": "code",
   "execution_count": null,
   "id": "990d3f97-2508-448f-895b-193635acbba3",
   "metadata": {},
   "outputs": [],
   "source": []
  },
  {
   "cell_type": "code",
   "execution_count": null,
   "id": "e897deb5-bccf-4246-9840-1f071517cea2",
   "metadata": {},
   "outputs": [],
   "source": []
  },
  {
   "cell_type": "code",
   "execution_count": null,
   "id": "fd84ca86-6e23-4309-b482-3f02e4052c1c",
   "metadata": {},
   "outputs": [],
   "source": []
  }
 ],
 "metadata": {
  "kernelspec": {
   "display_name": "Python 3 (ipykernel)",
   "language": "python",
   "name": "python3"
  },
  "language_info": {
   "codemirror_mode": {
    "name": "ipython",
    "version": 3
   },
   "file_extension": ".py",
   "mimetype": "text/x-python",
   "name": "python",
   "nbconvert_exporter": "python",
   "pygments_lexer": "ipython3",
   "version": "3.10.7"
  },
  "vscode": {
   "interpreter": {
    "hash": "369f2c481f4da34e4445cda3fffd2e751bd1c4d706f27375911949ba6bb62e1c"
   }
  }
 },
 "nbformat": 4,
 "nbformat_minor": 5
}
