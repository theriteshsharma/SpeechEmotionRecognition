{
 "cells": [
  {
   "cell_type": "markdown",
   "id": "5f71259c-df98-4a99-a76a-9de238740e30",
   "metadata": {},
   "source": [
    "### Installation"
   ]
  },
  {
   "cell_type": "code",
   "execution_count": 1,
   "id": "a512fad7-e2b6-48d6-8ec6-32f351c65bbe",
   "metadata": {},
   "outputs": [
    {
     "name": "stdout",
     "output_type": "stream",
     "text": [
      "Requirement already satisfied: librosa in c:\\users\\rohit\\appdata\\local\\programs\\python\\python310\\lib\\site-packages (0.9.2)\n",
      "Requirement already satisfied: soundfile in c:\\users\\rohit\\appdata\\local\\programs\\python\\python310\\lib\\site-packages (0.11.0)\n",
      "Requirement already satisfied: numpy in c:\\users\\rohit\\appdata\\local\\programs\\python\\python310\\lib\\site-packages (1.23.3)\n",
      "Requirement already satisfied: sklearn in c:\\users\\rohit\\appdata\\local\\programs\\python\\python310\\lib\\site-packages (0.0)\n",
      "Requirement already satisfied: pyaudio in c:\\users\\rohit\\appdata\\local\\programs\\python\\python310\\lib\\site-packages (0.2.12)\n",
      "Requirement already satisfied: resampy>=0.2.2 in c:\\users\\rohit\\appdata\\local\\programs\\python\\python310\\lib\\site-packages (from librosa) (0.4.2)\n",
      "Requirement already satisfied: pooch>=1.0 in c:\\users\\rohit\\appdata\\local\\programs\\python\\python310\\lib\\site-packages (from librosa) (1.6.0)\n",
      "Requirement already satisfied: packaging>=20.0 in c:\\users\\rohit\\appdata\\local\\programs\\python\\python310\\lib\\site-packages (from librosa) (21.3)\n",
      "Requirement already satisfied: decorator>=4.0.10 in c:\\users\\rohit\\appdata\\local\\programs\\python\\python310\\lib\\site-packages (from librosa) (5.1.1)\n",
      "Requirement already satisfied: numba>=0.45.1 in c:\\users\\rohit\\appdata\\local\\programs\\python\\python310\\lib\\site-packages (from librosa) (0.56.2)\n",
      "Requirement already satisfied: audioread>=2.1.9 in c:\\users\\rohit\\appdata\\local\\programs\\python\\python310\\lib\\site-packages (from librosa) (3.0.0)\n",
      "Requirement already satisfied: joblib>=0.14 in c:\\users\\rohit\\appdata\\local\\programs\\python\\python310\\lib\\site-packages (from librosa) (1.2.0)\n",
      "Requirement already satisfied: scikit-learn>=0.19.1 in c:\\users\\rohit\\appdata\\local\\programs\\python\\python310\\lib\\site-packages (from librosa) (1.1.2)\n",
      "Requirement already satisfied: scipy>=1.2.0 in c:\\users\\rohit\\appdata\\local\\programs\\python\\python310\\lib\\site-packages (from librosa) (1.9.1)\n",
      "Requirement already satisfied: cffi>=1.0 in c:\\users\\rohit\\appdata\\local\\programs\\python\\python310\\lib\\site-packages (from soundfile) (1.15.1)\n",
      "Requirement already satisfied: pycparser in c:\\users\\rohit\\appdata\\local\\programs\\python\\python310\\lib\\site-packages (from cffi>=1.0->soundfile) (2.21)\n",
      "Requirement already satisfied: setuptools<60 in c:\\users\\rohit\\appdata\\local\\programs\\python\\python310\\lib\\site-packages (from numba>=0.45.1->librosa) (59.8.0)\n",
      "Requirement already satisfied: llvmlite<0.40,>=0.39.0dev0 in c:\\users\\rohit\\appdata\\local\\programs\\python\\python310\\lib\\site-packages (from numba>=0.45.1->librosa) (0.39.1)\n",
      "Requirement already satisfied: pyparsing!=3.0.5,>=2.0.2 in c:\\users\\rohit\\appdata\\local\\programs\\python\\python310\\lib\\site-packages (from packaging>=20.0->librosa) (3.0.9)\n",
      "Requirement already satisfied: appdirs>=1.3.0 in c:\\users\\rohit\\appdata\\local\\programs\\python\\python310\\lib\\site-packages (from pooch>=1.0->librosa) (1.4.4)\n",
      "Requirement already satisfied: requests>=2.19.0 in c:\\users\\rohit\\appdata\\local\\programs\\python\\python310\\lib\\site-packages (from pooch>=1.0->librosa) (2.28.1)\n",
      "Requirement already satisfied: threadpoolctl>=2.0.0 in c:\\users\\rohit\\appdata\\local\\programs\\python\\python310\\lib\\site-packages (from scikit-learn>=0.19.1->librosa) (3.1.0)\n",
      "Requirement already satisfied: urllib3<1.27,>=1.21.1 in c:\\users\\rohit\\appdata\\local\\programs\\python\\python310\\lib\\site-packages (from requests>=2.19.0->pooch>=1.0->librosa) (1.26.12)\n",
      "Requirement already satisfied: idna<4,>=2.5 in c:\\users\\rohit\\appdata\\local\\programs\\python\\python310\\lib\\site-packages (from requests>=2.19.0->pooch>=1.0->librosa) (3.4)\n",
      "Requirement already satisfied: charset-normalizer<3,>=2 in c:\\users\\rohit\\appdata\\local\\programs\\python\\python310\\lib\\site-packages (from requests>=2.19.0->pooch>=1.0->librosa) (2.1.1)\n",
      "Requirement already satisfied: certifi>=2017.4.17 in c:\\users\\rohit\\appdata\\local\\programs\\python\\python310\\lib\\site-packages (from requests>=2.19.0->pooch>=1.0->librosa) (2022.9.14)\n"
     ]
    }
   ],
   "source": [
    "!pip install librosa soundfile numpy sklearn pyaudio"
   ]
  },
  {
   "cell_type": "code",
   "execution_count": 2,
   "id": "7a972d92-9633-4a6b-acd4-70186e0ce2b7",
   "metadata": {},
   "outputs": [
    {
     "name": "stdout",
     "output_type": "stream",
     "text": [
      "Collecting pandas\n",
      "  Downloading pandas-1.5.0-cp310-cp310-win_amd64.whl (10.4 MB)\n",
      "     --------------------------------------- 10.4/10.4 MB 11.1 MB/s eta 0:00:00\n",
      "Requirement already satisfied: pytz>=2020.1 in c:\\users\\rohit\\appdata\\local\\programs\\python\\python310\\lib\\site-packages (from pandas) (2022.2.1)\n",
      "Requirement already satisfied: python-dateutil>=2.8.1 in c:\\users\\rohit\\appdata\\local\\programs\\python\\python310\\lib\\site-packages (from pandas) (2.8.2)\n",
      "Requirement already satisfied: numpy>=1.21.0 in c:\\users\\rohit\\appdata\\local\\programs\\python\\python310\\lib\\site-packages (from pandas) (1.23.3)\n",
      "Requirement already satisfied: six>=1.5 in c:\\users\\rohit\\appdata\\local\\programs\\python\\python310\\lib\\site-packages (from python-dateutil>=2.8.1->pandas) (1.16.0)\n",
      "Installing collected packages: pandas\n",
      "Successfully installed pandas-1.5.0\n"
     ]
    }
   ],
   "source": [
    "!pip install pandas"
   ]
  },
  {
   "cell_type": "code",
   "execution_count": 3,
   "id": "91ab198d-541c-48cf-800c-d6139fb4b19e",
   "metadata": {},
   "outputs": [],
   "source": [
    "import warnings\n",
    "warnings.filterwarnings('ignore')"
   ]
  },
  {
   "cell_type": "markdown",
   "id": "7e7563f6-1a2d-48b4-8ddc-b98964c21ab3",
   "metadata": {},
   "source": [
    "#### Imports"
   ]
  },
  {
   "cell_type": "code",
   "execution_count": 4,
   "id": "9b9cd7b8-4376-4e50-b67d-89b1e32d5c26",
   "metadata": {},
   "outputs": [],
   "source": [
    "import librosa\n",
    "import soundfile\n",
    "import os, glob, pickle\n",
    "import numpy as np\n",
    "import pandas as pd\n",
    "from sklearn.model_selection import train_test_split\n",
    "from sklearn.neural_network import MLPClassifier\n",
    "from sklearn.metrics import accuracy_score\n",
    "from sklearn.preprocessing import StandardScaler, OneHotEncoder"
   ]
  },
  {
   "cell_type": "markdown",
   "id": "7ea0dc12-4e31-4e4c-9f50-93f22e46fd33",
   "metadata": {},
   "source": [
    "### Preparing Data"
   ]
  },
  {
   "cell_type": "markdown",
   "id": "b9cd407d-7a8d-4522-96bd-948d1a652bc6",
   "metadata": {},
   "source": [
    "Functions to add augmentation and extract Features from existing dataset"
   ]
  },
  {
   "cell_type": "code",
   "execution_count": 5,
   "id": "e91b1623-6ce8-4fee-a94b-962e24ee236a",
   "metadata": {},
   "outputs": [],
   "source": [
    "def noise(data):\n",
    "    noise_amp = 0.035*np.random.uniform()*np.amax(data)\n",
    "    data = data + noise_amp*np.random.normal(size=data.shape[0])\n",
    "    return data\n",
    "\n",
    "def stretch(data, rate=0.8):\n",
    "    return librosa.effects.time_stretch(data, rate)\n",
    "\n",
    "def shift(data):\n",
    "    shift_range = int(np.random.uniform(low=-5, high = 5)*1000)\n",
    "    return np.roll(data, shift_range)\n",
    "\n",
    "def pitch(data, sampling_rate, pitch_factor=0.7):\n",
    "    return librosa.effects.pitch_shift(data, sampling_rate, pitch_factor)\n",
    "\n",
    "def extract_features(data,sample_rate):\n",
    "    # ZCR\n",
    "    result = np.array([])\n",
    "    zcr = np.mean(librosa.feature.zero_crossing_rate(y=data).T, axis=0)\n",
    "    result=np.hstack((result, zcr)) # stacking horizontally\n",
    "    \n",
    "\n",
    "    # Chroma_stft\n",
    "    stft = np.abs(librosa.stft(data))\n",
    "    \n",
    "    chroma_stft = np.mean(librosa.feature.chroma_stft(S=stft, sr=sample_rate).T, axis=0)\n",
    "    result = np.hstack((result, chroma_stft)) # stacking horizontally\n",
    "    \n",
    "\n",
    "    # MFCC\n",
    "    mfcc = np.mean(librosa.feature.mfcc(y=data, sr=sample_rate).T, axis=0)\n",
    "    result = np.hstack((result, mfcc)) # stacking horizontally\n",
    "   \n",
    "\n",
    "    # Root Mean Square Value\n",
    "    rms = np.mean(librosa.feature.rms(y=data).T, axis=0)\n",
    "    result = np.hstack((result, rms)) # stacking horizontally\n",
    "    \n",
    "\n",
    "    # MelSpectogram\n",
    "    mel = np.mean(librosa.feature.melspectrogram(y=data, sr=sample_rate).T, axis=0)\n",
    "    result = np.hstack((result, mel)) # stacking horizontally\n",
    "    return result\n",
    "\n",
    "def get_features(path):\n",
    "    # duration and offset are used to take care of the no audio in start and the ending of each audio files as seen above.\n",
    "    data, sample_rate = librosa.load(path, duration=2.5, offset=0.6)\n",
    "    \n",
    "    # without augmentation\n",
    "    res1 = extract_features(data,sample_rate)\n",
    "    result = np.array(res1)\n",
    "    \n",
    "    # data with noise\n",
    "    noise_data = noise(data)\n",
    "    res2 = extract_features(noise_data,sample_rate)\n",
    "    result = np.vstack((result, res2)) # stacking vertically\n",
    "    \n",
    "    # data with stretching and pitching\n",
    "    new_data = stretch(data)\n",
    "    data_stretch_pitch = pitch(new_data, sample_rate)\n",
    "    res3 = extract_features(data_stretch_pitch,sample_rate)\n",
    "    result = np.vstack((result, res3)) # stacking vertically\n",
    "    \n",
    "    return result"
   ]
  },
  {
   "cell_type": "code",
   "execution_count": 60,
   "id": "611e9975-5140-4ab8-ae15-b82ff464295e",
   "metadata": {},
   "outputs": [
    {
     "name": "stdout",
     "output_type": "stream",
     "text": [
      "1440\n"
     ]
    }
   ],
   "source": [
    "X,Y=[],[]\n",
    "\n",
    "#emotions in dataset\n",
    "emotions={\n",
    "  '01':'neutral',\n",
    "  '02':'calm',\n",
    "  '03':'happy',\n",
    "  '04':'sad',\n",
    "  '05':'angry',\n",
    "  '06':'fearful',\n",
    "  '07':'disgust',\n",
    "  '08':'surprised'\n",
    "}\n",
    "i = 0\n",
    "for file in glob.glob(\"C:\\\\Users\\\\rohit\\\\Downloads\\\\ravdessAudio\\\\Actor_*\\\\*.wav\"):\n",
    "    file_name=os.path.basename(file)\n",
    "    i+=1\n",
    "    # Emotion From File \n",
    "    emotion=emotions[file_name.split(\"-\")[2]]\n",
    "    \n",
    "    # Feature Extraction\n",
    "    features = get_features(file)\n",
    "    for ele in features:\n",
    "        X.append(ele)\n",
    "        Y.append(emotion)\n",
    "print(i)"
   ]
  },
  {
   "cell_type": "code",
   "execution_count": 61,
   "id": "b7749dfd-b579-4836-8ef0-d67feaf995eb",
   "metadata": {},
   "outputs": [
    {
     "data": {
      "text/plain": [
       "['neutral',\n",
       " 'neutral',\n",
       " 'neutral',\n",
       " 'neutral',\n",
       " 'neutral',\n",
       " 'neutral',\n",
       " 'neutral',\n",
       " 'neutral',\n",
       " 'neutral',\n",
       " 'neutral']"
      ]
     },
     "execution_count": 61,
     "metadata": {},
     "output_type": "execute_result"
    }
   ],
   "source": [
    "Y[:10]"
   ]
  },
  {
   "cell_type": "code",
   "execution_count": 62,
   "id": "9b684dea-f139-4e18-8ff9-465e07c18eb3",
   "metadata": {},
   "outputs": [],
   "source": [
    "Dataframe_x = pd.DataFrame(X)\n",
    "Dataframe_y = pd.DataFrame(Y)"
   ]
  },
  {
   "cell_type": "code",
   "execution_count": 63,
   "id": "7525adb5-db1c-4728-966f-199e95c1f918",
   "metadata": {},
   "outputs": [
    {
     "data": {
      "text/plain": [
       "(4320, 162)"
      ]
     },
     "execution_count": 63,
     "metadata": {},
     "output_type": "execute_result"
    }
   ],
   "source": [
    "Dataframe_x.shape\n",
    "\n"
   ]
  },
  {
   "cell_type": "code",
   "execution_count": 64,
   "id": "dc215608-053c-46b2-8990-cac205fbdeb6",
   "metadata": {},
   "outputs": [
    {
     "data": {
      "text/html": [
       "<div>\n",
       "<style scoped>\n",
       "    .dataframe tbody tr th:only-of-type {\n",
       "        vertical-align: middle;\n",
       "    }\n",
       "\n",
       "    .dataframe tbody tr th {\n",
       "        vertical-align: top;\n",
       "    }\n",
       "\n",
       "    .dataframe thead th {\n",
       "        text-align: right;\n",
       "    }\n",
       "</style>\n",
       "<table border=\"1\" class=\"dataframe\">\n",
       "  <thead>\n",
       "    <tr style=\"text-align: right;\">\n",
       "      <th></th>\n",
       "      <th>0</th>\n",
       "      <th>1</th>\n",
       "      <th>2</th>\n",
       "      <th>3</th>\n",
       "      <th>4</th>\n",
       "      <th>5</th>\n",
       "      <th>6</th>\n",
       "      <th>7</th>\n",
       "      <th>8</th>\n",
       "      <th>9</th>\n",
       "      <th>...</th>\n",
       "      <th>152</th>\n",
       "      <th>153</th>\n",
       "      <th>154</th>\n",
       "      <th>155</th>\n",
       "      <th>156</th>\n",
       "      <th>157</th>\n",
       "      <th>158</th>\n",
       "      <th>159</th>\n",
       "      <th>160</th>\n",
       "      <th>161</th>\n",
       "    </tr>\n",
       "  </thead>\n",
       "  <tbody>\n",
       "    <tr>\n",
       "      <th>0</th>\n",
       "      <td>0.283226</td>\n",
       "      <td>0.739174</td>\n",
       "      <td>0.760110</td>\n",
       "      <td>0.738748</td>\n",
       "      <td>0.712194</td>\n",
       "      <td>0.687986</td>\n",
       "      <td>0.667279</td>\n",
       "      <td>0.694000</td>\n",
       "      <td>0.742275</td>\n",
       "      <td>0.762594</td>\n",
       "      <td>...</td>\n",
       "      <td>3.812480e-06</td>\n",
       "      <td>4.312694e-06</td>\n",
       "      <td>3.293364e-06</td>\n",
       "      <td>2.149553e-06</td>\n",
       "      <td>2.260914e-06</td>\n",
       "      <td>4.562520e-06</td>\n",
       "      <td>4.985617e-06</td>\n",
       "      <td>1.324619e-06</td>\n",
       "      <td>1.469305e-07</td>\n",
       "      <td>3.053402e-09</td>\n",
       "    </tr>\n",
       "    <tr>\n",
       "      <th>1</th>\n",
       "      <td>0.311126</td>\n",
       "      <td>0.779460</td>\n",
       "      <td>0.818881</td>\n",
       "      <td>0.796993</td>\n",
       "      <td>0.801266</td>\n",
       "      <td>0.810570</td>\n",
       "      <td>0.715827</td>\n",
       "      <td>0.666192</td>\n",
       "      <td>0.712326</td>\n",
       "      <td>0.746050</td>\n",
       "      <td>...</td>\n",
       "      <td>3.835843e-05</td>\n",
       "      <td>3.811369e-05</td>\n",
       "      <td>3.850856e-05</td>\n",
       "      <td>3.554462e-05</td>\n",
       "      <td>3.452820e-05</td>\n",
       "      <td>3.813979e-05</td>\n",
       "      <td>3.840054e-05</td>\n",
       "      <td>3.431616e-05</td>\n",
       "      <td>3.306224e-05</td>\n",
       "      <td>3.247374e-05</td>\n",
       "    </tr>\n",
       "    <tr>\n",
       "      <th>2</th>\n",
       "      <td>0.181467</td>\n",
       "      <td>0.629995</td>\n",
       "      <td>0.730929</td>\n",
       "      <td>0.743651</td>\n",
       "      <td>0.680889</td>\n",
       "      <td>0.670727</td>\n",
       "      <td>0.673700</td>\n",
       "      <td>0.669033</td>\n",
       "      <td>0.709932</td>\n",
       "      <td>0.745144</td>\n",
       "      <td>...</td>\n",
       "      <td>7.151890e-07</td>\n",
       "      <td>8.582505e-07</td>\n",
       "      <td>9.570447e-07</td>\n",
       "      <td>7.741540e-07</td>\n",
       "      <td>5.212421e-07</td>\n",
       "      <td>3.252106e-07</td>\n",
       "      <td>4.883136e-07</td>\n",
       "      <td>2.353670e-07</td>\n",
       "      <td>2.240905e-08</td>\n",
       "      <td>9.753157e-11</td>\n",
       "    </tr>\n",
       "    <tr>\n",
       "      <th>3</th>\n",
       "      <td>0.254530</td>\n",
       "      <td>0.676571</td>\n",
       "      <td>0.724970</td>\n",
       "      <td>0.725722</td>\n",
       "      <td>0.668644</td>\n",
       "      <td>0.645344</td>\n",
       "      <td>0.671470</td>\n",
       "      <td>0.631493</td>\n",
       "      <td>0.681748</td>\n",
       "      <td>0.709889</td>\n",
       "      <td>...</td>\n",
       "      <td>7.128941e-06</td>\n",
       "      <td>6.987414e-06</td>\n",
       "      <td>7.038922e-06</td>\n",
       "      <td>6.659573e-06</td>\n",
       "      <td>6.937638e-06</td>\n",
       "      <td>1.117492e-05</td>\n",
       "      <td>5.767251e-06</td>\n",
       "      <td>2.024577e-06</td>\n",
       "      <td>1.944936e-07</td>\n",
       "      <td>2.701240e-09</td>\n",
       "    </tr>\n",
       "    <tr>\n",
       "      <th>4</th>\n",
       "      <td>0.282710</td>\n",
       "      <td>0.719157</td>\n",
       "      <td>0.769756</td>\n",
       "      <td>0.780520</td>\n",
       "      <td>0.746777</td>\n",
       "      <td>0.739917</td>\n",
       "      <td>0.741489</td>\n",
       "      <td>0.645501</td>\n",
       "      <td>0.673915</td>\n",
       "      <td>0.711552</td>\n",
       "      <td>...</td>\n",
       "      <td>1.394095e-05</td>\n",
       "      <td>1.415216e-05</td>\n",
       "      <td>1.450559e-05</td>\n",
       "      <td>1.451675e-05</td>\n",
       "      <td>1.433405e-05</td>\n",
       "      <td>1.846004e-05</td>\n",
       "      <td>1.333356e-05</td>\n",
       "      <td>9.180705e-06</td>\n",
       "      <td>7.212535e-06</td>\n",
       "      <td>7.446048e-06</td>\n",
       "    </tr>\n",
       "  </tbody>\n",
       "</table>\n",
       "<p>5 rows × 162 columns</p>\n",
       "</div>"
      ],
      "text/plain": [
       "        0         1         2         3         4         5         6    \\\n",
       "0  0.283226  0.739174  0.760110  0.738748  0.712194  0.687986  0.667279   \n",
       "1  0.311126  0.779460  0.818881  0.796993  0.801266  0.810570  0.715827   \n",
       "2  0.181467  0.629995  0.730929  0.743651  0.680889  0.670727  0.673700   \n",
       "3  0.254530  0.676571  0.724970  0.725722  0.668644  0.645344  0.671470   \n",
       "4  0.282710  0.719157  0.769756  0.780520  0.746777  0.739917  0.741489   \n",
       "\n",
       "        7         8         9    ...           152           153  \\\n",
       "0  0.694000  0.742275  0.762594  ...  3.812480e-06  4.312694e-06   \n",
       "1  0.666192  0.712326  0.746050  ...  3.835843e-05  3.811369e-05   \n",
       "2  0.669033  0.709932  0.745144  ...  7.151890e-07  8.582505e-07   \n",
       "3  0.631493  0.681748  0.709889  ...  7.128941e-06  6.987414e-06   \n",
       "4  0.645501  0.673915  0.711552  ...  1.394095e-05  1.415216e-05   \n",
       "\n",
       "            154           155           156           157           158  \\\n",
       "0  3.293364e-06  2.149553e-06  2.260914e-06  4.562520e-06  4.985617e-06   \n",
       "1  3.850856e-05  3.554462e-05  3.452820e-05  3.813979e-05  3.840054e-05   \n",
       "2  9.570447e-07  7.741540e-07  5.212421e-07  3.252106e-07  4.883136e-07   \n",
       "3  7.038922e-06  6.659573e-06  6.937638e-06  1.117492e-05  5.767251e-06   \n",
       "4  1.450559e-05  1.451675e-05  1.433405e-05  1.846004e-05  1.333356e-05   \n",
       "\n",
       "            159           160           161  \n",
       "0  1.324619e-06  1.469305e-07  3.053402e-09  \n",
       "1  3.431616e-05  3.306224e-05  3.247374e-05  \n",
       "2  2.353670e-07  2.240905e-08  9.753157e-11  \n",
       "3  2.024577e-06  1.944936e-07  2.701240e-09  \n",
       "4  9.180705e-06  7.212535e-06  7.446048e-06  \n",
       "\n",
       "[5 rows x 162 columns]"
      ]
     },
     "execution_count": 64,
     "metadata": {},
     "output_type": "execute_result"
    }
   ],
   "source": [
    "Dataframe_x.head()"
   ]
  },
  {
   "cell_type": "code",
   "execution_count": 65,
   "id": "946593fd-5933-4a1b-9f80-fd39f6b42b24",
   "metadata": {},
   "outputs": [],
   "source": [
    "encoder = OneHotEncoder()\n",
    "encoded_Y = encoder.fit_transform(np.array(Dataframe_y).reshape(-1,1)).toarray()\n"
   ]
  },
  {
   "cell_type": "code",
   "execution_count": 66,
   "id": "f6271873-6a28-4819-8143-5e10e90816cb",
   "metadata": {},
   "outputs": [],
   "source": [
    "x_train, x_test, y_train, y_test = train_test_split(X, Y, random_state=0, shuffle=True)"
   ]
  },
  {
   "cell_type": "code",
   "execution_count": 67,
   "id": "4ce318b7-d0cf-483c-acee-c579c7aace9e",
   "metadata": {},
   "outputs": [],
   "source": [
    "scaler = StandardScaler()\n",
    "x_train = scaler.fit_transform(x_train)\n",
    "x_test = scaler.transform(x_test)"
   ]
  },
  {
   "cell_type": "markdown",
   "id": "771f116a-c1c5-468b-a0a6-ae8f8233986e",
   "metadata": {},
   "source": [
    "## Support Vector Machine"
   ]
  },
  {
   "cell_type": "code",
   "execution_count": 14,
   "id": "bfce9dfe-5a87-435f-be80-96871d852191",
   "metadata": {},
   "outputs": [],
   "source": [
    "from sklearn.svm  import SVC\n",
    "svm_model = SVC(kernel='linear',C=1,probability=True).fit(x_train,y_train)\n",
    "svm_predictions = svm_model.predict(x_test)"
   ]
  },
  {
   "cell_type": "code",
   "execution_count": 38,
   "id": "6f7dc417-ef84-4862-822e-dec21280bf51",
   "metadata": {},
   "outputs": [
    {
     "data": {
      "text/plain": [
       "array(['surprised', 'sad', 'angry', ..., 'surprised', 'fearful', 'sad'],\n",
       "      dtype='<U9')"
      ]
     },
     "execution_count": 38,
     "metadata": {},
     "output_type": "execute_result"
    }
   ],
   "source": [
    "svm_predictions"
   ]
  },
  {
   "cell_type": "code",
   "execution_count": 15,
   "id": "bf6b699c-b7a3-481a-9941-67de7ce90f63",
   "metadata": {},
   "outputs": [
    {
     "name": "stdout",
     "output_type": "stream",
     "text": [
      "0.5666666666666667\n"
     ]
    }
   ],
   "source": [
    "print(accuracy_score(y_true=y_test,y_pred=svm_predictions))"
   ]
  },
  {
   "cell_type": "code",
   "execution_count": 16,
   "id": "84707d99-c1a8-4507-b36b-860620d201a9",
   "metadata": {},
   "outputs": [
    {
     "data": {
      "text/plain": [
       "array([[0.02342421, 0.00132087, 0.01372079, ..., 0.00221445, 0.0507681 ,\n",
       "        0.52996794],\n",
       "       [0.10162292, 0.00814391, 0.02371009, ..., 0.02132989, 0.53016156,\n",
       "        0.03219339],\n",
       "       [0.46700087, 0.00146471, 0.02407404, ..., 0.00172739, 0.0126197 ,\n",
       "        0.03542008],\n",
       "       ...,\n",
       "       [0.03339453, 0.00118936, 0.21605118, ..., 0.00553866, 0.0924504 ,\n",
       "        0.56466461],\n",
       "       [0.05566125, 0.03180724, 0.14081782, ..., 0.01501602, 0.04826041,\n",
       "        0.01898504],\n",
       "       [0.00384309, 0.39806908, 0.00853966, ..., 0.12012176, 0.38535673,\n",
       "        0.00397381]])"
      ]
     },
     "execution_count": 16,
     "metadata": {},
     "output_type": "execute_result"
    }
   ],
   "source": [
    "svm_model.predict_proba(x_test)"
   ]
  },
  {
   "cell_type": "code",
   "execution_count": 2,
   "id": "f49db7c3-be2b-41b0-bb4c-d716b5d5d11d",
   "metadata": {},
   "outputs": [
    {
     "ename": "SyntaxError",
     "evalue": "invalid syntax. Perhaps you forgot a comma? (2698483599.py, line 1)",
     "output_type": "error",
     "traceback": [
      "\u001b[1;36m  Cell \u001b[1;32mIn [2], line 1\u001b[1;36m\u001b[0m\n\u001b[1;33m    svm_model.predict([[ 2.06750204e-01  4.86104667e-01  4.80966866e-01  4.48195249e-01\u001b[0m\n\u001b[1;37m                         ^\u001b[0m\n\u001b[1;31mSyntaxError\u001b[0m\u001b[1;31m:\u001b[0m invalid syntax. Perhaps you forgot a comma?\n"
     ]
    }
   ],
   "source": []
  },
  {
   "cell_type": "code",
   "execution_count": 17,
   "id": "7a6f200c-05df-425f-9413-ca15ec4d7a99",
   "metadata": {},
   "outputs": [
    {
     "name": "stdout",
     "output_type": "stream",
     "text": [
      "612\n",
      "1080\n"
     ]
    }
   ],
   "source": [
    "test_predict = svm_model.predict(x_test)\n",
    "# for x in range(len(y_test)):\n",
    "#     print(y_test[x] +\"->\"+test_predict[x])\n",
    "i = 0 \n",
    "for x in range(len(y_test)):\n",
    "    if y_test[x] == test_predict[x]:\n",
    "        i+=1\n",
    "print(i)\n",
    "print(len(y_test))"
   ]
  },
  {
   "cell_type": "code",
   "execution_count": 18,
   "id": "0900f66b-63d9-485d-8d28-1f241ccf7dea",
   "metadata": {},
   "outputs": [
    {
     "data": {
      "text/plain": [
       "array(['angry', 'calm', 'disgust', 'fearful', 'happy', 'neutral', 'sad',\n",
       "       'surprised'], dtype='<U9')"
      ]
     },
     "execution_count": 18,
     "metadata": {},
     "output_type": "execute_result"
    }
   ],
   "source": [
    "svm_model.classes_"
   ]
  },
  {
   "cell_type": "markdown",
   "id": "62ab6ec7-5fa2-44b0-ac4f-1bd2cf67bbcb",
   "metadata": {},
   "source": [
    "## Random Forest\n"
   ]
  },
  {
   "cell_type": "code",
   "execution_count": 68,
   "id": "bc54098a-e03e-4432-ad28-e818ff532813",
   "metadata": {},
   "outputs": [],
   "source": [
    "from sklearn.ensemble import RandomForestClassifier\n",
    "from sklearn.metrics import classification_report\n",
    "from sklearn.metrics import confusion_matrix\n",
    "  \n",
    " # create regressor object \n",
    "classifier = RandomForestClassifier(n_estimators = 100, random_state = 0) \n",
    "  \n"
   ]
  },
  {
   "cell_type": "code",
   "execution_count": 69,
   "id": "153f05e8-b082-4e75-a913-7d5bd9f647a5",
   "metadata": {},
   "outputs": [
    {
     "data": {
      "text/html": [
       "<style>#sk-container-id-5 {color: black;background-color: white;}#sk-container-id-5 pre{padding: 0;}#sk-container-id-5 div.sk-toggleable {background-color: white;}#sk-container-id-5 label.sk-toggleable__label {cursor: pointer;display: block;width: 100%;margin-bottom: 0;padding: 0.3em;box-sizing: border-box;text-align: center;}#sk-container-id-5 label.sk-toggleable__label-arrow:before {content: \"▸\";float: left;margin-right: 0.25em;color: #696969;}#sk-container-id-5 label.sk-toggleable__label-arrow:hover:before {color: black;}#sk-container-id-5 div.sk-estimator:hover label.sk-toggleable__label-arrow:before {color: black;}#sk-container-id-5 div.sk-toggleable__content {max-height: 0;max-width: 0;overflow: hidden;text-align: left;background-color: #f0f8ff;}#sk-container-id-5 div.sk-toggleable__content pre {margin: 0.2em;color: black;border-radius: 0.25em;background-color: #f0f8ff;}#sk-container-id-5 input.sk-toggleable__control:checked~div.sk-toggleable__content {max-height: 200px;max-width: 100%;overflow: auto;}#sk-container-id-5 input.sk-toggleable__control:checked~label.sk-toggleable__label-arrow:before {content: \"▾\";}#sk-container-id-5 div.sk-estimator input.sk-toggleable__control:checked~label.sk-toggleable__label {background-color: #d4ebff;}#sk-container-id-5 div.sk-label input.sk-toggleable__control:checked~label.sk-toggleable__label {background-color: #d4ebff;}#sk-container-id-5 input.sk-hidden--visually {border: 0;clip: rect(1px 1px 1px 1px);clip: rect(1px, 1px, 1px, 1px);height: 1px;margin: -1px;overflow: hidden;padding: 0;position: absolute;width: 1px;}#sk-container-id-5 div.sk-estimator {font-family: monospace;background-color: #f0f8ff;border: 1px dotted black;border-radius: 0.25em;box-sizing: border-box;margin-bottom: 0.5em;}#sk-container-id-5 div.sk-estimator:hover {background-color: #d4ebff;}#sk-container-id-5 div.sk-parallel-item::after {content: \"\";width: 100%;border-bottom: 1px solid gray;flex-grow: 1;}#sk-container-id-5 div.sk-label:hover label.sk-toggleable__label {background-color: #d4ebff;}#sk-container-id-5 div.sk-serial::before {content: \"\";position: absolute;border-left: 1px solid gray;box-sizing: border-box;top: 0;bottom: 0;left: 50%;z-index: 0;}#sk-container-id-5 div.sk-serial {display: flex;flex-direction: column;align-items: center;background-color: white;padding-right: 0.2em;padding-left: 0.2em;position: relative;}#sk-container-id-5 div.sk-item {position: relative;z-index: 1;}#sk-container-id-5 div.sk-parallel {display: flex;align-items: stretch;justify-content: center;background-color: white;position: relative;}#sk-container-id-5 div.sk-item::before, #sk-container-id-5 div.sk-parallel-item::before {content: \"\";position: absolute;border-left: 1px solid gray;box-sizing: border-box;top: 0;bottom: 0;left: 50%;z-index: -1;}#sk-container-id-5 div.sk-parallel-item {display: flex;flex-direction: column;z-index: 1;position: relative;background-color: white;}#sk-container-id-5 div.sk-parallel-item:first-child::after {align-self: flex-end;width: 50%;}#sk-container-id-5 div.sk-parallel-item:last-child::after {align-self: flex-start;width: 50%;}#sk-container-id-5 div.sk-parallel-item:only-child::after {width: 0;}#sk-container-id-5 div.sk-dashed-wrapped {border: 1px dashed gray;margin: 0 0.4em 0.5em 0.4em;box-sizing: border-box;padding-bottom: 0.4em;background-color: white;}#sk-container-id-5 div.sk-label label {font-family: monospace;font-weight: bold;display: inline-block;line-height: 1.2em;}#sk-container-id-5 div.sk-label-container {text-align: center;}#sk-container-id-5 div.sk-container {/* jupyter's `normalize.less` sets `[hidden] { display: none; }` but bootstrap.min.css set `[hidden] { display: none !important; }` so we also need the `!important` here to be able to override the default hidden behavior on the sphinx rendered scikit-learn.org. See: https://github.com/scikit-learn/scikit-learn/issues/21755 */display: inline-block !important;position: relative;}#sk-container-id-5 div.sk-text-repr-fallback {display: none;}</style><div id=\"sk-container-id-5\" class=\"sk-top-container\"><div class=\"sk-text-repr-fallback\"><pre>RandomForestClassifier(random_state=0)</pre><b>In a Jupyter environment, please rerun this cell to show the HTML representation or trust the notebook. <br />On GitHub, the HTML representation is unable to render, please try loading this page with nbviewer.org.</b></div><div class=\"sk-container\" hidden><div class=\"sk-item\"><div class=\"sk-estimator sk-toggleable\"><input class=\"sk-toggleable__control sk-hidden--visually\" id=\"sk-estimator-id-5\" type=\"checkbox\" checked><label for=\"sk-estimator-id-5\" class=\"sk-toggleable__label sk-toggleable__label-arrow\">RandomForestClassifier</label><div class=\"sk-toggleable__content\"><pre>RandomForestClassifier(random_state=0)</pre></div></div></div></div></div>"
      ],
      "text/plain": [
       "RandomForestClassifier(random_state=0)"
      ]
     },
     "execution_count": 69,
     "metadata": {},
     "output_type": "execute_result"
    }
   ],
   "source": [
    "# fit the regressor with x and y data \n",
    "classifier.fit(x_train, y_train)   \n",
    "\n"
   ]
  },
  {
   "cell_type": "code",
   "execution_count": 70,
   "id": "0c2df862-e2b5-4494-a462-fe5b64cac32e",
   "metadata": {},
   "outputs": [],
   "source": [
    "rt_predictions = classifier.predict(x_test) "
   ]
  },
  {
   "cell_type": "code",
   "execution_count": 71,
   "id": "ce5c046f-3069-444a-a98a-61d9a951f1cd",
   "metadata": {},
   "outputs": [
    {
     "name": "stdout",
     "output_type": "stream",
     "text": [
      "['fearful' 'sad' 'fearful' ... 'surprised' 'fearful' 'sad']\n"
     ]
    }
   ],
   "source": [
    "print(rt_predictions)"
   ]
  },
  {
   "cell_type": "code",
   "execution_count": 72,
   "id": "d81054aa-bfbe-4389-8939-6253de3f2106",
   "metadata": {},
   "outputs": [
    {
     "data": {
      "text/plain": [
       "array([[0.04, 0.  , 0.05, ..., 0.  , 0.02, 0.13],\n",
       "       [0.1 , 0.12, 0.15, ..., 0.13, 0.23, 0.14],\n",
       "       [0.18, 0.  , 0.04, ..., 0.  , 0.03, 0.02],\n",
       "       ...,\n",
       "       [0.07, 0.02, 0.2 , ..., 0.  , 0.07, 0.43],\n",
       "       [0.09, 0.18, 0.12, ..., 0.02, 0.06, 0.16],\n",
       "       [0.  , 0.13, 0.08, ..., 0.14, 0.38, 0.06]])"
      ]
     },
     "execution_count": 72,
     "metadata": {},
     "output_type": "execute_result"
    }
   ],
   "source": [
    "classifier.predict_proba(x_test)"
   ]
  },
  {
   "cell_type": "code",
   "execution_count": 74,
   "id": "b160458c-e14c-4e81-97b6-0a5568d6f5dc",
   "metadata": {},
   "outputs": [
    {
     "name": "stdout",
     "output_type": "stream",
     "text": [
      "0.687037037037037\n"
     ]
    }
   ],
   "source": [
    "print(accuracy_score(y_true=y_test,y_pred=rt_predictions))\n",
    "#print(classification_report(y_test,rt_predictions)) \n",
    "# creating a confusion matrix \n",
    "#print(confusion_matrix(y_test,rt_predictions) )"
   ]
  },
  {
   "cell_type": "code",
   "execution_count": null,
   "id": "84b41da7-2d6d-4d49-bec5-e303a313ee3e",
   "metadata": {},
   "outputs": [],
   "source": []
  }
 ],
 "metadata": {
  "kernelspec": {
   "display_name": "Python 3 (ipykernel)",
   "language": "python",
   "name": "python3"
  },
  "language_info": {
   "codemirror_mode": {
    "name": "ipython",
    "version": 3
   },
   "file_extension": ".py",
   "mimetype": "text/x-python",
   "name": "python",
   "nbconvert_exporter": "python",
   "pygments_lexer": "ipython3",
   "version": "3.10.7"
  },
  "vscode": {
   "interpreter": {
    "hash": "369f2c481f4da34e4445cda3fffd2e751bd1c4d706f27375911949ba6bb62e1c"
   }
  }
 },
 "nbformat": 4,
 "nbformat_minor": 5
}
