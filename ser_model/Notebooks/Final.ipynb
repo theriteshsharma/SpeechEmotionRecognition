{
 "cells": [
  {
   "cell_type": "markdown",
   "id": "5f71259c-df98-4a99-a76a-9de238740e30",
   "metadata": {},
   "source": [
    "### Installation"
   ]
  },
  {
   "cell_type": "code",
   "execution_count": 1,
   "id": "a512fad7-e2b6-48d6-8ec6-32f351c65bbe",
   "metadata": {},
   "outputs": [
    {
     "name": "stdout",
     "output_type": "stream",
     "text": [
      "Requirement already satisfied: librosa in c:\\python310\\lib\\site-packages (0.9.2)\n",
      "Requirement already satisfied: soundfile in c:\\python310\\lib\\site-packages (0.10.3.post1)\n",
      "Requirement already satisfied: numpy in c:\\python310\\lib\\site-packages (1.23.3)\n",
      "Requirement already satisfied: sklearn in c:\\python310\\lib\\site-packages (0.0)\n",
      "Requirement already satisfied: pyaudio in c:\\python310\\lib\\site-packages (0.2.12)\n",
      "Requirement already satisfied: joblib>=0.14 in c:\\python310\\lib\\site-packages (from librosa) (1.2.0)\n",
      "Requirement already satisfied: decorator>=4.0.10 in c:\\python310\\lib\\site-packages (from librosa) (5.1.1)\n",
      "Requirement already satisfied: audioread>=2.1.9 in c:\\python310\\lib\\site-packages (from librosa) (3.0.0)\n",
      "Requirement already satisfied: pooch>=1.0 in c:\\python310\\lib\\site-packages (from librosa) (1.6.0)\n",
      "Requirement already satisfied: packaging>=20.0 in c:\\python310\\lib\\site-packages (from librosa) (21.3)\n",
      "Requirement already satisfied: numba>=0.45.1 in c:\\python310\\lib\\site-packages (from librosa) (0.56.2)\n",
      "Requirement already satisfied: resampy>=0.2.2 in c:\\python310\\lib\\site-packages (from librosa) (0.4.2)\n",
      "Requirement already satisfied: scipy>=1.2.0 in c:\\python310\\lib\\site-packages (from librosa) (1.9.1)\n",
      "Requirement already satisfied: scikit-learn>=0.19.1 in c:\\python310\\lib\\site-packages (from librosa) (1.1.2)\n",
      "Requirement already satisfied: cffi>=1.0 in c:\\python310\\lib\\site-packages (from soundfile) (1.15.1)\n",
      "Requirement already satisfied: pycparser in c:\\python310\\lib\\site-packages (from cffi>=1.0->soundfile) (2.21)\n",
      "Requirement already satisfied: llvmlite<0.40,>=0.39.0dev0 in c:\\python310\\lib\\site-packages (from numba>=0.45.1->librosa) (0.39.1)\n",
      "Requirement already satisfied: setuptools<60 in c:\\python310\\lib\\site-packages (from numba>=0.45.1->librosa) (59.8.0)\n",
      "Requirement already satisfied: pyparsing!=3.0.5,>=2.0.2 in c:\\python310\\lib\\site-packages (from packaging>=20.0->librosa) (3.0.9)\n",
      "Requirement already satisfied: appdirs>=1.3.0 in c:\\python310\\lib\\site-packages (from pooch>=1.0->librosa) (1.4.4)\n",
      "Requirement already satisfied: requests>=2.19.0 in c:\\python310\\lib\\site-packages (from pooch>=1.0->librosa) (2.28.1)\n",
      "Requirement already satisfied: threadpoolctl>=2.0.0 in c:\\python310\\lib\\site-packages (from scikit-learn>=0.19.1->librosa) (3.1.0)\n",
      "Requirement already satisfied: urllib3<1.27,>=1.21.1 in c:\\python310\\lib\\site-packages (from requests>=2.19.0->pooch>=1.0->librosa) (1.26.12)\n",
      "Requirement already satisfied: charset-normalizer<3,>=2 in c:\\python310\\lib\\site-packages (from requests>=2.19.0->pooch>=1.0->librosa) (2.1.1)\n",
      "Requirement already satisfied: certifi>=2017.4.17 in c:\\python310\\lib\\site-packages (from requests>=2.19.0->pooch>=1.0->librosa) (2022.9.24)\n",
      "Requirement already satisfied: idna<4,>=2.5 in c:\\python310\\lib\\site-packages (from requests>=2.19.0->pooch>=1.0->librosa) (3.4)\n"
     ]
    }
   ],
   "source": [
    "!pip install librosa soundfile numpy sklearn pyaudio"
   ]
  },
  {
   "cell_type": "code",
   "execution_count": 2,
   "id": "7a972d92-9633-4a6b-acd4-70186e0ce2b7",
   "metadata": {},
   "outputs": [
    {
     "name": "stdout",
     "output_type": "stream",
     "text": [
      "Requirement already satisfied: pandas in c:\\python310\\lib\\site-packages (1.5.0)\n",
      "Requirement already satisfied: python-dateutil>=2.8.1 in c:\\python310\\lib\\site-packages (from pandas) (2.8.2)\n",
      "Requirement already satisfied: pytz>=2020.1 in c:\\python310\\lib\\site-packages (from pandas) (2022.2.1)\n",
      "Requirement already satisfied: numpy>=1.21.0 in c:\\python310\\lib\\site-packages (from pandas) (1.23.3)\n",
      "Requirement already satisfied: six>=1.5 in c:\\python310\\lib\\site-packages (from python-dateutil>=2.8.1->pandas) (1.16.0)\n"
     ]
    }
   ],
   "source": [
    "!pip install pandas"
   ]
  },
  {
   "cell_type": "code",
   "execution_count": 3,
   "id": "91ab198d-541c-48cf-800c-d6139fb4b19e",
   "metadata": {},
   "outputs": [
    {
     "name": "stdout",
     "output_type": "stream",
     "text": [
      "Requirement already satisfied: keras in c:\\python310\\lib\\site-packages (2.10.0)\n",
      "Requirement already satisfied: tensorflow in c:\\python310\\lib\\site-packages (2.10.0)\n",
      "Requirement already satisfied: h5py>=2.9.0 in c:\\python310\\lib\\site-packages (from tensorflow) (3.7.0)\n",
      "Requirement already satisfied: flatbuffers>=2.0 in c:\\python310\\lib\\site-packages (from tensorflow) (2.0.7)\n",
      "Requirement already satisfied: tensorboard<2.11,>=2.10 in c:\\python310\\lib\\site-packages (from tensorflow) (2.10.1)\n",
      "Requirement already satisfied: tensorflow-io-gcs-filesystem>=0.23.1 in c:\\python310\\lib\\site-packages (from tensorflow) (0.27.0)\n",
      "Requirement already satisfied: absl-py>=1.0.0 in c:\\python310\\lib\\site-packages (from tensorflow) (1.2.0)\n",
      "Requirement already satisfied: six>=1.12.0 in c:\\python310\\lib\\site-packages (from tensorflow) (1.16.0)\n",
      "Requirement already satisfied: setuptools in c:\\python310\\lib\\site-packages (from tensorflow) (59.8.0)\n",
      "Requirement already satisfied: typing-extensions>=3.6.6 in c:\\python310\\lib\\site-packages (from tensorflow) (4.3.0)\n",
      "Requirement already satisfied: astunparse>=1.6.0 in c:\\python310\\lib\\site-packages (from tensorflow) (1.6.3)\n",
      "Requirement already satisfied: gast<=0.4.0,>=0.2.1 in c:\\python310\\lib\\site-packages (from tensorflow) (0.4.0)\n",
      "Requirement already satisfied: grpcio<2.0,>=1.24.3 in c:\\python310\\lib\\site-packages (from tensorflow) (1.49.1)\n",
      "Requirement already satisfied: tensorflow-estimator<2.11,>=2.10.0 in c:\\python310\\lib\\site-packages (from tensorflow) (2.10.0)\n",
      "Requirement already satisfied: libclang>=13.0.0 in c:\\python310\\lib\\site-packages (from tensorflow) (14.0.6)\n",
      "Requirement already satisfied: opt-einsum>=2.3.2 in c:\\python310\\lib\\site-packages (from tensorflow) (3.3.0)\n",
      "Requirement already satisfied: google-pasta>=0.1.1 in c:\\python310\\lib\\site-packages (from tensorflow) (0.2.0)\n",
      "Requirement already satisfied: numpy>=1.20 in c:\\python310\\lib\\site-packages (from tensorflow) (1.23.3)\n",
      "Requirement already satisfied: termcolor>=1.1.0 in c:\\python310\\lib\\site-packages (from tensorflow) (2.0.1)\n",
      "Requirement already satisfied: wrapt>=1.11.0 in c:\\python310\\lib\\site-packages (from tensorflow) (1.14.1)\n",
      "Requirement already satisfied: protobuf<3.20,>=3.9.2 in c:\\python310\\lib\\site-packages (from tensorflow) (3.19.5)\n",
      "Requirement already satisfied: packaging in c:\\python310\\lib\\site-packages (from tensorflow) (21.3)\n",
      "Requirement already satisfied: keras-preprocessing>=1.1.1 in c:\\python310\\lib\\site-packages (from tensorflow) (1.1.2)\n",
      "Requirement already satisfied: wheel<1.0,>=0.23.0 in c:\\python310\\lib\\site-packages (from astunparse>=1.6.0->tensorflow) (0.37.1)\n",
      "Requirement already satisfied: google-auth-oauthlib<0.5,>=0.4.1 in c:\\python310\\lib\\site-packages (from tensorboard<2.11,>=2.10->tensorflow) (0.4.6)\n",
      "Requirement already satisfied: tensorboard-plugin-wit>=1.6.0 in c:\\python310\\lib\\site-packages (from tensorboard<2.11,>=2.10->tensorflow) (1.8.1)\n",
      "Requirement already satisfied: werkzeug>=1.0.1 in c:\\python310\\lib\\site-packages (from tensorboard<2.11,>=2.10->tensorflow) (2.2.2)\n",
      "Requirement already satisfied: tensorboard-data-server<0.7.0,>=0.6.0 in c:\\python310\\lib\\site-packages (from tensorboard<2.11,>=2.10->tensorflow) (0.6.1)\n",
      "Requirement already satisfied: requests<3,>=2.21.0 in c:\\python310\\lib\\site-packages (from tensorboard<2.11,>=2.10->tensorflow) (2.28.1)\n",
      "Requirement already satisfied: markdown>=2.6.8 in c:\\python310\\lib\\site-packages (from tensorboard<2.11,>=2.10->tensorflow) (3.4.1)\n",
      "Requirement already satisfied: google-auth<3,>=1.6.3 in c:\\python310\\lib\\site-packages (from tensorboard<2.11,>=2.10->tensorflow) (2.11.1)\n",
      "Requirement already satisfied: pyparsing!=3.0.5,>=2.0.2 in c:\\python310\\lib\\site-packages (from packaging->tensorflow) (3.0.9)\n",
      "Requirement already satisfied: rsa<5,>=3.1.4 in c:\\python310\\lib\\site-packages (from google-auth<3,>=1.6.3->tensorboard<2.11,>=2.10->tensorflow) (4.9)\n",
      "Requirement already satisfied: cachetools<6.0,>=2.0.0 in c:\\python310\\lib\\site-packages (from google-auth<3,>=1.6.3->tensorboard<2.11,>=2.10->tensorflow) (5.2.0)\n",
      "Requirement already satisfied: pyasn1-modules>=0.2.1 in c:\\python310\\lib\\site-packages (from google-auth<3,>=1.6.3->tensorboard<2.11,>=2.10->tensorflow) (0.2.8)\n",
      "Requirement already satisfied: requests-oauthlib>=0.7.0 in c:\\python310\\lib\\site-packages (from google-auth-oauthlib<0.5,>=0.4.1->tensorboard<2.11,>=2.10->tensorflow) (1.3.1)\n",
      "Requirement already satisfied: idna<4,>=2.5 in c:\\python310\\lib\\site-packages (from requests<3,>=2.21.0->tensorboard<2.11,>=2.10->tensorflow) (3.4)\n",
      "Requirement already satisfied: certifi>=2017.4.17 in c:\\python310\\lib\\site-packages (from requests<3,>=2.21.0->tensorboard<2.11,>=2.10->tensorflow) (2022.9.24)\n",
      "Requirement already satisfied: charset-normalizer<3,>=2 in c:\\python310\\lib\\site-packages (from requests<3,>=2.21.0->tensorboard<2.11,>=2.10->tensorflow) (2.1.1)\n",
      "Requirement already satisfied: urllib3<1.27,>=1.21.1 in c:\\python310\\lib\\site-packages (from requests<3,>=2.21.0->tensorboard<2.11,>=2.10->tensorflow) (1.26.12)\n",
      "Requirement already satisfied: MarkupSafe>=2.1.1 in c:\\python310\\lib\\site-packages (from werkzeug>=1.0.1->tensorboard<2.11,>=2.10->tensorflow) (2.1.1)\n",
      "Requirement already satisfied: pyasn1<0.5.0,>=0.4.6 in c:\\python310\\lib\\site-packages (from pyasn1-modules>=0.2.1->google-auth<3,>=1.6.3->tensorboard<2.11,>=2.10->tensorflow) (0.4.8)\n",
      "Requirement already satisfied: oauthlib>=3.0.0 in c:\\python310\\lib\\site-packages (from requests-oauthlib>=0.7.0->google-auth-oauthlib<0.5,>=0.4.1->tensorboard<2.11,>=2.10->tensorflow) (3.2.1)\n"
     ]
    }
   ],
   "source": [
    "!pip install keras tensorflow"
   ]
  },
  {
   "cell_type": "code",
   "execution_count": 4,
   "id": "f24fca80",
   "metadata": {},
   "outputs": [
    {
     "name": "stdout",
     "output_type": "stream",
     "text": [
      "Requirement already satisfied: pickle-mixin in c:\\python310\\lib\\site-packages (1.0.2)\n"
     ]
    }
   ],
   "source": [
    "!pip install pickle-mixin"
   ]
  },
  {
   "cell_type": "markdown",
   "id": "7e7563f6-1a2d-48b4-8ddc-b98964c21ab3",
   "metadata": {},
   "source": [
    "#### Imports"
   ]
  },
  {
   "cell_type": "code",
   "execution_count": 6,
   "id": "9b9cd7b8-4376-4e50-b67d-89b1e32d5c26",
   "metadata": {},
   "outputs": [],
   "source": [
    "import librosa\n",
    "import soundfile\n",
    "import os, glob, pickle, sys\n",
    "import numpy as np\n",
    "import pandas as pd\n",
    "from sklearn.model_selection import train_test_split\n",
    "from sklearn.neural_network import MLPClassifier\n",
    "from sklearn.metrics import accuracy_score\n",
    "from sklearn.preprocessing import StandardScaler, OneHotEncoder\n",
    "\n",
    "import pickle\n",
    "\n",
    "#imports for cnn\n",
    "import keras\n",
    "from keras.callbacks import ReduceLROnPlateau\n",
    "from keras.models import Sequential\n",
    "from keras.layers import Dense, Conv1D, MaxPooling1D, Flatten, Dropout, BatchNormalization\n",
    "from keras.utils import np_utils, to_categorical\n",
    "from keras.callbacks import ModelCheckpoint\n",
    "\n",
    "\n",
    "import warnings\n",
    "if not sys.warnoptions:\n",
    "    warnings.simplefilter(\"ignore\")\n",
    "warnings.filterwarnings(\"ignore\", category=DeprecationWarning) "
   ]
  },
  {
   "cell_type": "markdown",
   "id": "7ea0dc12-4e31-4e4c-9f50-93f22e46fd33",
   "metadata": {},
   "source": [
    "### Preparing Data"
   ]
  },
  {
   "cell_type": "markdown",
   "id": "b9cd407d-7a8d-4522-96bd-948d1a652bc6",
   "metadata": {},
   "source": [
    "Functions to add augmentation and extract Features from existing dataset"
   ]
  },
  {
   "cell_type": "code",
   "execution_count": 7,
   "id": "e91b1623-6ce8-4fee-a94b-962e24ee236a",
   "metadata": {},
   "outputs": [],
   "source": [
    "def noise(data):\n",
    "    noise_amp = 0.035*np.random.uniform()*np.amax(data)\n",
    "    data = data + noise_amp*np.random.normal(size=data.shape[0])\n",
    "    return data\n",
    "\n",
    "def stretch(data, rate=0.8):\n",
    "    return librosa.effects.time_stretch(data, rate)\n",
    "\n",
    "def shift(data):\n",
    "    shift_range = int(np.random.uniform(low=-5, high = 5)*1000)\n",
    "    return np.roll(data, shift_range)\n",
    "\n",
    "def pitch(data, sampling_rate, pitch_factor=0.7):\n",
    "    return librosa.effects.pitch_shift(data, sampling_rate, pitch_factor)\n",
    "\n",
    "def extract_features(data,sample_rate):\n",
    "    # ZCR\n",
    "    result = np.array([])\n",
    "    zcr = np.mean(librosa.feature.zero_crossing_rate(y=data).T, axis=0)\n",
    "    result=np.hstack((result, zcr)) # stacking horizontally\n",
    "    \n",
    "\n",
    "    # Chroma_stft\n",
    "    stft = np.abs(librosa.stft(data))\n",
    "    \n",
    "    chroma_stft = np.mean(librosa.feature.chroma_stft(S=stft, sr=sample_rate).T, axis=0)\n",
    "    result = np.hstack((result, chroma_stft)) # stacking horizontally\n",
    "    \n",
    "\n",
    "    # MFCC\n",
    "    mfcc = np.mean(librosa.feature.mfcc(y=data, sr=sample_rate).T, axis=0)\n",
    "    result = np.hstack((result, mfcc)) # stacking horizontally\n",
    "   \n",
    "\n",
    "    # Root Mean Square Value\n",
    "    rms = np.mean(librosa.feature.rms(y=data).T, axis=0)\n",
    "    result = np.hstack((result, rms)) # stacking horizontally\n",
    "    \n",
    "\n",
    "    # MelSpectogram\n",
    "    mel = np.mean(librosa.feature.melspectrogram(y=data, sr=sample_rate).T, axis=0)\n",
    "    result = np.hstack((result, mel)) # stacking horizontally\n",
    "    return result\n",
    "\n",
    "def get_features(path):\n",
    "    # duration and offset are used to take care of the no audio in start and the ending of each audio files as seen above.\n",
    "    data, sample_rate = librosa.load(path, duration=2.5, offset=0.6)\n",
    "    \n",
    "    # without augmentation\n",
    "    res1 = extract_features(data,sample_rate)\n",
    "    result = np.array(res1)\n",
    "    \n",
    "    # data with noise\n",
    "    noise_data = noise(data)\n",
    "    res2 = extract_features(noise_data,sample_rate)\n",
    "    result = np.vstack((result, res2)) # stacking vertically\n",
    "    \n",
    "    # data with stretching and pitching\n",
    "    new_data = stretch(data)\n",
    "    data_stretch_pitch = pitch(new_data, sample_rate)\n",
    "    res3 = extract_features(data_stretch_pitch,sample_rate)\n",
    "    result = np.vstack((result, res3)) # stacking vertically\n",
    "    \n",
    "    return result"
   ]
  },
  {
   "cell_type": "code",
   "execution_count": 39,
   "id": "611e9975-5140-4ab8-ae15-b82ff464295e",
   "metadata": {},
   "outputs": [
    {
     "name": "stdout",
     "output_type": "stream",
     "text": [
      "1440\n"
     ]
    }
   ],
   "source": [
    "X,Y=[],[]\n",
    "\n",
    "#emotions in dataset\n",
    "emotions={\n",
    "  '01':'neutral',\n",
    "  '02':'calm',\n",
    "  '03':'happy',\n",
    "  '04':'sad',\n",
    "  '05':'angry',\n",
    "  '06':'fearful',\n",
    "  '07':'disgust',\n",
    "  '08':'surprised'\n",
    "}\n",
    "i = 0\n",
    "for file in glob.glob(\"E:\\\\Code\\\\Projects\\\\SpeechEmotionRecognition\\\\ser_model\\\\Notebooks\\\\Ravdess\\\\Actor_*\\\\*.wav\"):\n",
    "    file_name=os.path.basename(file)\n",
    "    i+=1\n",
    "    # Emotion From File \n",
    "    emotion=emotions[file_name.split(\"-\")[2]]\n",
    "    \n",
    "    # Feature Extraction\n",
    "    features = get_features(file)\n",
    "    for ele in features:\n",
    "        X.append(ele)\n",
    "        Y.append(emotion)\n",
    "print(i)"
   ]
  },
  {
   "cell_type": "code",
   "execution_count": 9,
   "id": "a00b6c7f-a47c-4b34-8023-b6bd53193c1b",
   "metadata": {},
   "outputs": [
    {
     "data": {
      "text/html": [
       "<div>\n",
       "<style scoped>\n",
       "    .dataframe tbody tr th:only-of-type {\n",
       "        vertical-align: middle;\n",
       "    }\n",
       "\n",
       "    .dataframe tbody tr th {\n",
       "        vertical-align: top;\n",
       "    }\n",
       "\n",
       "    .dataframe thead th {\n",
       "        text-align: right;\n",
       "    }\n",
       "</style>\n",
       "<table border=\"1\" class=\"dataframe\">\n",
       "  <thead>\n",
       "    <tr style=\"text-align: right;\">\n",
       "      <th></th>\n",
       "      <th>Unnamed: 0</th>\n",
       "      <th>0</th>\n",
       "      <th>1</th>\n",
       "      <th>2</th>\n",
       "      <th>3</th>\n",
       "      <th>4</th>\n",
       "      <th>5</th>\n",
       "      <th>6</th>\n",
       "      <th>7</th>\n",
       "      <th>8</th>\n",
       "      <th>...</th>\n",
       "      <th>153</th>\n",
       "      <th>154</th>\n",
       "      <th>155</th>\n",
       "      <th>156</th>\n",
       "      <th>157</th>\n",
       "      <th>158</th>\n",
       "      <th>159</th>\n",
       "      <th>160</th>\n",
       "      <th>161</th>\n",
       "      <th>0.1</th>\n",
       "    </tr>\n",
       "  </thead>\n",
       "  <tbody>\n",
       "    <tr>\n",
       "      <th>0</th>\n",
       "      <td>0</td>\n",
       "      <td>0.224306</td>\n",
       "      <td>0.664190</td>\n",
       "      <td>0.693038</td>\n",
       "      <td>0.665390</td>\n",
       "      <td>0.673116</td>\n",
       "      <td>0.696442</td>\n",
       "      <td>0.684787</td>\n",
       "      <td>0.706183</td>\n",
       "      <td>0.748844</td>\n",
       "      <td>...</td>\n",
       "      <td>6.888786e-17</td>\n",
       "      <td>6.993841e-17</td>\n",
       "      <td>7.601734e-17</td>\n",
       "      <td>7.305700e-17</td>\n",
       "      <td>6.833248e-17</td>\n",
       "      <td>7.254372e-17</td>\n",
       "      <td>7.962737e-17</td>\n",
       "      <td>7.395194e-17</td>\n",
       "      <td>7.358765e-17</td>\n",
       "      <td>neutral</td>\n",
       "    </tr>\n",
       "    <tr>\n",
       "      <th>1</th>\n",
       "      <td>1</td>\n",
       "      <td>0.284351</td>\n",
       "      <td>0.744315</td>\n",
       "      <td>0.799083</td>\n",
       "      <td>0.779027</td>\n",
       "      <td>0.777929</td>\n",
       "      <td>0.788401</td>\n",
       "      <td>0.707030</td>\n",
       "      <td>0.673835</td>\n",
       "      <td>0.716503</td>\n",
       "      <td>...</td>\n",
       "      <td>5.998793e-06</td>\n",
       "      <td>6.341882e-06</td>\n",
       "      <td>6.158174e-06</td>\n",
       "      <td>6.040658e-06</td>\n",
       "      <td>6.382624e-06</td>\n",
       "      <td>6.590600e-06</td>\n",
       "      <td>6.014139e-06</td>\n",
       "      <td>6.107160e-06</td>\n",
       "      <td>5.836667e-06</td>\n",
       "      <td>neutral</td>\n",
       "    </tr>\n",
       "    <tr>\n",
       "      <th>2</th>\n",
       "      <td>2</td>\n",
       "      <td>0.169383</td>\n",
       "      <td>0.579495</td>\n",
       "      <td>0.662042</td>\n",
       "      <td>0.674849</td>\n",
       "      <td>0.631609</td>\n",
       "      <td>0.623019</td>\n",
       "      <td>0.687452</td>\n",
       "      <td>0.671907</td>\n",
       "      <td>0.692694</td>\n",
       "      <td>...</td>\n",
       "      <td>1.885160e-15</td>\n",
       "      <td>1.743947e-15</td>\n",
       "      <td>1.590055e-15</td>\n",
       "      <td>1.477827e-15</td>\n",
       "      <td>1.528373e-15</td>\n",
       "      <td>1.689925e-15</td>\n",
       "      <td>1.679742e-15</td>\n",
       "      <td>1.602365e-15</td>\n",
       "      <td>1.500745e-15</td>\n",
       "      <td>neutral</td>\n",
       "    </tr>\n",
       "    <tr>\n",
       "      <th>3</th>\n",
       "      <td>3</td>\n",
       "      <td>0.196533</td>\n",
       "      <td>0.652948</td>\n",
       "      <td>0.692924</td>\n",
       "      <td>0.664361</td>\n",
       "      <td>0.648762</td>\n",
       "      <td>0.686783</td>\n",
       "      <td>0.688136</td>\n",
       "      <td>0.683010</td>\n",
       "      <td>0.735986</td>\n",
       "      <td>...</td>\n",
       "      <td>7.385022e-17</td>\n",
       "      <td>6.953341e-17</td>\n",
       "      <td>7.445123e-17</td>\n",
       "      <td>7.997667e-17</td>\n",
       "      <td>7.754530e-17</td>\n",
       "      <td>8.110750e-17</td>\n",
       "      <td>7.647289e-17</td>\n",
       "      <td>7.359221e-17</td>\n",
       "      <td>7.287654e-17</td>\n",
       "      <td>neutral</td>\n",
       "    </tr>\n",
       "    <tr>\n",
       "      <th>4</th>\n",
       "      <td>4</td>\n",
       "      <td>0.301604</td>\n",
       "      <td>0.760249</td>\n",
       "      <td>0.804322</td>\n",
       "      <td>0.790674</td>\n",
       "      <td>0.760021</td>\n",
       "      <td>0.781235</td>\n",
       "      <td>0.719090</td>\n",
       "      <td>0.647474</td>\n",
       "      <td>0.713795</td>\n",
       "      <td>...</td>\n",
       "      <td>3.702991e-05</td>\n",
       "      <td>3.877967e-05</td>\n",
       "      <td>3.796563e-05</td>\n",
       "      <td>3.779248e-05</td>\n",
       "      <td>3.834673e-05</td>\n",
       "      <td>3.640969e-05</td>\n",
       "      <td>3.681771e-05</td>\n",
       "      <td>3.691485e-05</td>\n",
       "      <td>3.721758e-05</td>\n",
       "      <td>neutral</td>\n",
       "    </tr>\n",
       "  </tbody>\n",
       "</table>\n",
       "<p>5 rows × 164 columns</p>\n",
       "</div>"
      ],
      "text/plain": [
       "   Unnamed: 0         0         1         2         3         4         5  \\\n",
       "0           0  0.224306  0.664190  0.693038  0.665390  0.673116  0.696442   \n",
       "1           1  0.284351  0.744315  0.799083  0.779027  0.777929  0.788401   \n",
       "2           2  0.169383  0.579495  0.662042  0.674849  0.631609  0.623019   \n",
       "3           3  0.196533  0.652948  0.692924  0.664361  0.648762  0.686783   \n",
       "4           4  0.301604  0.760249  0.804322  0.790674  0.760021  0.781235   \n",
       "\n",
       "          6         7         8  ...           153           154  \\\n",
       "0  0.684787  0.706183  0.748844  ...  6.888786e-17  6.993841e-17   \n",
       "1  0.707030  0.673835  0.716503  ...  5.998793e-06  6.341882e-06   \n",
       "2  0.687452  0.671907  0.692694  ...  1.885160e-15  1.743947e-15   \n",
       "3  0.688136  0.683010  0.735986  ...  7.385022e-17  6.953341e-17   \n",
       "4  0.719090  0.647474  0.713795  ...  3.702991e-05  3.877967e-05   \n",
       "\n",
       "            155           156           157           158           159  \\\n",
       "0  7.601734e-17  7.305700e-17  6.833248e-17  7.254372e-17  7.962737e-17   \n",
       "1  6.158174e-06  6.040658e-06  6.382624e-06  6.590600e-06  6.014139e-06   \n",
       "2  1.590055e-15  1.477827e-15  1.528373e-15  1.689925e-15  1.679742e-15   \n",
       "3  7.445123e-17  7.997667e-17  7.754530e-17  8.110750e-17  7.647289e-17   \n",
       "4  3.796563e-05  3.779248e-05  3.834673e-05  3.640969e-05  3.681771e-05   \n",
       "\n",
       "            160           161      0.1  \n",
       "0  7.395194e-17  7.358765e-17  neutral  \n",
       "1  6.107160e-06  5.836667e-06  neutral  \n",
       "2  1.602365e-15  1.500745e-15  neutral  \n",
       "3  7.359221e-17  7.287654e-17  neutral  \n",
       "4  3.691485e-05  3.721758e-05  neutral  \n",
       "\n",
       "[5 rows x 164 columns]"
      ]
     },
     "execution_count": 9,
     "metadata": {},
     "output_type": "execute_result"
    }
   ],
   "source": [
    "df = pd.read_csv('ravdess.csv');\n",
    "df.head()"
   ]
  },
  {
   "cell_type": "code",
   "execution_count": 37,
   "id": "8bda7238-2b2e-4648-9a93-debdfb20bb5d",
   "metadata": {},
   "outputs": [],
   "source": [
    "X = df.loc[:-1,]\n",
    "Y = df.loc[-2:,]"
   ]
  },
  {
   "cell_type": "code",
   "execution_count": 40,
   "id": "b7749dfd-b579-4836-8ef0-d67feaf995eb",
   "metadata": {},
   "outputs": [
    {
     "ename": "AttributeError",
     "evalue": "'list' object has no attribute 'shape'",
     "output_type": "error",
     "traceback": [
      "\u001b[1;31m---------------------------------------------------------------------------\u001b[0m",
      "\u001b[1;31mAttributeError\u001b[0m                            Traceback (most recent call last)",
      "Cell \u001b[1;32mIn [40], line 1\u001b[0m\n\u001b[1;32m----> 1\u001b[0m \u001b[43mX\u001b[49m\u001b[38;5;241;43m.\u001b[39;49m\u001b[43mshape\u001b[49m\n\u001b[0;32m      2\u001b[0m Y\u001b[38;5;241m.\u001b[39mshape\n",
      "\u001b[1;31mAttributeError\u001b[0m: 'list' object has no attribute 'shape'"
     ]
    }
   ],
   "source": [
    "X.shape\n",
    "Y.shape"
   ]
  },
  {
   "cell_type": "code",
   "execution_count": 41,
   "id": "9b684dea-f139-4e18-8ff9-465e07c18eb3",
   "metadata": {},
   "outputs": [],
   "source": [
    "Dataframe_x = pd.DataFrame(X)\n",
    "Dataframe_y = pd.DataFrame(Y)"
   ]
  },
  {
   "cell_type": "code",
   "execution_count": 42,
   "id": "7525adb5-db1c-4728-966f-199e95c1f918",
   "metadata": {},
   "outputs": [
    {
     "data": {
      "text/plain": [
       "(4320, 162)"
      ]
     },
     "execution_count": 42,
     "metadata": {},
     "output_type": "execute_result"
    }
   ],
   "source": [
    "Dataframe_x.shape\n",
    "\n"
   ]
  },
  {
   "cell_type": "code",
   "execution_count": 43,
   "id": "dc215608-053c-46b2-8990-cac205fbdeb6",
   "metadata": {},
   "outputs": [
    {
     "data": {
      "text/html": [
       "<div>\n",
       "<style scoped>\n",
       "    .dataframe tbody tr th:only-of-type {\n",
       "        vertical-align: middle;\n",
       "    }\n",
       "\n",
       "    .dataframe tbody tr th {\n",
       "        vertical-align: top;\n",
       "    }\n",
       "\n",
       "    .dataframe thead th {\n",
       "        text-align: right;\n",
       "    }\n",
       "</style>\n",
       "<table border=\"1\" class=\"dataframe\">\n",
       "  <thead>\n",
       "    <tr style=\"text-align: right;\">\n",
       "      <th></th>\n",
       "      <th>0</th>\n",
       "      <th>1</th>\n",
       "      <th>2</th>\n",
       "      <th>3</th>\n",
       "      <th>4</th>\n",
       "      <th>5</th>\n",
       "      <th>6</th>\n",
       "      <th>7</th>\n",
       "      <th>8</th>\n",
       "      <th>9</th>\n",
       "      <th>...</th>\n",
       "      <th>152</th>\n",
       "      <th>153</th>\n",
       "      <th>154</th>\n",
       "      <th>155</th>\n",
       "      <th>156</th>\n",
       "      <th>157</th>\n",
       "      <th>158</th>\n",
       "      <th>159</th>\n",
       "      <th>160</th>\n",
       "      <th>161</th>\n",
       "    </tr>\n",
       "  </thead>\n",
       "  <tbody>\n",
       "    <tr>\n",
       "      <th>0</th>\n",
       "      <td>0.283226</td>\n",
       "      <td>0.739174</td>\n",
       "      <td>0.760110</td>\n",
       "      <td>0.738748</td>\n",
       "      <td>0.712194</td>\n",
       "      <td>0.687986</td>\n",
       "      <td>0.667279</td>\n",
       "      <td>0.694000</td>\n",
       "      <td>0.742275</td>\n",
       "      <td>0.762594</td>\n",
       "      <td>...</td>\n",
       "      <td>3.812479e-06</td>\n",
       "      <td>4.312694e-06</td>\n",
       "      <td>3.293364e-06</td>\n",
       "      <td>2.149554e-06</td>\n",
       "      <td>2.260914e-06</td>\n",
       "      <td>4.562520e-06</td>\n",
       "      <td>4.985616e-06</td>\n",
       "      <td>1.324619e-06</td>\n",
       "      <td>1.469305e-07</td>\n",
       "      <td>3.053402e-09</td>\n",
       "    </tr>\n",
       "    <tr>\n",
       "      <th>1</th>\n",
       "      <td>0.300456</td>\n",
       "      <td>0.773490</td>\n",
       "      <td>0.810015</td>\n",
       "      <td>0.785742</td>\n",
       "      <td>0.792041</td>\n",
       "      <td>0.794837</td>\n",
       "      <td>0.698452</td>\n",
       "      <td>0.676887</td>\n",
       "      <td>0.717388</td>\n",
       "      <td>0.752915</td>\n",
       "      <td>...</td>\n",
       "      <td>2.034097e-05</td>\n",
       "      <td>2.171456e-05</td>\n",
       "      <td>2.113365e-05</td>\n",
       "      <td>1.914379e-05</td>\n",
       "      <td>1.984291e-05</td>\n",
       "      <td>2.242395e-05</td>\n",
       "      <td>2.293313e-05</td>\n",
       "      <td>1.922284e-05</td>\n",
       "      <td>1.701253e-05</td>\n",
       "      <td>1.705024e-05</td>\n",
       "    </tr>\n",
       "    <tr>\n",
       "      <th>2</th>\n",
       "      <td>0.181467</td>\n",
       "      <td>0.629995</td>\n",
       "      <td>0.730929</td>\n",
       "      <td>0.743651</td>\n",
       "      <td>0.680889</td>\n",
       "      <td>0.670727</td>\n",
       "      <td>0.673700</td>\n",
       "      <td>0.669033</td>\n",
       "      <td>0.709932</td>\n",
       "      <td>0.745144</td>\n",
       "      <td>...</td>\n",
       "      <td>7.151890e-07</td>\n",
       "      <td>8.582505e-07</td>\n",
       "      <td>9.570447e-07</td>\n",
       "      <td>7.741540e-07</td>\n",
       "      <td>5.212421e-07</td>\n",
       "      <td>3.252106e-07</td>\n",
       "      <td>4.883136e-07</td>\n",
       "      <td>2.353670e-07</td>\n",
       "      <td>2.240905e-08</td>\n",
       "      <td>9.753157e-11</td>\n",
       "    </tr>\n",
       "    <tr>\n",
       "      <th>3</th>\n",
       "      <td>0.254530</td>\n",
       "      <td>0.676571</td>\n",
       "      <td>0.724970</td>\n",
       "      <td>0.725722</td>\n",
       "      <td>0.668644</td>\n",
       "      <td>0.645344</td>\n",
       "      <td>0.671470</td>\n",
       "      <td>0.631493</td>\n",
       "      <td>0.681748</td>\n",
       "      <td>0.709889</td>\n",
       "      <td>...</td>\n",
       "      <td>7.128941e-06</td>\n",
       "      <td>6.987414e-06</td>\n",
       "      <td>7.038922e-06</td>\n",
       "      <td>6.659573e-06</td>\n",
       "      <td>6.937638e-06</td>\n",
       "      <td>1.117492e-05</td>\n",
       "      <td>5.767251e-06</td>\n",
       "      <td>2.024577e-06</td>\n",
       "      <td>1.944936e-07</td>\n",
       "      <td>2.701240e-09</td>\n",
       "    </tr>\n",
       "    <tr>\n",
       "      <th>4</th>\n",
       "      <td>0.330042</td>\n",
       "      <td>0.821314</td>\n",
       "      <td>0.833043</td>\n",
       "      <td>0.800141</td>\n",
       "      <td>0.802373</td>\n",
       "      <td>0.787649</td>\n",
       "      <td>0.668301</td>\n",
       "      <td>0.683149</td>\n",
       "      <td>0.732381</td>\n",
       "      <td>0.765758</td>\n",
       "      <td>...</td>\n",
       "      <td>1.429369e-04</td>\n",
       "      <td>1.483695e-04</td>\n",
       "      <td>1.509820e-04</td>\n",
       "      <td>1.511496e-04</td>\n",
       "      <td>1.564441e-04</td>\n",
       "      <td>1.654324e-04</td>\n",
       "      <td>1.517133e-04</td>\n",
       "      <td>1.494240e-04</td>\n",
       "      <td>1.497178e-04</td>\n",
       "      <td>1.506280e-04</td>\n",
       "    </tr>\n",
       "  </tbody>\n",
       "</table>\n",
       "<p>5 rows × 162 columns</p>\n",
       "</div>"
      ],
      "text/plain": [
       "        0         1         2         3         4         5         6    \\\n",
       "0  0.283226  0.739174  0.760110  0.738748  0.712194  0.687986  0.667279   \n",
       "1  0.300456  0.773490  0.810015  0.785742  0.792041  0.794837  0.698452   \n",
       "2  0.181467  0.629995  0.730929  0.743651  0.680889  0.670727  0.673700   \n",
       "3  0.254530  0.676571  0.724970  0.725722  0.668644  0.645344  0.671470   \n",
       "4  0.330042  0.821314  0.833043  0.800141  0.802373  0.787649  0.668301   \n",
       "\n",
       "        7         8         9    ...           152           153  \\\n",
       "0  0.694000  0.742275  0.762594  ...  3.812479e-06  4.312694e-06   \n",
       "1  0.676887  0.717388  0.752915  ...  2.034097e-05  2.171456e-05   \n",
       "2  0.669033  0.709932  0.745144  ...  7.151890e-07  8.582505e-07   \n",
       "3  0.631493  0.681748  0.709889  ...  7.128941e-06  6.987414e-06   \n",
       "4  0.683149  0.732381  0.765758  ...  1.429369e-04  1.483695e-04   \n",
       "\n",
       "            154           155           156           157           158  \\\n",
       "0  3.293364e-06  2.149554e-06  2.260914e-06  4.562520e-06  4.985616e-06   \n",
       "1  2.113365e-05  1.914379e-05  1.984291e-05  2.242395e-05  2.293313e-05   \n",
       "2  9.570447e-07  7.741540e-07  5.212421e-07  3.252106e-07  4.883136e-07   \n",
       "3  7.038922e-06  6.659573e-06  6.937638e-06  1.117492e-05  5.767251e-06   \n",
       "4  1.509820e-04  1.511496e-04  1.564441e-04  1.654324e-04  1.517133e-04   \n",
       "\n",
       "            159           160           161  \n",
       "0  1.324619e-06  1.469305e-07  3.053402e-09  \n",
       "1  1.922284e-05  1.701253e-05  1.705024e-05  \n",
       "2  2.353670e-07  2.240905e-08  9.753157e-11  \n",
       "3  2.024577e-06  1.944936e-07  2.701240e-09  \n",
       "4  1.494240e-04  1.497178e-04  1.506280e-04  \n",
       "\n",
       "[5 rows x 162 columns]"
      ]
     },
     "execution_count": 43,
     "metadata": {},
     "output_type": "execute_result"
    }
   ],
   "source": [
    "Dataframe_x.head()"
   ]
  },
  {
   "cell_type": "code",
   "execution_count": 44,
   "id": "946593fd-5933-4a1b-9f80-fd39f6b42b24",
   "metadata": {},
   "outputs": [],
   "source": [
    "encoder = OneHotEncoder()\n",
    "encoded_Y = encoder.fit_transform(np.array(Dataframe_y).reshape(-1,1)).toarray()\n"
   ]
  },
  {
   "cell_type": "code",
   "execution_count": 46,
   "id": "f6271873-6a28-4819-8143-5e10e90816cb",
   "metadata": {},
   "outputs": [],
   "source": [
    "x_train, x_test, y_train, y_test = train_test_split(X, Y, random_state=0, shuffle=True)"
   ]
  },
  {
   "cell_type": "code",
   "execution_count": 47,
   "id": "4ce318b7-d0cf-483c-acee-c579c7aace9e",
   "metadata": {},
   "outputs": [],
   "source": [
    "scaler = StandardScaler()\n",
    "x_train = scaler.fit_transform(x_train)\n",
    "x_test = scaler.transform(x_test)"
   ]
  },
  {
   "cell_type": "code",
   "execution_count": null,
   "id": "0fc13957-2d4a-4408-9f88-c7ae57a90659",
   "metadata": {},
   "outputs": [],
   "source": [
    "filename = 'std_scaler.sav'\n",
    "pickle.dump(scaler, open(filename, 'wb'))"
   ]
  },
  {
   "cell_type": "markdown",
   "id": "771f116a-c1c5-468b-a0a6-ae8f8233986e",
   "metadata": {},
   "source": [
    "## Support Vector Machine"
   ]
  },
  {
   "cell_type": "code",
   "execution_count": 48,
   "id": "bfce9dfe-5a87-435f-be80-96871d852191",
   "metadata": {},
   "outputs": [],
   "source": [
    "from sklearn.svm  import SVC\n",
    "svm_model = SVC(kernel='linear',C=1,probability=True).fit(x_train,y_train)\n",
    "svm_predictions = svm_model.predict(x_test)"
   ]
  },
  {
   "cell_type": "code",
   "execution_count": 49,
   "id": "6f7dc417-ef84-4862-822e-dec21280bf51",
   "metadata": {},
   "outputs": [
    {
     "data": {
      "text/plain": [
       "array(['surprised', 'sad', 'angry', ..., 'surprised', 'happy', 'sad'],\n",
       "      dtype='<U9')"
      ]
     },
     "execution_count": 49,
     "metadata": {},
     "output_type": "execute_result"
    }
   ],
   "source": [
    "svm_predictions"
   ]
  },
  {
   "cell_type": "code",
   "execution_count": 50,
   "id": "bf6b699c-b7a3-481a-9941-67de7ce90f63",
   "metadata": {},
   "outputs": [
    {
     "name": "stdout",
     "output_type": "stream",
     "text": [
      "0.5601851851851852\n"
     ]
    }
   ],
   "source": [
    "print(accuracy_score(y_true=y_test,y_pred=svm_predictions))"
   ]
  },
  {
   "cell_type": "code",
   "execution_count": 51,
   "id": "84707d99-c1a8-4507-b36b-860620d201a9",
   "metadata": {},
   "outputs": [
    {
     "data": {
      "text/plain": [
       "array([[0.0265221 , 0.00161056, 0.01857477, ..., 0.00290552, 0.05310171,\n",
       "        0.50946981],\n",
       "       [0.0850001 , 0.0071763 , 0.02606908, ..., 0.04127773, 0.57570557,\n",
       "        0.03390906],\n",
       "       [0.48494695, 0.00297846, 0.02992359, ..., 0.00351004, 0.00853511,\n",
       "        0.03089058],\n",
       "       ...,\n",
       "       [0.03368501, 0.00222517, 0.19871574, ..., 0.01192587, 0.10788399,\n",
       "        0.55196187],\n",
       "       [0.03966366, 0.09570775, 0.11818455, ..., 0.02224944, 0.0478838 ,\n",
       "        0.01273284],\n",
       "       [0.00430238, 0.38269946, 0.01082627, ..., 0.13868054, 0.36127199,\n",
       "        0.00528005]])"
      ]
     },
     "execution_count": 51,
     "metadata": {},
     "output_type": "execute_result"
    }
   ],
   "source": [
    "svm_model.predict_proba(x_test)"
   ]
  },
  {
   "cell_type": "code",
   "execution_count": null,
   "id": "f49db7c3-be2b-41b0-bb4c-d716b5d5d11d",
   "metadata": {},
   "outputs": [],
   "source": []
  },
  {
   "cell_type": "code",
   "execution_count": null,
   "id": "7a6f200c-05df-425f-9413-ca15ec4d7a99",
   "metadata": {},
   "outputs": [],
   "source": [
    "test_predict = svm_model.predict(x_test)\n",
    "# for x in range(len(y_test)):\n",
    "#     print(y_test[x] +\"->\"+test_predict[x])\n",
    "i = 0 \n",
    "for x in range(len(y_test)):\n",
    "    if y_test[x] == test_predict[x]:\n",
    "        i+=1\n",
    "print(i)\n",
    "print(len(y_test))"
   ]
  },
  {
   "cell_type": "code",
   "execution_count": null,
   "id": "0900f66b-63d9-485d-8d28-1f241ccf7dea",
   "metadata": {},
   "outputs": [],
   "source": [
    "svm_model.classes_"
   ]
  },
  {
   "cell_type": "code",
   "execution_count": null,
   "id": "e1335155-28ca-4c8d-a108-27295d6f753e",
   "metadata": {},
   "outputs": [],
   "source": [
    "filename = 'svm_model.sav'\n",
    "pickle.dump(svm_model, open(filename, 'wb'))"
   ]
  },
  {
   "cell_type": "code",
   "execution_count": null,
   "id": "75ce58bb-6dd6-4366-ae59-c59c29ce0c70",
   "metadata": {},
   "outputs": [],
   "source": [
    "data, sr = librosa.load('F:\\\\01 Code\\\\01 Projects\\\\SpeechEmotionRecognitionApp\\\\ser_model\\\\speech-emotion-recognition-ravdess-data\\\\Actor_*\\\\*.wav')"
   ]
  },
  {
   "cell_type": "code",
   "execution_count": null,
   "id": "6b6fa67d-9f8a-4aa5-a766-28881f3c3b22",
   "metadata": {},
   "outputs": [],
   "source": []
  },
  {
   "cell_type": "markdown",
   "id": "62ab6ec7-5fa2-44b0-ac4f-1bd2cf67bbcb",
   "metadata": {},
   "source": [
    "## Random Forest\n"
   ]
  },
  {
   "cell_type": "code",
   "execution_count": 53,
   "id": "bc54098a-e03e-4432-ad28-e818ff532813",
   "metadata": {},
   "outputs": [],
   "source": [
    "from sklearn.ensemble import RandomForestClassifier\n",
    "from sklearn.metrics import classification_report\n",
    "from sklearn.metrics import confusion_matrix\n",
    "  \n",
    " # create regressor object \n",
    "classifier = RandomForestClassifier(n_estimators = 100, random_state = 0) \n",
    "  \n"
   ]
  },
  {
   "cell_type": "code",
   "execution_count": 54,
   "id": "153f05e8-b082-4e75-a913-7d5bd9f647a5",
   "metadata": {},
   "outputs": [
    {
     "data": {
      "text/html": [
       "<style>#sk-container-id-1 {color: black;background-color: white;}#sk-container-id-1 pre{padding: 0;}#sk-container-id-1 div.sk-toggleable {background-color: white;}#sk-container-id-1 label.sk-toggleable__label {cursor: pointer;display: block;width: 100%;margin-bottom: 0;padding: 0.3em;box-sizing: border-box;text-align: center;}#sk-container-id-1 label.sk-toggleable__label-arrow:before {content: \"▸\";float: left;margin-right: 0.25em;color: #696969;}#sk-container-id-1 label.sk-toggleable__label-arrow:hover:before {color: black;}#sk-container-id-1 div.sk-estimator:hover label.sk-toggleable__label-arrow:before {color: black;}#sk-container-id-1 div.sk-toggleable__content {max-height: 0;max-width: 0;overflow: hidden;text-align: left;background-color: #f0f8ff;}#sk-container-id-1 div.sk-toggleable__content pre {margin: 0.2em;color: black;border-radius: 0.25em;background-color: #f0f8ff;}#sk-container-id-1 input.sk-toggleable__control:checked~div.sk-toggleable__content {max-height: 200px;max-width: 100%;overflow: auto;}#sk-container-id-1 input.sk-toggleable__control:checked~label.sk-toggleable__label-arrow:before {content: \"▾\";}#sk-container-id-1 div.sk-estimator input.sk-toggleable__control:checked~label.sk-toggleable__label {background-color: #d4ebff;}#sk-container-id-1 div.sk-label input.sk-toggleable__control:checked~label.sk-toggleable__label {background-color: #d4ebff;}#sk-container-id-1 input.sk-hidden--visually {border: 0;clip: rect(1px 1px 1px 1px);clip: rect(1px, 1px, 1px, 1px);height: 1px;margin: -1px;overflow: hidden;padding: 0;position: absolute;width: 1px;}#sk-container-id-1 div.sk-estimator {font-family: monospace;background-color: #f0f8ff;border: 1px dotted black;border-radius: 0.25em;box-sizing: border-box;margin-bottom: 0.5em;}#sk-container-id-1 div.sk-estimator:hover {background-color: #d4ebff;}#sk-container-id-1 div.sk-parallel-item::after {content: \"\";width: 100%;border-bottom: 1px solid gray;flex-grow: 1;}#sk-container-id-1 div.sk-label:hover label.sk-toggleable__label {background-color: #d4ebff;}#sk-container-id-1 div.sk-serial::before {content: \"\";position: absolute;border-left: 1px solid gray;box-sizing: border-box;top: 0;bottom: 0;left: 50%;z-index: 0;}#sk-container-id-1 div.sk-serial {display: flex;flex-direction: column;align-items: center;background-color: white;padding-right: 0.2em;padding-left: 0.2em;position: relative;}#sk-container-id-1 div.sk-item {position: relative;z-index: 1;}#sk-container-id-1 div.sk-parallel {display: flex;align-items: stretch;justify-content: center;background-color: white;position: relative;}#sk-container-id-1 div.sk-item::before, #sk-container-id-1 div.sk-parallel-item::before {content: \"\";position: absolute;border-left: 1px solid gray;box-sizing: border-box;top: 0;bottom: 0;left: 50%;z-index: -1;}#sk-container-id-1 div.sk-parallel-item {display: flex;flex-direction: column;z-index: 1;position: relative;background-color: white;}#sk-container-id-1 div.sk-parallel-item:first-child::after {align-self: flex-end;width: 50%;}#sk-container-id-1 div.sk-parallel-item:last-child::after {align-self: flex-start;width: 50%;}#sk-container-id-1 div.sk-parallel-item:only-child::after {width: 0;}#sk-container-id-1 div.sk-dashed-wrapped {border: 1px dashed gray;margin: 0 0.4em 0.5em 0.4em;box-sizing: border-box;padding-bottom: 0.4em;background-color: white;}#sk-container-id-1 div.sk-label label {font-family: monospace;font-weight: bold;display: inline-block;line-height: 1.2em;}#sk-container-id-1 div.sk-label-container {text-align: center;}#sk-container-id-1 div.sk-container {/* jupyter's `normalize.less` sets `[hidden] { display: none; }` but bootstrap.min.css set `[hidden] { display: none !important; }` so we also need the `!important` here to be able to override the default hidden behavior on the sphinx rendered scikit-learn.org. See: https://github.com/scikit-learn/scikit-learn/issues/21755 */display: inline-block !important;position: relative;}#sk-container-id-1 div.sk-text-repr-fallback {display: none;}</style><div id=\"sk-container-id-1\" class=\"sk-top-container\"><div class=\"sk-text-repr-fallback\"><pre>RandomForestClassifier(random_state=0)</pre><b>In a Jupyter environment, please rerun this cell to show the HTML representation or trust the notebook. <br />On GitHub, the HTML representation is unable to render, please try loading this page with nbviewer.org.</b></div><div class=\"sk-container\" hidden><div class=\"sk-item\"><div class=\"sk-estimator sk-toggleable\"><input class=\"sk-toggleable__control sk-hidden--visually\" id=\"sk-estimator-id-1\" type=\"checkbox\" checked><label for=\"sk-estimator-id-1\" class=\"sk-toggleable__label sk-toggleable__label-arrow\">RandomForestClassifier</label><div class=\"sk-toggleable__content\"><pre>RandomForestClassifier(random_state=0)</pre></div></div></div></div></div>"
      ],
      "text/plain": [
       "RandomForestClassifier(random_state=0)"
      ]
     },
     "execution_count": 54,
     "metadata": {},
     "output_type": "execute_result"
    }
   ],
   "source": [
    "# fit the regressor with x and y data \n",
    "classifier.fit(x_train, y_train)   \n",
    "\n"
   ]
  },
  {
   "cell_type": "code",
   "execution_count": 55,
   "id": "0c2df862-e2b5-4494-a462-fe5b64cac32e",
   "metadata": {},
   "outputs": [],
   "source": [
    "rt_predictions = classifier.predict(x_test) "
   ]
  },
  {
   "cell_type": "code",
   "execution_count": 56,
   "id": "ce5c046f-3069-444a-a98a-61d9a951f1cd",
   "metadata": {},
   "outputs": [
    {
     "name": "stdout",
     "output_type": "stream",
     "text": [
      "['fearful' 'sad' 'fearful' ... 'surprised' 'calm' 'sad']\n"
     ]
    }
   ],
   "source": [
    "print(rt_predictions)"
   ]
  },
  {
   "cell_type": "code",
   "execution_count": 57,
   "id": "d81054aa-bfbe-4389-8939-6253de3f2106",
   "metadata": {},
   "outputs": [
    {
     "data": {
      "text/plain": [
       "array([[0.08, 0.  , 0.09, ..., 0.  , 0.04, 0.2 ],\n",
       "       [0.14, 0.1 , 0.15, ..., 0.08, 0.21, 0.13],\n",
       "       [0.05, 0.  , 0.01, ..., 0.  , 0.1 , 0.06],\n",
       "       ...,\n",
       "       [0.04, 0.03, 0.14, ..., 0.04, 0.07, 0.52],\n",
       "       [0.09, 0.2 , 0.1 , ..., 0.04, 0.06, 0.15],\n",
       "       [0.  , 0.19, 0.04, ..., 0.13, 0.43, 0.07]])"
      ]
     },
     "execution_count": 57,
     "metadata": {},
     "output_type": "execute_result"
    }
   ],
   "source": [
    "classifier.predict_proba(x_test)"
   ]
  },
  {
   "cell_type": "code",
   "execution_count": 58,
   "id": "b160458c-e14c-4e81-97b6-0a5568d6f5dc",
   "metadata": {},
   "outputs": [
    {
     "name": "stdout",
     "output_type": "stream",
     "text": [
      "0.6722222222222223\n"
     ]
    }
   ],
   "source": [
    "print(accuracy_score(y_true=y_test,y_pred=rt_predictions))\n",
    "#print(classification_report(y_test,rt_predictions)) \n",
    "# creating a confusion matrix \n",
    "#print(confusion_matrix(y_test,rt_predictions) )\n",
    "\n"
   ]
  },
  {
   "cell_type": "code",
   "execution_count": 59,
   "id": "1166bbe5-33a0-425c-86a9-9f4cfcaaf425",
   "metadata": {},
   "outputs": [],
   "source": [
    "filename = 'rf_model.sav'\n",
    "pickle.dump(classifier, open(filename, 'wb'))"
   ]
  },
  {
   "cell_type": "markdown",
   "id": "73ed50f0-88cf-4c17-b2f7-7aff3bd6f8e2",
   "metadata": {},
   "source": [
    "### CNN"
   ]
  },
  {
   "cell_type": "code",
   "execution_count": null,
   "id": "fc42f2fb-0786-465f-8122-6d28da151244",
   "metadata": {},
   "outputs": [],
   "source": []
  },
  {
   "cell_type": "code",
   "execution_count": 60,
   "id": "990d3f97-2508-448f-895b-193635acbba3",
   "metadata": {},
   "outputs": [
    {
     "name": "stdout",
     "output_type": "stream",
     "text": [
      "Model: \"sequential\"\n",
      "_________________________________________________________________\n",
      " Layer (type)                Output Shape              Param #   \n",
      "=================================================================\n",
      " conv1d (Conv1D)             (None, 162, 256)          1536      \n",
      "                                                                 \n",
      " max_pooling1d (MaxPooling1D  (None, 81, 256)          0         \n",
      " )                                                               \n",
      "                                                                 \n",
      " conv1d_1 (Conv1D)           (None, 81, 256)           327936    \n",
      "                                                                 \n",
      " max_pooling1d_1 (MaxPooling  (None, 41, 256)          0         \n",
      " 1D)                                                             \n",
      "                                                                 \n",
      " conv1d_2 (Conv1D)           (None, 41, 128)           163968    \n",
      "                                                                 \n",
      " max_pooling1d_2 (MaxPooling  (None, 21, 128)          0         \n",
      " 1D)                                                             \n",
      "                                                                 \n",
      " dropout (Dropout)           (None, 21, 128)           0         \n",
      "                                                                 \n",
      " conv1d_3 (Conv1D)           (None, 21, 64)            41024     \n",
      "                                                                 \n",
      " max_pooling1d_3 (MaxPooling  (None, 11, 64)           0         \n",
      " 1D)                                                             \n",
      "                                                                 \n",
      " flatten (Flatten)           (None, 704)               0         \n",
      "                                                                 \n",
      " dense (Dense)               (None, 32)                22560     \n",
      "                                                                 \n",
      " dropout_1 (Dropout)         (None, 32)                0         \n",
      "                                                                 \n",
      " dense_1 (Dense)             (None, 8)                 264       \n",
      "                                                                 \n",
      "=================================================================\n",
      "Total params: 557,288\n",
      "Trainable params: 557,288\n",
      "Non-trainable params: 0\n",
      "_________________________________________________________________\n"
     ]
    }
   ],
   "source": [
    "model=Sequential()\n",
    "model.add(Conv1D(256, kernel_size=5, strides=1, padding='same', activation='relu', input_shape=(x_train.shape[1], 1)))\n",
    "model.add(MaxPooling1D(pool_size=5, strides = 2, padding = 'same'))\n",
    "\n",
    "model.add(Conv1D(256, kernel_size=5, strides=1, padding='same', activation='relu'))\n",
    "model.add(MaxPooling1D(pool_size=5, strides = 2, padding = 'same'))\n",
    "\n",
    "model.add(Conv1D(128, kernel_size=5, strides=1, padding='same', activation='relu'))\n",
    "model.add(MaxPooling1D(pool_size=5, strides = 2, padding = 'same'))\n",
    "model.add(Dropout(0.2))\n",
    "\n",
    "model.add(Conv1D(64, kernel_size=5, strides=1, padding='same', activation='relu'))\n",
    "model.add(MaxPooling1D(pool_size=5, strides = 2, padding = 'same'))\n",
    "\n",
    "model.add(Flatten())\n",
    "model.add(Dense(units=32, activation='relu'))\n",
    "model.add(Dropout(0.3))\n",
    "\n",
    "model.add(Dense(units=8, activation='softmax'))\n",
    "model.compile(optimizer = 'adam' , loss = 'categorical_crossentropy' , metrics = ['accuracy'])\n",
    "\n",
    "model.summary()"
   ]
  },
  {
   "cell_type": "code",
   "execution_count": 66,
   "id": "e897deb5-bccf-4246-9840-1f071517cea2",
   "metadata": {},
   "outputs": [
    {
     "ename": "AttributeError",
     "evalue": "'list' object has no attribute 'shape'",
     "output_type": "error",
     "traceback": [
      "\u001b[1;31m---------------------------------------------------------------------------\u001b[0m",
      "\u001b[1;31mAttributeError\u001b[0m                            Traceback (most recent call last)",
      "Cell \u001b[1;32mIn [66], line 3\u001b[0m\n\u001b[0;32m      1\u001b[0m x_train \u001b[38;5;241m=\u001b[39m np\u001b[38;5;241m.\u001b[39mexpand_dims(x_train, axis\u001b[38;5;241m=\u001b[39m\u001b[38;5;241m2\u001b[39m)\n\u001b[0;32m      2\u001b[0m x_test \u001b[38;5;241m=\u001b[39m np\u001b[38;5;241m.\u001b[39mexpand_dims(x_test, axis\u001b[38;5;241m=\u001b[39m\u001b[38;5;241m2\u001b[39m)\n\u001b[1;32m----> 3\u001b[0m x_train\u001b[38;5;241m.\u001b[39mshape, \u001b[43my_train\u001b[49m\u001b[38;5;241;43m.\u001b[39;49m\u001b[43mshape\u001b[49m, x_test\u001b[38;5;241m.\u001b[39mshape, y_test\u001b[38;5;241m.\u001b[39mshape\n",
      "\u001b[1;31mAttributeError\u001b[0m: 'list' object has no attribute 'shape'"
     ]
    }
   ],
   "source": [
    "x_train = np.expand_dims(x_train, axis=2)\n",
    "x_test = np.expand_dims(x_test, axis=2)\n",
    "x_train.shape, y_train.shape, x_test.shape, y_test.shape"
   ]
  },
  {
   "cell_type": "code",
   "execution_count": 65,
   "id": "fd84ca86-6e23-4309-b482-3f02e4052c1c",
   "metadata": {},
   "outputs": [
    {
     "ename": "ValueError",
     "evalue": "Failed to find data adapter that can handle input: <class 'numpy.ndarray'>, (<class 'list'> containing values of types {\"<class 'str'>\"})",
     "output_type": "error",
     "traceback": [
      "\u001b[1;31m---------------------------------------------------------------------------\u001b[0m",
      "\u001b[1;31mValueError\u001b[0m                                Traceback (most recent call last)",
      "Cell \u001b[1;32mIn [65], line 2\u001b[0m\n\u001b[0;32m      1\u001b[0m rlrp \u001b[38;5;241m=\u001b[39m ReduceLROnPlateau(monitor\u001b[38;5;241m=\u001b[39m\u001b[38;5;124m'\u001b[39m\u001b[38;5;124mloss\u001b[39m\u001b[38;5;124m'\u001b[39m, factor\u001b[38;5;241m=\u001b[39m\u001b[38;5;241m0.4\u001b[39m, verbose\u001b[38;5;241m=\u001b[39m\u001b[38;5;241m0\u001b[39m, patience\u001b[38;5;241m=\u001b[39m\u001b[38;5;241m2\u001b[39m, min_lr\u001b[38;5;241m=\u001b[39m\u001b[38;5;241m0.0000001\u001b[39m)\n\u001b[1;32m----> 2\u001b[0m history\u001b[38;5;241m=\u001b[39m\u001b[43mmodel\u001b[49m\u001b[38;5;241;43m.\u001b[39;49m\u001b[43mfit\u001b[49m\u001b[43m(\u001b[49m\u001b[43mx_train\u001b[49m\u001b[43m,\u001b[49m\u001b[43m \u001b[49m\u001b[43my_train\u001b[49m\u001b[43m,\u001b[49m\u001b[43m \u001b[49m\u001b[43mbatch_size\u001b[49m\u001b[38;5;241;43m=\u001b[39;49m\u001b[38;5;241;43m64\u001b[39;49m\u001b[43m,\u001b[49m\u001b[43m \u001b[49m\u001b[43mepochs\u001b[49m\u001b[38;5;241;43m=\u001b[39;49m\u001b[38;5;241;43m50\u001b[39;49m\u001b[43m,\u001b[49m\u001b[43m \u001b[49m\u001b[43mvalidation_data\u001b[49m\u001b[38;5;241;43m=\u001b[39;49m\u001b[43m(\u001b[49m\u001b[43mx_test\u001b[49m\u001b[43m,\u001b[49m\u001b[43m \u001b[49m\u001b[43my_test\u001b[49m\u001b[43m)\u001b[49m\u001b[43m,\u001b[49m\u001b[43m \u001b[49m\u001b[43mcallbacks\u001b[49m\u001b[38;5;241;43m=\u001b[39;49m\u001b[43m[\u001b[49m\u001b[43mrlrp\u001b[49m\u001b[43m]\u001b[49m\u001b[43m)\u001b[49m\n",
      "File \u001b[1;32mC:\\Python310\\lib\\site-packages\\keras\\utils\\traceback_utils.py:70\u001b[0m, in \u001b[0;36mfilter_traceback.<locals>.error_handler\u001b[1;34m(*args, **kwargs)\u001b[0m\n\u001b[0;32m     67\u001b[0m     filtered_tb \u001b[38;5;241m=\u001b[39m _process_traceback_frames(e\u001b[38;5;241m.\u001b[39m__traceback__)\n\u001b[0;32m     68\u001b[0m     \u001b[38;5;66;03m# To get the full stack trace, call:\u001b[39;00m\n\u001b[0;32m     69\u001b[0m     \u001b[38;5;66;03m# `tf.debugging.disable_traceback_filtering()`\u001b[39;00m\n\u001b[1;32m---> 70\u001b[0m     \u001b[38;5;28;01mraise\u001b[39;00m e\u001b[38;5;241m.\u001b[39mwith_traceback(filtered_tb) \u001b[38;5;28;01mfrom\u001b[39;00m \u001b[38;5;28mNone\u001b[39m\n\u001b[0;32m     71\u001b[0m \u001b[38;5;28;01mfinally\u001b[39;00m:\n\u001b[0;32m     72\u001b[0m     \u001b[38;5;28;01mdel\u001b[39;00m filtered_tb\n",
      "File \u001b[1;32mC:\\Python310\\lib\\site-packages\\keras\\engine\\data_adapter.py:1083\u001b[0m, in \u001b[0;36mselect_data_adapter\u001b[1;34m(x, y)\u001b[0m\n\u001b[0;32m   1080\u001b[0m adapter_cls \u001b[38;5;241m=\u001b[39m [\u001b[38;5;28mcls\u001b[39m \u001b[38;5;28;01mfor\u001b[39;00m \u001b[38;5;28mcls\u001b[39m \u001b[38;5;129;01min\u001b[39;00m ALL_ADAPTER_CLS \u001b[38;5;28;01mif\u001b[39;00m \u001b[38;5;28mcls\u001b[39m\u001b[38;5;241m.\u001b[39mcan_handle(x, y)]\n\u001b[0;32m   1081\u001b[0m \u001b[38;5;28;01mif\u001b[39;00m \u001b[38;5;129;01mnot\u001b[39;00m adapter_cls:\n\u001b[0;32m   1082\u001b[0m     \u001b[38;5;66;03m# TODO(scottzhu): This should be a less implementation-specific error.\u001b[39;00m\n\u001b[1;32m-> 1083\u001b[0m     \u001b[38;5;28;01mraise\u001b[39;00m \u001b[38;5;167;01mValueError\u001b[39;00m(\n\u001b[0;32m   1084\u001b[0m         \u001b[38;5;124m\"\u001b[39m\u001b[38;5;124mFailed to find data adapter that can handle \u001b[39m\u001b[38;5;124m\"\u001b[39m\n\u001b[0;32m   1085\u001b[0m         \u001b[38;5;124m\"\u001b[39m\u001b[38;5;124minput: \u001b[39m\u001b[38;5;132;01m{}\u001b[39;00m\u001b[38;5;124m, \u001b[39m\u001b[38;5;132;01m{}\u001b[39;00m\u001b[38;5;124m\"\u001b[39m\u001b[38;5;241m.\u001b[39mformat(_type_name(x), _type_name(y))\n\u001b[0;32m   1086\u001b[0m     )\n\u001b[0;32m   1087\u001b[0m \u001b[38;5;28;01melif\u001b[39;00m \u001b[38;5;28mlen\u001b[39m(adapter_cls) \u001b[38;5;241m>\u001b[39m \u001b[38;5;241m1\u001b[39m:\n\u001b[0;32m   1088\u001b[0m     \u001b[38;5;28;01mraise\u001b[39;00m \u001b[38;5;167;01mRuntimeError\u001b[39;00m(\n\u001b[0;32m   1089\u001b[0m         \u001b[38;5;124m\"\u001b[39m\u001b[38;5;124mData adapters should be mutually exclusive for \u001b[39m\u001b[38;5;124m\"\u001b[39m\n\u001b[0;32m   1090\u001b[0m         \u001b[38;5;124m\"\u001b[39m\u001b[38;5;124mhandling inputs. Found multiple adapters \u001b[39m\u001b[38;5;132;01m{}\u001b[39;00m\u001b[38;5;124m to handle \u001b[39m\u001b[38;5;124m\"\u001b[39m\n\u001b[0;32m   1091\u001b[0m         \u001b[38;5;124m\"\u001b[39m\u001b[38;5;124minput: \u001b[39m\u001b[38;5;132;01m{}\u001b[39;00m\u001b[38;5;124m, \u001b[39m\u001b[38;5;132;01m{}\u001b[39;00m\u001b[38;5;124m\"\u001b[39m\u001b[38;5;241m.\u001b[39mformat(adapter_cls, _type_name(x), _type_name(y))\n\u001b[0;32m   1092\u001b[0m     )\n",
      "\u001b[1;31mValueError\u001b[0m: Failed to find data adapter that can handle input: <class 'numpy.ndarray'>, (<class 'list'> containing values of types {\"<class 'str'>\"})"
     ]
    }
   ],
   "source": [
    "rlrp = ReduceLROnPlateau(monitor='loss', factor=0.4, verbose=0, patience=2, min_lr=0.0000001)\n",
    "history=model.fit(x_train, y_train, batch_size=64, epochs=50, validation_data=(x_test, y_test), callbacks=[rlrp])"
   ]
  }
 ],
 "metadata": {
  "kernelspec": {
   "display_name": "Python 3 (ipykernel)",
   "language": "python",
   "name": "python3"
  },
  "language_info": {
   "codemirror_mode": {
    "name": "ipython",
    "version": 3
   },
   "file_extension": ".py",
   "mimetype": "text/x-python",
   "name": "python",
   "nbconvert_exporter": "python",
   "pygments_lexer": "ipython3",
   "version": "3.10.7"
  },
  "vscode": {
   "interpreter": {
    "hash": "369f2c481f4da34e4445cda3fffd2e751bd1c4d706f27375911949ba6bb62e1c"
   }
  }
 },
 "nbformat": 4,
 "nbformat_minor": 5
}
