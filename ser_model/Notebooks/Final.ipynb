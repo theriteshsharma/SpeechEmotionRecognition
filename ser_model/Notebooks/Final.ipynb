{
 "cells": [
  {
   "cell_type": "markdown",
   "id": "5f71259c-df98-4a99-a76a-9de238740e30",
   "metadata": {},
   "source": [
    "### Installation"
   ]
  },
  {
   "cell_type": "code",
   "execution_count": null,
   "id": "a512fad7-e2b6-48d6-8ec6-32f351c65bbe",
   "metadata": {},
   "outputs": [],
   "source": [
    "!pip install librosa soundfile numpy sklearn pyaudio"
   ]
  },
  {
   "cell_type": "code",
   "execution_count": 49,
   "id": "7a972d92-9633-4a6b-acd4-70186e0ce2b7",
   "metadata": {},
   "outputs": [
    {
     "name": "stdout",
     "output_type": "stream",
     "text": [
      "Collecting pandas\n",
      "  Downloading pandas-1.5.0-cp310-cp310-win_amd64.whl (10.4 MB)\n",
      "     -------------------------------------- 10.4/10.4 MB 249.7 kB/s eta 0:00:00\n",
      "Requirement already satisfied: numpy>=1.21.0 in c:\\python310\\lib\\site-packages (from pandas) (1.23.3)\n",
      "Requirement already satisfied: python-dateutil>=2.8.1 in c:\\python310\\lib\\site-packages (from pandas) (2.8.2)\n",
      "Requirement already satisfied: pytz>=2020.1 in c:\\python310\\lib\\site-packages (from pandas) (2022.2.1)\n",
      "Requirement already satisfied: six>=1.5 in c:\\python310\\lib\\site-packages (from python-dateutil>=2.8.1->pandas) (1.16.0)\n",
      "Installing collected packages: pandas\n",
      "Successfully installed pandas-1.5.0\n"
     ]
    }
   ],
   "source": [
    "!pip install pandas"
   ]
  },
  {
   "cell_type": "code",
   "execution_count": 163,
   "id": "91ab198d-541c-48cf-800c-d6139fb4b19e",
   "metadata": {},
   "outputs": [],
   "source": [
    "import warnings\n",
    "warnings.filterwarnings('ignore')"
   ]
  },
  {
   "cell_type": "markdown",
   "id": "7e7563f6-1a2d-48b4-8ddc-b98964c21ab3",
   "metadata": {},
   "source": [
    "#### Imports"
   ]
  },
  {
   "cell_type": "code",
   "execution_count": 149,
   "id": "9b9cd7b8-4376-4e50-b67d-89b1e32d5c26",
   "metadata": {},
   "outputs": [],
   "source": [
    "import librosa\n",
    "import soundfile\n",
    "import os, glob, pickle\n",
    "import numpy as np\n",
    "import pandas as pd\n",
    "from sklearn.model_selection import train_test_split\n",
    "from sklearn.neural_network import MLPClassifier\n",
    "from sklearn.metrics import accuracy_score\n",
    "from sklearn.preprocessing import StandardScaler, OneHotEncoder"
   ]
  },
  {
   "cell_type": "markdown",
   "id": "7ea0dc12-4e31-4e4c-9f50-93f22e46fd33",
   "metadata": {},
   "source": [
    "### Preparing Data"
   ]
  },
  {
   "cell_type": "markdown",
   "id": "b9cd407d-7a8d-4522-96bd-948d1a652bc6",
   "metadata": {},
   "source": [
    "Functions to add augmentation and extract Features from existing dataset"
   ]
  },
  {
   "cell_type": "code",
   "execution_count": 150,
   "id": "e91b1623-6ce8-4fee-a94b-962e24ee236a",
   "metadata": {},
   "outputs": [],
   "source": [
    "def noise(data):\n",
    "    noise_amp = 0.035*np.random.uniform()*np.amax(data)\n",
    "    data = data + noise_amp*np.random.normal(size=data.shape[0])\n",
    "    return data\n",
    "\n",
    "def stretch(data, rate=0.8):\n",
    "    return librosa.effects.time_stretch(data, rate)\n",
    "\n",
    "def shift(data):\n",
    "    shift_range = int(np.random.uniform(low=-5, high = 5)*1000)\n",
    "    return np.roll(data, shift_range)\n",
    "\n",
    "def pitch(data, sampling_rate, pitch_factor=0.7):\n",
    "    return librosa.effects.pitch_shift(data, sampling_rate, pitch_factor)\n",
    "\n",
    "def extract_features(data,sample_rate):\n",
    "    # ZCR\n",
    "    result = np.array([])\n",
    "    zcr = np.mean(librosa.feature.zero_crossing_rate(y=data).T, axis=0)\n",
    "    result=np.hstack((result, zcr)) # stacking horizontally\n",
    "    \n",
    "\n",
    "    # Chroma_stft\n",
    "    stft = np.abs(librosa.stft(data))\n",
    "    \n",
    "    chroma_stft = np.mean(librosa.feature.chroma_stft(S=stft, sr=sample_rate).T, axis=0)\n",
    "    result = np.hstack((result, chroma_stft)) # stacking horizontally\n",
    "    \n",
    "\n",
    "    # MFCC\n",
    "    mfcc = np.mean(librosa.feature.mfcc(y=data, sr=sample_rate).T, axis=0)\n",
    "    result = np.hstack((result, mfcc)) # stacking horizontally\n",
    "   \n",
    "\n",
    "    # Root Mean Square Value\n",
    "    rms = np.mean(librosa.feature.rms(y=data).T, axis=0)\n",
    "    result = np.hstack((result, rms)) # stacking horizontally\n",
    "    \n",
    "\n",
    "    # MelSpectogram\n",
    "    mel = np.mean(librosa.feature.melspectrogram(y=data, sr=sample_rate).T, axis=0)\n",
    "    result = np.hstack((result, mel)) # stacking horizontally\n",
    "    return result\n",
    "\n",
    "def get_features(path):\n",
    "    # duration and offset are used to take care of the no audio in start and the ending of each audio files as seen above.\n",
    "    data, sample_rate = librosa.load(path, duration=2.5, offset=0.6)\n",
    "    \n",
    "    # without augmentation\n",
    "    res1 = extract_features(data,sample_rate)\n",
    "    result = np.array(res1)\n",
    "    \n",
    "    # data with noise\n",
    "    noise_data = noise(data)\n",
    "    res2 = extract_features(noise_data,sample_rate)\n",
    "    result = np.vstack((result, res2)) # stacking vertically\n",
    "    \n",
    "    # data with stretching and pitching\n",
    "    new_data = stretch(data)\n",
    "    data_stretch_pitch = pitch(new_data, sample_rate)\n",
    "    res3 = extract_features(data_stretch_pitch,sample_rate)\n",
    "    result = np.vstack((result, res3)) # stacking vertically\n",
    "    \n",
    "    return result"
   ]
  },
  {
   "cell_type": "code",
   "execution_count": 162,
   "id": "611e9975-5140-4ab8-ae15-b82ff464295e",
   "metadata": {},
   "outputs": [
    {
     "name": "stderr",
     "output_type": "stream",
     "text": [
      "C:\\Users\\Born Creative\\AppData\\Local\\Temp\\ipykernel_9724\\398772527.py:7: FutureWarning: Pass rate=0.8 as keyword args. From version 0.10 passing these as positional arguments will result in an error\n",
      "  return librosa.effects.time_stretch(data, rate)\n",
      "C:\\Users\\Born Creative\\AppData\\Local\\Temp\\ipykernel_9724\\398772527.py:14: FutureWarning: Pass sr=22050, n_steps=0.7 as keyword args. From version 0.10 passing these as positional arguments will result in an error\n",
      "  return librosa.effects.pitch_shift(data, sampling_rate, pitch_factor)\n"
     ]
    },
    {
     "name": "stdout",
     "output_type": "stream",
     "text": [
      "1440\n"
     ]
    }
   ],
   "source": [
    "X,Y=[],[]\n",
    "\n",
    "#emotions in dataset\n",
    "emotions={\n",
    "  '01':'neutral',\n",
    "  '02':'calm',\n",
    "  '03':'happy',\n",
    "  '04':'sad',\n",
    "  '05':'angry',\n",
    "  '06':'fearful',\n",
    "  '07':'disgust',\n",
    "  '08':'surprised'\n",
    "}\n",
    "i = 0\n",
    "for file in glob.glob(\"..\\\\speech-emotion-recognition-ravdess-data\\\\Actor_*\\\\*.wav\"):\n",
    "    file_name=os.path.basename(file)\n",
    "    i+=1\n",
    "    # Emotion From File \n",
    "    emotion=emotions[file_name.split(\"-\")[2]]\n",
    "    \n",
    "    # Feature Extraction\n",
    "    features = get_features(file)\n",
    "    for ele in features:\n",
    "        X.append(ele)\n",
    "        Y.append(emotion)\n",
    "print(i)"
   ]
  },
  {
   "cell_type": "code",
   "execution_count": 164,
   "id": "b7749dfd-b579-4836-8ef0-d67feaf995eb",
   "metadata": {},
   "outputs": [
    {
     "data": {
      "text/plain": [
       "['neutral',\n",
       " 'neutral',\n",
       " 'neutral',\n",
       " 'neutral',\n",
       " 'neutral',\n",
       " 'neutral',\n",
       " 'neutral',\n",
       " 'neutral',\n",
       " 'neutral',\n",
       " 'neutral']"
      ]
     },
     "execution_count": 164,
     "metadata": {},
     "output_type": "execute_result"
    }
   ],
   "source": [
    "Y[:10]"
   ]
  },
  {
   "cell_type": "code",
   "execution_count": 165,
   "id": "9b684dea-f139-4e18-8ff9-465e07c18eb3",
   "metadata": {},
   "outputs": [],
   "source": [
    "Dataframe_x = pd.DataFrame(X)\n",
    "Dataframe_y = pd.DataFrame(Y)"
   ]
  },
  {
   "cell_type": "code",
   "execution_count": 166,
   "id": "7525adb5-db1c-4728-966f-199e95c1f918",
   "metadata": {},
   "outputs": [
    {
     "data": {
      "text/plain": [
       "(4320, 162)"
      ]
     },
     "execution_count": 166,
     "metadata": {},
     "output_type": "execute_result"
    }
   ],
   "source": [
    "Dataframe_x.shape\n",
    "\n"
   ]
  },
  {
   "cell_type": "code",
   "execution_count": 167,
   "id": "dc215608-053c-46b2-8990-cac205fbdeb6",
   "metadata": {},
   "outputs": [
    {
     "data": {
      "text/html": [
       "<div>\n",
       "<style scoped>\n",
       "    .dataframe tbody tr th:only-of-type {\n",
       "        vertical-align: middle;\n",
       "    }\n",
       "\n",
       "    .dataframe tbody tr th {\n",
       "        vertical-align: top;\n",
       "    }\n",
       "\n",
       "    .dataframe thead th {\n",
       "        text-align: right;\n",
       "    }\n",
       "</style>\n",
       "<table border=\"1\" class=\"dataframe\">\n",
       "  <thead>\n",
       "    <tr style=\"text-align: right;\">\n",
       "      <th></th>\n",
       "      <th>0</th>\n",
       "      <th>1</th>\n",
       "      <th>2</th>\n",
       "      <th>3</th>\n",
       "      <th>4</th>\n",
       "      <th>5</th>\n",
       "      <th>6</th>\n",
       "      <th>7</th>\n",
       "      <th>8</th>\n",
       "      <th>9</th>\n",
       "      <th>...</th>\n",
       "      <th>152</th>\n",
       "      <th>153</th>\n",
       "      <th>154</th>\n",
       "      <th>155</th>\n",
       "      <th>156</th>\n",
       "      <th>157</th>\n",
       "      <th>158</th>\n",
       "      <th>159</th>\n",
       "      <th>160</th>\n",
       "      <th>161</th>\n",
       "    </tr>\n",
       "  </thead>\n",
       "  <tbody>\n",
       "    <tr>\n",
       "      <th>0</th>\n",
       "      <td>0.224306</td>\n",
       "      <td>0.664190</td>\n",
       "      <td>0.693038</td>\n",
       "      <td>0.665390</td>\n",
       "      <td>0.673116</td>\n",
       "      <td>0.696442</td>\n",
       "      <td>0.684787</td>\n",
       "      <td>0.706183</td>\n",
       "      <td>0.748844</td>\n",
       "      <td>0.782297</td>\n",
       "      <td>...</td>\n",
       "      <td>8.778047e-17</td>\n",
       "      <td>6.888786e-17</td>\n",
       "      <td>6.993841e-17</td>\n",
       "      <td>7.601734e-17</td>\n",
       "      <td>7.305700e-17</td>\n",
       "      <td>6.833248e-17</td>\n",
       "      <td>7.254372e-17</td>\n",
       "      <td>7.962737e-17</td>\n",
       "      <td>7.395194e-17</td>\n",
       "      <td>7.358765e-17</td>\n",
       "    </tr>\n",
       "    <tr>\n",
       "      <th>1</th>\n",
       "      <td>0.326063</td>\n",
       "      <td>0.797169</td>\n",
       "      <td>0.838089</td>\n",
       "      <td>0.818593</td>\n",
       "      <td>0.808306</td>\n",
       "      <td>0.821393</td>\n",
       "      <td>0.730495</td>\n",
       "      <td>0.671541</td>\n",
       "      <td>0.727748</td>\n",
       "      <td>0.766877</td>\n",
       "      <td>...</td>\n",
       "      <td>8.188990e-05</td>\n",
       "      <td>7.478722e-05</td>\n",
       "      <td>7.986107e-05</td>\n",
       "      <td>7.532304e-05</td>\n",
       "      <td>7.343673e-05</td>\n",
       "      <td>7.295405e-05</td>\n",
       "      <td>7.710532e-05</td>\n",
       "      <td>7.870138e-05</td>\n",
       "      <td>7.814987e-05</td>\n",
       "      <td>7.755212e-05</td>\n",
       "    </tr>\n",
       "    <tr>\n",
       "      <th>2</th>\n",
       "      <td>0.169383</td>\n",
       "      <td>0.579495</td>\n",
       "      <td>0.662042</td>\n",
       "      <td>0.674849</td>\n",
       "      <td>0.631609</td>\n",
       "      <td>0.623019</td>\n",
       "      <td>0.687452</td>\n",
       "      <td>0.671907</td>\n",
       "      <td>0.692694</td>\n",
       "      <td>0.712601</td>\n",
       "      <td>...</td>\n",
       "      <td>2.503228e-15</td>\n",
       "      <td>1.885160e-15</td>\n",
       "      <td>1.743947e-15</td>\n",
       "      <td>1.590055e-15</td>\n",
       "      <td>1.477827e-15</td>\n",
       "      <td>1.528373e-15</td>\n",
       "      <td>1.689925e-15</td>\n",
       "      <td>1.679742e-15</td>\n",
       "      <td>1.602365e-15</td>\n",
       "      <td>1.500745e-15</td>\n",
       "    </tr>\n",
       "    <tr>\n",
       "      <th>3</th>\n",
       "      <td>0.196533</td>\n",
       "      <td>0.652948</td>\n",
       "      <td>0.692924</td>\n",
       "      <td>0.664361</td>\n",
       "      <td>0.648762</td>\n",
       "      <td>0.686783</td>\n",
       "      <td>0.688136</td>\n",
       "      <td>0.683010</td>\n",
       "      <td>0.735986</td>\n",
       "      <td>0.759067</td>\n",
       "      <td>...</td>\n",
       "      <td>8.858628e-17</td>\n",
       "      <td>7.385022e-17</td>\n",
       "      <td>6.953341e-17</td>\n",
       "      <td>7.445123e-17</td>\n",
       "      <td>7.997667e-17</td>\n",
       "      <td>7.754530e-17</td>\n",
       "      <td>8.110750e-17</td>\n",
       "      <td>7.647289e-17</td>\n",
       "      <td>7.359221e-17</td>\n",
       "      <td>7.287654e-17</td>\n",
       "    </tr>\n",
       "    <tr>\n",
       "      <th>4</th>\n",
       "      <td>0.281331</td>\n",
       "      <td>0.763708</td>\n",
       "      <td>0.778610</td>\n",
       "      <td>0.742306</td>\n",
       "      <td>0.747656</td>\n",
       "      <td>0.755848</td>\n",
       "      <td>0.648114</td>\n",
       "      <td>0.668030</td>\n",
       "      <td>0.709139</td>\n",
       "      <td>0.745000</td>\n",
       "      <td>...</td>\n",
       "      <td>7.994031e-06</td>\n",
       "      <td>7.831942e-06</td>\n",
       "      <td>8.176215e-06</td>\n",
       "      <td>8.002242e-06</td>\n",
       "      <td>7.604738e-06</td>\n",
       "      <td>7.781833e-06</td>\n",
       "      <td>7.566834e-06</td>\n",
       "      <td>7.094236e-06</td>\n",
       "      <td>7.800415e-06</td>\n",
       "      <td>8.211715e-06</td>\n",
       "    </tr>\n",
       "  </tbody>\n",
       "</table>\n",
       "<p>5 rows × 162 columns</p>\n",
       "</div>"
      ],
      "text/plain": [
       "        0         1         2         3         4         5         6    \\\n",
       "0  0.224306  0.664190  0.693038  0.665390  0.673116  0.696442  0.684787   \n",
       "1  0.326063  0.797169  0.838089  0.818593  0.808306  0.821393  0.730495   \n",
       "2  0.169383  0.579495  0.662042  0.674849  0.631609  0.623019  0.687452   \n",
       "3  0.196533  0.652948  0.692924  0.664361  0.648762  0.686783  0.688136   \n",
       "4  0.281331  0.763708  0.778610  0.742306  0.747656  0.755848  0.648114   \n",
       "\n",
       "        7         8         9    ...           152           153  \\\n",
       "0  0.706183  0.748844  0.782297  ...  8.778047e-17  6.888786e-17   \n",
       "1  0.671541  0.727748  0.766877  ...  8.188990e-05  7.478722e-05   \n",
       "2  0.671907  0.692694  0.712601  ...  2.503228e-15  1.885160e-15   \n",
       "3  0.683010  0.735986  0.759067  ...  8.858628e-17  7.385022e-17   \n",
       "4  0.668030  0.709139  0.745000  ...  7.994031e-06  7.831942e-06   \n",
       "\n",
       "            154           155           156           157           158  \\\n",
       "0  6.993841e-17  7.601734e-17  7.305700e-17  6.833248e-17  7.254372e-17   \n",
       "1  7.986107e-05  7.532304e-05  7.343673e-05  7.295405e-05  7.710532e-05   \n",
       "2  1.743947e-15  1.590055e-15  1.477827e-15  1.528373e-15  1.689925e-15   \n",
       "3  6.953341e-17  7.445123e-17  7.997667e-17  7.754530e-17  8.110750e-17   \n",
       "4  8.176215e-06  8.002242e-06  7.604738e-06  7.781833e-06  7.566834e-06   \n",
       "\n",
       "            159           160           161  \n",
       "0  7.962737e-17  7.395194e-17  7.358765e-17  \n",
       "1  7.870138e-05  7.814987e-05  7.755212e-05  \n",
       "2  1.679742e-15  1.602365e-15  1.500745e-15  \n",
       "3  7.647289e-17  7.359221e-17  7.287654e-17  \n",
       "4  7.094236e-06  7.800415e-06  8.211715e-06  \n",
       "\n",
       "[5 rows x 162 columns]"
      ]
     },
     "execution_count": 167,
     "metadata": {},
     "output_type": "execute_result"
    }
   ],
   "source": [
    "Dataframe_x.head()"
   ]
  },
  {
   "cell_type": "code",
   "execution_count": 168,
   "id": "946593fd-5933-4a1b-9f80-fd39f6b42b24",
   "metadata": {},
   "outputs": [],
   "source": [
    "encoder = OneHotEncoder()\n",
    "encoded_Y = encoder.fit_transform(np.array(Dataframe_y).reshape(-1,1)).toarray()\n"
   ]
  },
  {
   "cell_type": "code",
   "execution_count": 169,
   "id": "f6271873-6a28-4819-8143-5e10e90816cb",
   "metadata": {},
   "outputs": [],
   "source": [
    "x_train, x_test, y_train, y_test = train_test_split(X, Y, random_state=0, shuffle=True)"
   ]
  },
  {
   "cell_type": "code",
   "execution_count": 170,
   "id": "4ce318b7-d0cf-483c-acee-c579c7aace9e",
   "metadata": {},
   "outputs": [],
   "source": [
    "scaler = StandardScaler()\n",
    "x_train = scaler.fit_transform(x_train)\n",
    "x_test = scaler.transform(x_test)"
   ]
  },
  {
   "cell_type": "markdown",
   "id": "771f116a-c1c5-468b-a0a6-ae8f8233986e",
   "metadata": {},
   "source": [
    "## Support Vector Machine"
   ]
  },
  {
   "cell_type": "code",
   "execution_count": 178,
   "id": "bfce9dfe-5a87-435f-be80-96871d852191",
   "metadata": {},
   "outputs": [],
   "source": [
    "from sklearn.svm  import SVC\n",
    "svm_model = SVC(kernel='linear',C=1,probability=True).fit(x_train,y_train)\n",
    "svm_predictions = svm_model.predict(x_test)"
   ]
  },
  {
   "cell_type": "code",
   "execution_count": 179,
   "id": "bf6b699c-b7a3-481a-9941-67de7ce90f63",
   "metadata": {},
   "outputs": [
    {
     "name": "stdout",
     "output_type": "stream",
     "text": [
      "0.5601851851851852\n"
     ]
    }
   ],
   "source": [
    "print(accuracy_score(y_true=y_test,y_pred=svm_predictions))"
   ]
  },
  {
   "cell_type": "code",
   "execution_count": 212,
   "id": "84707d99-c1a8-4507-b36b-860620d201a9",
   "metadata": {},
   "outputs": [
    {
     "data": {
      "text/plain": [
       "array([[0.02225061, 0.00091374, 0.01273491, ..., 0.00196093, 0.04013307,\n",
       "        0.58696896],\n",
       "       [0.16783919, 0.01415094, 0.04466222, ..., 0.02567973, 0.35941953,\n",
       "        0.03727406],\n",
       "       [0.07239241, 0.00136246, 0.00339217, ..., 0.00168242, 0.00660219,\n",
       "        0.01240351],\n",
       "       ...,\n",
       "       [0.05366456, 0.00257321, 0.28922011, ..., 0.01198721, 0.07280021,\n",
       "        0.50482598],\n",
       "       [0.03708848, 0.10965868, 0.08388042, ..., 0.02936245, 0.04135935,\n",
       "        0.01483191],\n",
       "       [0.007531  , 0.31793564, 0.00971219, ..., 0.1176742 , 0.39429721,\n",
       "        0.01187161]])"
      ]
     },
     "execution_count": 212,
     "metadata": {},
     "output_type": "execute_result"
    }
   ],
   "source": [
    "svm_model.predict_proba(x_test)"
   ]
  },
  {
   "cell_type": "code",
   "execution_count": 209,
   "id": "f49db7c3-be2b-41b0-bb4c-d716b5d5d11d",
   "metadata": {},
   "outputs": [
    {
     "data": {
      "text/plain": [
       "'fearful'"
      ]
     },
     "execution_count": 209,
     "metadata": {},
     "output_type": "execute_result"
    }
   ],
   "source": []
  },
  {
   "cell_type": "code",
   "execution_count": 216,
   "id": "7a6f200c-05df-425f-9413-ca15ec4d7a99",
   "metadata": {},
   "outputs": [
    {
     "name": "stdout",
     "output_type": "stream",
     "text": [
      "605\n",
      "1080\n"
     ]
    }
   ],
   "source": [
    "test_predict = svm_model.predict(x_test)\n",
    "# for x in range(len(y_test)):\n",
    "#     print(y_test[x] +\"->\"+test_predict[x])\n",
    "i = 0 \n",
    "for x in range(len(y_test)):\n",
    "    if y_test[x] == test_predict[x]:\n",
    "        i+=1\n",
    "print(i)\n",
    "print(len(y_test))"
   ]
  },
  {
   "cell_type": "code",
   "execution_count": 211,
   "id": "0900f66b-63d9-485d-8d28-1f241ccf7dea",
   "metadata": {},
   "outputs": [
    {
     "data": {
      "text/plain": [
       "array(['angry', 'calm', 'disgust', 'fearful', 'happy', 'neutral', 'sad',\n",
       "       'surprised'], dtype='<U9')"
      ]
     },
     "execution_count": 211,
     "metadata": {},
     "output_type": "execute_result"
    }
   ],
   "source": [
    "svm_model.classes_"
   ]
  },
  {
   "cell_type": "code",
   "execution_count": null,
   "id": "f66a7bcf-ee41-4eb0-afc7-d5f3146cd0d9",
   "metadata": {},
   "outputs": [],
   "source": []
  }
 ],
 "metadata": {
  "kernelspec": {
   "display_name": "Python 3 (ipykernel)",
   "language": "python",
   "name": "python3"
  },
  "language_info": {
   "codemirror_mode": {
    "name": "ipython",
    "version": 3
   },
   "file_extension": ".py",
   "mimetype": "text/x-python",
   "name": "python",
   "nbconvert_exporter": "python",
   "pygments_lexer": "ipython3",
   "version": "3.10.7"
  }
 },
 "nbformat": 4,
 "nbformat_minor": 5
}
